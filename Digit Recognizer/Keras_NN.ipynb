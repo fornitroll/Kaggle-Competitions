{
  "cells": [
    {
      "metadata": {
        "_cell_guid": "2f06c198-f0bd-4615-9af7-254a665c1097",
        "_uuid": "fc6d099bef9cd3e75187cfd73c18dc80fc739eaf"
      },
      "cell_type": "markdown",
      "source": "## Below is a simple Neural Network built with Keras to recognize a handwritten digits"
    },
    {
      "metadata": {
        "_cell_guid": "fe5558fa-6406-43f8-9308-b859d5169268",
        "_uuid": "6d2899d52312f1b9423742b329ab399454fc3ab8",
        "trusted": true
      },
      "cell_type": "code",
      "source": "import numpy as np\nimport pandas as pd\nimport matplotlib.pyplot as plt\nimport seaborn as sns\n%matplotlib inline\nsns.set()\n#Sklearn OneHot Encoder to Encode categorical integer features\nfrom sklearn.preprocessing import OneHotEncoder\n#Sklearn train_test_split to split a set on train and test \n#from sklearn.model_selection import train_test_split\nfrom sklearn.cross_validation import train_test_split\n#Import Keras modules\nfrom keras.models import Sequential\nfrom keras.layers import Dense\nfrom keras.utils import np_utils",
      "execution_count": 3,
      "outputs": [
        {
          "ename": "ImportError",
          "evalue": "No module named 'keras'",
          "output_type": "error",
          "traceback": [
            "\u001b[1;31m---------------------------------------------------------------------------\u001b[0m",
            "\u001b[1;31mImportError\u001b[0m                               Traceback (most recent call last)",
            "\u001b[1;32m<ipython-input-3-d31e5f7ecd43>\u001b[0m in \u001b[0;36m<module>\u001b[1;34m()\u001b[0m\n\u001b[0;32m     11\u001b[0m \u001b[1;32mfrom\u001b[0m \u001b[0msklearn\u001b[0m\u001b[1;33m.\u001b[0m\u001b[0mcross_validation\u001b[0m \u001b[1;32mimport\u001b[0m \u001b[0mtrain_test_split\u001b[0m\u001b[1;33m\u001b[0m\u001b[0m\n\u001b[0;32m     12\u001b[0m \u001b[1;31m#Import Keras modules\u001b[0m\u001b[1;33m\u001b[0m\u001b[1;33m\u001b[0m\u001b[0m\n\u001b[1;32m---> 13\u001b[1;33m \u001b[1;32mfrom\u001b[0m \u001b[0mkeras\u001b[0m\u001b[1;33m.\u001b[0m\u001b[0mmodels\u001b[0m \u001b[1;32mimport\u001b[0m \u001b[0mSequential\u001b[0m\u001b[1;33m\u001b[0m\u001b[0m\n\u001b[0m\u001b[0;32m     14\u001b[0m \u001b[1;32mfrom\u001b[0m \u001b[0mkeras\u001b[0m\u001b[1;33m.\u001b[0m\u001b[0mlayers\u001b[0m \u001b[1;32mimport\u001b[0m \u001b[0mDense\u001b[0m\u001b[1;33m\u001b[0m\u001b[0m\n\u001b[0;32m     15\u001b[0m \u001b[1;32mfrom\u001b[0m \u001b[0mkeras\u001b[0m\u001b[1;33m.\u001b[0m\u001b[0mutils\u001b[0m \u001b[1;32mimport\u001b[0m \u001b[0mnp_utils\u001b[0m\u001b[1;33m\u001b[0m\u001b[0m\n",
            "\u001b[1;31mImportError\u001b[0m: No module named 'keras'"
          ]
        }
      ]
    },
    {
      "metadata": {
        "_cell_guid": "5aad7687-d954-457a-926f-ac38e6048b1c",
        "_uuid": "373b9b6b99095b87f88bf4e0279d32fd7781cfec",
        "collapsed": true,
        "trusted": true
      },
      "cell_type": "code",
      "source": "#Load the training  and test datasets\ntrain = pd.read_csv('../input/train.csv')\ntest = pd.read_csv('../input/test.csv')\ntrain.shape, test.shape",
      "execution_count": null,
      "outputs": []
    },
    {
      "metadata": {
        "_cell_guid": "0305e64f-ba8a-4389-8d44-ad5a29ae9b51",
        "_uuid": "6f17049e163b588ae0b13369469cfed43106c948",
        "collapsed": true,
        "trusted": true
      },
      "cell_type": "code",
      "source": "train.head()",
      "execution_count": null,
      "outputs": []
    },
    {
      "metadata": {
        "_cell_guid": "51c31811-46ce-432d-893d-5c814962e0aa",
        "_uuid": "835bb628bd118dd5ccc622e45c45c23a8e67e9a3",
        "collapsed": true,
        "trusted": true
      },
      "cell_type": "code",
      "source": "trainX = np.array(train.iloc[:,1:])\ntrainY = np.array(train.iloc[:,0]).reshape(-1,1)\n# Plot some digits from training example\nc = np.array([e.tolist() for e in trainX]).reshape(-1,28,28)   # create 3D arrray with digits (42000, 28, 28)\nfig, axes = plt.subplots(10, 10, figsize=(6, 6),\nsubplot_kw={'xticks':[], 'yticks':[]},\ngridspec_kw=dict(hspace=0.1, wspace=0.1))\nfor i, ax in enumerate(axes.flat):\n    ax.imshow(c[i], cmap='binary', interpolation='nearest')\n    ax.text(0.05, 0.05, str(trainY[i]),\n    transform=ax.transAxes, color='green')",
      "execution_count": null,
      "outputs": []
    },
    {
      "metadata": {
        "_cell_guid": "3c40199d-43f3-4447-8079-46a35706d0ea",
        "_uuid": "57cf25d7ad5b815a65ecd8dd205fb2bc6ba44d4f",
        "collapsed": true,
        "trusted": true
      },
      "cell_type": "code",
      "source": "sns.countplot(train.iloc[:,0])",
      "execution_count": null,
      "outputs": []
    },
    {
      "metadata": {
        "_cell_guid": "fe5cabff-496e-45c7-ba18-327a7841e73e",
        "_uuid": "61ec64d40320cda1d51d73c2f669207d64580d5b",
        "collapsed": true,
        "trusted": true
      },
      "cell_type": "code",
      "source": "#Normalization \ntrainX = trainX/255\ntrainX = trainX.astype('float32')\n\ntestX = np.array(test)\n#Normalization\ntestX = testX/255\ntestX = testX.astype('float32')\n\ntrainX.shape, trainY.shape, testX.shape",
      "execution_count": null,
      "outputs": []
    },
    {
      "metadata": {
        "_cell_guid": "e93281e6-84bf-4be0-8d74-ff44048d99ea",
        "_uuid": "632a4bd95ea4ff2351335b0ccb0c7ee8553d9fbb",
        "collapsed": true,
        "trusted": true
      },
      "cell_type": "code",
      "source": "#Encode the Y matrix\nenc = OneHotEncoder(sparse=False) \nY_enc=enc.fit_transform(trainY)\nY_enc.shape",
      "execution_count": null,
      "outputs": []
    },
    {
      "metadata": {
        "_cell_guid": "188274ac-cae0-4f52-8ae5-42e3188fa36a",
        "_uuid": "5687f3f62dd75a3ba9837600b1f8475cd52f8b1c",
        "collapsed": true,
        "trusted": true
      },
      "cell_type": "code",
      "source": "xn_train, xn_test, yn_train, yn_test = train_test_split(trainX, Y_enc, test_size=0.2, random_state=40)\nxn_train.shape, xn_test.shape, yn_train.shape, yn_test.shape",
      "execution_count": null,
      "outputs": []
    },
    {
      "metadata": {
        "_cell_guid": "000fb5f7-a229-4eb0-9646-7d3158e0ba69",
        "_uuid": "3b6e43394f38fc064a3dec19edd1a1379b2de8e4",
        "collapsed": true,
        "trusted": true
      },
      "cell_type": "code",
      "source": "model = Sequential()\nmodel.add(Dense(800, input_dim=784, init='normal',activation='relu')) #init = initial weights\nmodel.add(Dense(10, init = 'normal',activation='softmax'))  #activation='relu' activation function",
      "execution_count": null,
      "outputs": []
    },
    {
      "metadata": {
        "_cell_guid": "45964e36-eaa2-4315-be40-9f51a5eb54dd",
        "_uuid": "4822b8cdb4f2c11d69bbd1f6347d360e3686e976",
        "collapsed": true,
        "trusted": true
      },
      "cell_type": "code",
      "source": "model.compile(loss='categorical_crossentropy',optimizer='SGD', metrics=['accuracy'])\nprint(model.summary())",
      "execution_count": null,
      "outputs": []
    },
    {
      "metadata": {
        "_cell_guid": "1d6a1cb2-a4de-428a-96af-689450bec71e",
        "_uuid": "3d8aab851f390a48337d7a75bf6d6e15b43a9b76",
        "collapsed": true,
        "trusted": true
      },
      "cell_type": "code",
      "source": "model.fit(xn_train, yn_train, batch_size = 300, nb_epoch = 300, verbose = 1) # analyze 200 images, \n#define the gradient direction, change weights,\n#verbose = 1   --- print results for each epoch",
      "execution_count": null,
      "outputs": []
    },
    {
      "metadata": {
        "_cell_guid": "5e4c2c21-1b59-4638-b51c-a45f8aa5e217",
        "_uuid": "ea1fc370b75644909b6294486ffd80a550803fdd",
        "collapsed": true,
        "trusted": true
      },
      "cell_type": "code",
      "source": "prediction = model.predict(xn_test)",
      "execution_count": null,
      "outputs": []
    },
    {
      "metadata": {
        "_cell_guid": "4d7017aa-d275-4f73-941a-c68b42452f5c",
        "_uuid": "63e0411a35ed22537bd026589cf6821d68faf559",
        "collapsed": true,
        "trusted": true
      },
      "cell_type": "code",
      "source": "prediction.shape",
      "execution_count": null,
      "outputs": []
    },
    {
      "metadata": {
        "_cell_guid": "246a1ecd-6297-4d64-a705-71cfbc40724a",
        "_uuid": "d94d9aba1b7e6078b30f08203782221abb1361ac",
        "collapsed": true,
        "trusted": true
      },
      "cell_type": "code",
      "source": "y_pred = np.array(np.argmax(prediction, axis=1)) \ny_pred.shape",
      "execution_count": null,
      "outputs": []
    },
    {
      "metadata": {
        "_cell_guid": "f05626b7-9987-44e3-ab0f-c017d6c538fd",
        "_uuid": "72475157f771e98cd6808e98ea39e310b597f86a",
        "collapsed": true,
        "trusted": true
      },
      "cell_type": "code",
      "source": "y_pred",
      "execution_count": null,
      "outputs": []
    },
    {
      "metadata": {
        "_cell_guid": "100a5e3b-99ea-4c8d-ba2e-1b924fa62963",
        "_uuid": "f9de240bb217db5c4a71f9558bcb9a9665c5cf0f",
        "collapsed": true,
        "trusted": true
      },
      "cell_type": "code",
      "source": "yn_test1 = np.array(np.argmax(yn_test, axis=1)) \nyn_test1",
      "execution_count": null,
      "outputs": []
    },
    {
      "metadata": {
        "_cell_guid": "51b20ad1-3397-469e-b682-c4e929dfa0bc",
        "_uuid": "ee656fe7b9c2b2ec322bf052e0c9b63ab23bfc40",
        "collapsed": true,
        "trusted": true
      },
      "cell_type": "code",
      "source": "def accuracy(model, testX, testY):      #testY is HotEncoded!!\n    m = len(testY)\n    prediction = model.predict(testX)\n    prediction = np.array(np.argmax(prediction, axis=1)) \n    testY = np.array(np.argmax(testY, axis=1))\n    accur = np.array([1 for (a,b) in zip(prediction,testY) if a==b ]).sum()/m\n    return accur, prediction",
      "execution_count": null,
      "outputs": []
    },
    {
      "metadata": {
        "_cell_guid": "1b9f67dc-836d-437f-b45f-5449d832c7a7",
        "_uuid": "82551f3c36aa62e94e284672d80dd6aadfb8a294",
        "collapsed": true,
        "trusted": true
      },
      "cell_type": "code",
      "source": "#Check the accuracy of the test validation data\naccur, prediction = accuracy(model, xn_test, yn_test)\nprint(accur)",
      "execution_count": null,
      "outputs": []
    },
    {
      "metadata": {
        "_cell_guid": "dd0e8843-f8b8-4803-b9c7-fd34635a0431",
        "_uuid": "3d331fc4eefdc5a790fe4fce62e6b6824fa00e33",
        "collapsed": true,
        "trusted": true
      },
      "cell_type": "code",
      "source": "prediction = model.predict(testX)\nprediction = np.array(np.argmax(prediction, axis=1)) ",
      "execution_count": null,
      "outputs": []
    },
    {
      "metadata": {
        "_cell_guid": "3a0df558-054f-4de3-8155-675a515916d6",
        "_uuid": "4a3f7ef38a331936dc71ef5da45973083445c625",
        "collapsed": true,
        "trusted": true
      },
      "cell_type": "code",
      "source": "# Submit the result\n#submission_df = {\"ImageId\": np.linspace(1,len(prediction),len(prediction)).astype(int), \"Label\": prediction}\n#submission = pd.DataFrame(submission_df)",
      "execution_count": null,
      "outputs": []
    },
    {
      "metadata": {
        "_cell_guid": "251a3803-3574-4344-8854-1b717e620093",
        "_uuid": "ef76019992a4d6c3d3f510f1ff562da2ce0cbdc4",
        "collapsed": true,
        "trusted": true
      },
      "cell_type": "code",
      "source": "#submission.to_csv(\"submission_1(NN_Keras).csv\",index=False)",
      "execution_count": null,
      "outputs": []
    }
  ],
  "metadata": {
    "kernelspec": {
      "display_name": "Python 3",
      "language": "python",
      "name": "python3"
    },
    "language_info": {
      "codemirror_mode": {
        "name": "ipython",
        "version": 3
      },
      "file_extension": ".py",
      "mimetype": "text/x-python",
      "name": "python",
      "nbconvert_exporter": "python",
      "pygments_lexer": "ipython3",
      "version": "3.6.4"
    }
  },
  "nbformat": 4,
  "nbformat_minor": 1
}