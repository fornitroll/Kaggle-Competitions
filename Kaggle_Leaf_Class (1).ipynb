{
 "cells": [
  {
   "cell_type": "code",
   "execution_count": 6,
   "metadata": {},
   "outputs": [],
   "source": [
    "#!pip install kaggle\n",
    "#!pip install config-dir"
   ]
  },
  {
   "cell_type": "code",
   "execution_count": 12,
   "metadata": {},
   "outputs": [
    {
     "name": "stdout",
     "output_type": "stream",
     "text": [
      "Traceback (most recent call last):\r\n",
      "  File \"/jet/var/python/bin/kaggle\", line 7, in <module>\r\n",
      "    from kaggle.cli import main\r\n",
      "  File \"/jet/var/python/lib/python3.6/site-packages/kaggle/__init__.py\", line 23, in <module>\r\n",
      "    api.authenticate()\r\n",
      "  File \"/jet/var/python/lib/python3.6/site-packages/kaggle/api/kaggle_api_extended.py\", line 152, in authenticate\r\n",
      "    self._load_config(config_data)\r\n",
      "  File \"/jet/var/python/lib/python3.6/site-packages/kaggle/api/kaggle_api_extended.py\", line 193, in _load_config\r\n",
      "    raise ValueError('Error: Missing %s in configuration.' % item)\r\n",
      "ValueError: Error: Missing username in configuration.\r\n"
     ]
    }
   ],
   "source": [
    "!kaggle datasets download -d lakshmi25npathi/imdb-dataset-of-50k-movie-reviews"
   ]
  },
  {
   "cell_type": "code",
   "execution_count": 1,
   "metadata": {},
   "outputs": [
    {
     "name": "stderr",
     "output_type": "stream",
     "text": [
      "/jet/var/python/lib/python3.6/site-packages/torch/cuda/__init__.py:52: UserWarning: CUDA initialization: Found no NVIDIA driver on your system. Please check that you have an NVIDIA GPU and installed a driver from http://www.nvidia.com/Download/index.aspx (Triggered internally at  /pytorch/c10/cuda/CUDAFunctions.cpp:100.)\n",
      "  return torch._C._cuda_getDeviceCount() > 0\n"
     ]
    }
   ],
   "source": [
    "import os\n",
    "import json\n",
    "import kaggle.api\n",
    "import zipfile # to extract data from zip archive\n",
    "from sklearn.model_selection import StratifiedShuffleSplit\n",
    "\n",
    "from fastai.vision.all import *\n",
    "import pandas as pd\n",
    "\n",
    "from fastai.tabular.all import *\n",
    "\n",
    "import torch"
   ]
  },
  {
   "cell_type": "code",
   "execution_count": 2,
   "metadata": {},
   "outputs": [],
   "source": [
    "pd.options.mode.chained_assignment = None  # default='warn'"
   ]
  },
  {
   "cell_type": "markdown",
   "metadata": {},
   "source": [
    "Links: https://github.com/muellerzr/Practical-Deep-Learning-for-Coders-2.0/blob/master/Tabular%20Notebooks/01_Adults.ipynb\n",
    "Rossman prediciton with fastai https://github.com/muellerzr/Practical-Deep-Learning-for-Coders-2.0/blob/master/Tabular%20Notebooks/02_Regression_and_Permutation_Importance.ipynb"
   ]
  },
  {
   "cell_type": "markdown",
   "metadata": {},
   "source": [
    "### Load data\n",
    "\n",
    "#### from kaggle"
   ]
  },
  {
   "cell_type": "code",
   "execution_count": 13,
   "metadata": {},
   "outputs": [],
   "source": [
    "!mkdir /jet/prs/workspace/Kaggle_Leaf_Classification/.kaggle\n",
    "# create the file kaggle.json in the folder\n",
    "!touch /jet/prs/workspace/Kaggle_Leaf_Classification/.kaggle/kaggle.json\n",
    "# restrict the access to the file in kaggle folder\n",
    "!chmod 600 /jet/prs/workspace/Kaggle_Leaf_Classification/.kaggle/kaggle.json\n",
    "\n",
    "api_token = {\"username\":\"fornitroll\",\"key\":\"f89ce16bfe131d4f027f39748aac27ed\"}\n",
    "with open('/jet/prs/workspace/Kaggle_Leaf_Classification/kaggle/kaggle.json', 'w') as file:\n",
    "    json.dump(api_token, file)"
   ]
  },
  {
   "cell_type": "code",
   "execution_count": 3,
   "metadata": {},
   "outputs": [
    {
     "name": "stdout",
     "output_type": "stream",
     "text": [
      "Downloading leaf-classification.zip to /jet/prs/workspace/Kaggle_Leaf_Classification\n",
      " 96%|████████████████████████████████████▌ | 33.0M/34.3M [00:01<00:00, 26.4MB/s]\n",
      "100%|██████████████████████████████████████| 34.3M/34.3M [00:01<00:00, 28.5MB/s]\n"
     ]
    }
   ],
   "source": [
    "!kaggle competitions download -c leaf-classification"
   ]
  },
  {
   "cell_type": "code",
   "execution_count": 22,
   "metadata": {},
   "outputs": [],
   "source": []
  },
  {
   "cell_type": "code",
   "execution_count": 8,
   "metadata": {},
   "outputs": [],
   "source": []
  },
  {
   "cell_type": "code",
   "execution_count": 8,
   "metadata": {},
   "outputs": [
    {
     "name": "stdout",
     "output_type": "stream",
     "text": [
      "Traceback (most recent call last):\r\n",
      "  File \"/jet/var/python/bin/kaggle\", line 7, in <module>\r\n",
      "    from kaggle.cli import main\r\n",
      "  File \"/jet/var/python/lib/python3.6/site-packages/kaggle/__init__.py\", line 23, in <module>\r\n",
      "    api.authenticate()\r\n",
      "  File \"/jet/var/python/lib/python3.6/site-packages/kaggle/api/kaggle_api_extended.py\", line 166, in authenticate\r\n",
      "    self.config_file, self.config_dir))\r\n",
      "OSError: Could not find kaggle.json. Make sure it's located in /home/jet/.kaggle. Or use the environment method.\r\n"
     ]
    }
   ],
   "source": []
  },
  {
   "cell_type": "code",
   "execution_count": 4,
   "metadata": {},
   "outputs": [
    {
     "ename": "OSError",
     "evalue": "Could not find kaggle.json. Make sure it's located in /home/jet/.kaggle. Or use the environment method.",
     "output_type": "error",
     "traceback": [
      "\u001b[0;31m---------------------------------------------------------------------------\u001b[0m",
      "\u001b[0;31mOSError\u001b[0m                                   Traceback (most recent call last)",
      "\u001b[0;32m<ipython-input-4-fdadb260423a>\u001b[0m in \u001b[0;36m<module>\u001b[0;34m()\u001b[0m\n\u001b[1;32m      7\u001b[0m \u001b[0;32mwith\u001b[0m \u001b[0mopen\u001b[0m\u001b[0;34m(\u001b[0m\u001b[0;34m'/jet/prs/workspace/Kaggle_Leaf_Classification/kaggle/kaggle.json'\u001b[0m\u001b[0;34m,\u001b[0m \u001b[0;34m'w'\u001b[0m\u001b[0;34m)\u001b[0m \u001b[0;32mas\u001b[0m \u001b[0mfile\u001b[0m\u001b[0;34m:\u001b[0m\u001b[0;34m\u001b[0m\u001b[0m\n\u001b[1;32m      8\u001b[0m     \u001b[0mjson\u001b[0m\u001b[0;34m.\u001b[0m\u001b[0mdump\u001b[0m\u001b[0;34m(\u001b[0m\u001b[0mapi_token\u001b[0m\u001b[0;34m,\u001b[0m \u001b[0mfile\u001b[0m\u001b[0;34m)\u001b[0m\u001b[0;34m\u001b[0m\u001b[0m\n\u001b[0;32m----> 9\u001b[0;31m \u001b[0;32mimport\u001b[0m \u001b[0mkaggle\u001b[0m\u001b[0;34m.\u001b[0m\u001b[0mapi\u001b[0m\u001b[0;34m\u001b[0m\u001b[0m\n\u001b[0m\u001b[1;32m     10\u001b[0m \u001b[0mget_ipython\u001b[0m\u001b[0;34m(\u001b[0m\u001b[0;34m)\u001b[0m\u001b[0;34m.\u001b[0m\u001b[0msystem\u001b[0m\u001b[0;34m(\u001b[0m\u001b[0;34m'kaggle competitions download -c leaf-classification'\u001b[0m\u001b[0;34m)\u001b[0m\u001b[0;34m\u001b[0m\u001b[0m\n\u001b[1;32m     11\u001b[0m \u001b[0;34m\u001b[0m\u001b[0m\n",
      "\u001b[0;32m/jet/var/python/lib/python3.6/site-packages/kaggle/__init__.py\u001b[0m in \u001b[0;36m<module>\u001b[0;34m()\u001b[0m\n\u001b[1;32m     21\u001b[0m \u001b[0;34m\u001b[0m\u001b[0m\n\u001b[1;32m     22\u001b[0m \u001b[0mapi\u001b[0m \u001b[0;34m=\u001b[0m \u001b[0mKaggleApi\u001b[0m\u001b[0;34m(\u001b[0m\u001b[0mApiClient\u001b[0m\u001b[0;34m(\u001b[0m\u001b[0;34m)\u001b[0m\u001b[0;34m)\u001b[0m\u001b[0;34m\u001b[0m\u001b[0m\n\u001b[0;32m---> 23\u001b[0;31m \u001b[0mapi\u001b[0m\u001b[0;34m.\u001b[0m\u001b[0mauthenticate\u001b[0m\u001b[0;34m(\u001b[0m\u001b[0;34m)\u001b[0m\u001b[0;34m\u001b[0m\u001b[0m\n\u001b[0m",
      "\u001b[0;32m/jet/var/python/lib/python3.6/site-packages/kaggle/api/kaggle_api_extended.py\u001b[0m in \u001b[0;36mauthenticate\u001b[0;34m(self)\u001b[0m\n\u001b[1;32m    164\u001b[0m                 raise IOError('Could not find {}. Make sure it\\'s located in'\n\u001b[1;32m    165\u001b[0m                               ' {}. Or use the environment method.'.format(\n\u001b[0;32m--> 166\u001b[0;31m                                   self.config_file, self.config_dir))\n\u001b[0m\u001b[1;32m    167\u001b[0m \u001b[0;34m\u001b[0m\u001b[0m\n\u001b[1;32m    168\u001b[0m         \u001b[0;31m# Step 3: load into configuration!\u001b[0m\u001b[0;34m\u001b[0m\u001b[0;34m\u001b[0m\u001b[0m\n",
      "\u001b[0;31mOSError\u001b[0m: Could not find kaggle.json. Make sure it's located in /home/jet/.kaggle. Or use the environment method."
     ]
    }
   ],
   "source": [
    "# extract files\n",
    "zipfile.ZipFile('leaf-classification.zip').extractall(path = \"/jet/prs/workspace/Kaggle_Leaf_Classification/kaggle\")\n",
    "path = Path('kaggle')"
   ]
  },
  {
   "cell_type": "code",
   "execution_count": null,
   "metadata": {},
   "outputs": [],
   "source": [
    "# extact files\n",
    "for i in path.ls():\n",
    "    if '.zip' in i.suffix:\n",
    "        name = i.stem[:-4]\n",
    "        path = \"/jet/prs/workspace/Kaggle_Leaf_Classification/kaggle/data\"\n",
    "        zipfile.ZipFile(i).extractall(path = path)"
   ]
  },
  {
   "cell_type": "markdown",
   "metadata": {},
   "source": [
    "#### if data has been already downloaded"
   ]
  },
  {
   "cell_type": "code",
   "execution_count": 3,
   "metadata": {},
   "outputs": [],
   "source": [
    "path = Path('/jet/prs/workspace/Kaggle_Leaf_Classification/kaggle/data')"
   ]
  },
  {
   "cell_type": "code",
   "execution_count": 4,
   "metadata": {},
   "outputs": [],
   "source": [
    "df_train = pd.read_csv(path/'train.csv')"
   ]
  },
  {
   "cell_type": "code",
   "execution_count": 5,
   "metadata": {},
   "outputs": [
    {
     "data": {
      "text/html": [
       "<div>\n",
       "<style scoped>\n",
       "    .dataframe tbody tr th:only-of-type {\n",
       "        vertical-align: middle;\n",
       "    }\n",
       "\n",
       "    .dataframe tbody tr th {\n",
       "        vertical-align: top;\n",
       "    }\n",
       "\n",
       "    .dataframe thead th {\n",
       "        text-align: right;\n",
       "    }\n",
       "</style>\n",
       "<table border=\"1\" class=\"dataframe\">\n",
       "  <thead>\n",
       "    <tr style=\"text-align: right;\">\n",
       "      <th></th>\n",
       "      <th>id</th>\n",
       "      <th>species</th>\n",
       "      <th>margin1</th>\n",
       "      <th>margin2</th>\n",
       "      <th>margin3</th>\n",
       "      <th>margin4</th>\n",
       "      <th>margin5</th>\n",
       "      <th>margin6</th>\n",
       "      <th>margin7</th>\n",
       "      <th>margin8</th>\n",
       "      <th>...</th>\n",
       "      <th>texture55</th>\n",
       "      <th>texture56</th>\n",
       "      <th>texture57</th>\n",
       "      <th>texture58</th>\n",
       "      <th>texture59</th>\n",
       "      <th>texture60</th>\n",
       "      <th>texture61</th>\n",
       "      <th>texture62</th>\n",
       "      <th>texture63</th>\n",
       "      <th>texture64</th>\n",
       "    </tr>\n",
       "  </thead>\n",
       "  <tbody>\n",
       "    <tr>\n",
       "      <th>0</th>\n",
       "      <td>1</td>\n",
       "      <td>Acer_Opalus</td>\n",
       "      <td>0.007812</td>\n",
       "      <td>0.023438</td>\n",
       "      <td>0.023438</td>\n",
       "      <td>0.003906</td>\n",
       "      <td>0.011719</td>\n",
       "      <td>0.009766</td>\n",
       "      <td>0.027344</td>\n",
       "      <td>0.0</td>\n",
       "      <td>...</td>\n",
       "      <td>0.007812</td>\n",
       "      <td>0.000000</td>\n",
       "      <td>0.002930</td>\n",
       "      <td>0.002930</td>\n",
       "      <td>0.035156</td>\n",
       "      <td>0.00000</td>\n",
       "      <td>0.000000</td>\n",
       "      <td>0.004883</td>\n",
       "      <td>0.000000</td>\n",
       "      <td>0.025391</td>\n",
       "    </tr>\n",
       "    <tr>\n",
       "      <th>1</th>\n",
       "      <td>2</td>\n",
       "      <td>Pterocarya_Stenoptera</td>\n",
       "      <td>0.005859</td>\n",
       "      <td>0.000000</td>\n",
       "      <td>0.031250</td>\n",
       "      <td>0.015625</td>\n",
       "      <td>0.025391</td>\n",
       "      <td>0.001953</td>\n",
       "      <td>0.019531</td>\n",
       "      <td>0.0</td>\n",
       "      <td>...</td>\n",
       "      <td>0.000977</td>\n",
       "      <td>0.000000</td>\n",
       "      <td>0.000000</td>\n",
       "      <td>0.000977</td>\n",
       "      <td>0.023438</td>\n",
       "      <td>0.00000</td>\n",
       "      <td>0.000000</td>\n",
       "      <td>0.000977</td>\n",
       "      <td>0.039062</td>\n",
       "      <td>0.022461</td>\n",
       "    </tr>\n",
       "    <tr>\n",
       "      <th>2</th>\n",
       "      <td>3</td>\n",
       "      <td>Quercus_Hartwissiana</td>\n",
       "      <td>0.005859</td>\n",
       "      <td>0.009766</td>\n",
       "      <td>0.019531</td>\n",
       "      <td>0.007812</td>\n",
       "      <td>0.003906</td>\n",
       "      <td>0.005859</td>\n",
       "      <td>0.068359</td>\n",
       "      <td>0.0</td>\n",
       "      <td>...</td>\n",
       "      <td>0.154300</td>\n",
       "      <td>0.000000</td>\n",
       "      <td>0.005859</td>\n",
       "      <td>0.000977</td>\n",
       "      <td>0.007812</td>\n",
       "      <td>0.00000</td>\n",
       "      <td>0.000000</td>\n",
       "      <td>0.000000</td>\n",
       "      <td>0.020508</td>\n",
       "      <td>0.002930</td>\n",
       "    </tr>\n",
       "    <tr>\n",
       "      <th>3</th>\n",
       "      <td>5</td>\n",
       "      <td>Tilia_Tomentosa</td>\n",
       "      <td>0.000000</td>\n",
       "      <td>0.003906</td>\n",
       "      <td>0.023438</td>\n",
       "      <td>0.005859</td>\n",
       "      <td>0.021484</td>\n",
       "      <td>0.019531</td>\n",
       "      <td>0.023438</td>\n",
       "      <td>0.0</td>\n",
       "      <td>...</td>\n",
       "      <td>0.000000</td>\n",
       "      <td>0.000977</td>\n",
       "      <td>0.000000</td>\n",
       "      <td>0.000000</td>\n",
       "      <td>0.020508</td>\n",
       "      <td>0.00000</td>\n",
       "      <td>0.000000</td>\n",
       "      <td>0.017578</td>\n",
       "      <td>0.000000</td>\n",
       "      <td>0.047852</td>\n",
       "    </tr>\n",
       "    <tr>\n",
       "      <th>4</th>\n",
       "      <td>6</td>\n",
       "      <td>Quercus_Variabilis</td>\n",
       "      <td>0.005859</td>\n",
       "      <td>0.003906</td>\n",
       "      <td>0.048828</td>\n",
       "      <td>0.009766</td>\n",
       "      <td>0.013672</td>\n",
       "      <td>0.015625</td>\n",
       "      <td>0.005859</td>\n",
       "      <td>0.0</td>\n",
       "      <td>...</td>\n",
       "      <td>0.096680</td>\n",
       "      <td>0.000000</td>\n",
       "      <td>0.021484</td>\n",
       "      <td>0.000000</td>\n",
       "      <td>0.000000</td>\n",
       "      <td>0.00000</td>\n",
       "      <td>0.000000</td>\n",
       "      <td>0.000000</td>\n",
       "      <td>0.000000</td>\n",
       "      <td>0.031250</td>\n",
       "    </tr>\n",
       "    <tr>\n",
       "      <th>5</th>\n",
       "      <td>8</td>\n",
       "      <td>Magnolia_Salicifolia</td>\n",
       "      <td>0.070312</td>\n",
       "      <td>0.093750</td>\n",
       "      <td>0.033203</td>\n",
       "      <td>0.001953</td>\n",
       "      <td>0.000000</td>\n",
       "      <td>0.152340</td>\n",
       "      <td>0.007812</td>\n",
       "      <td>0.0</td>\n",
       "      <td>...</td>\n",
       "      <td>0.145510</td>\n",
       "      <td>0.000000</td>\n",
       "      <td>0.041992</td>\n",
       "      <td>0.000000</td>\n",
       "      <td>0.005859</td>\n",
       "      <td>0.00000</td>\n",
       "      <td>0.000000</td>\n",
       "      <td>0.000000</td>\n",
       "      <td>0.001953</td>\n",
       "      <td>0.013672</td>\n",
       "    </tr>\n",
       "    <tr>\n",
       "      <th>6</th>\n",
       "      <td>10</td>\n",
       "      <td>Quercus_Canariensis</td>\n",
       "      <td>0.021484</td>\n",
       "      <td>0.031250</td>\n",
       "      <td>0.017578</td>\n",
       "      <td>0.009766</td>\n",
       "      <td>0.001953</td>\n",
       "      <td>0.042969</td>\n",
       "      <td>0.039062</td>\n",
       "      <td>0.0</td>\n",
       "      <td>...</td>\n",
       "      <td>0.085938</td>\n",
       "      <td>0.000000</td>\n",
       "      <td>0.040039</td>\n",
       "      <td>0.000000</td>\n",
       "      <td>0.009766</td>\n",
       "      <td>0.00000</td>\n",
       "      <td>0.000000</td>\n",
       "      <td>0.000000</td>\n",
       "      <td>0.039062</td>\n",
       "      <td>0.003906</td>\n",
       "    </tr>\n",
       "    <tr>\n",
       "      <th>7</th>\n",
       "      <td>11</td>\n",
       "      <td>Quercus_Rubra</td>\n",
       "      <td>0.000000</td>\n",
       "      <td>0.000000</td>\n",
       "      <td>0.037109</td>\n",
       "      <td>0.050781</td>\n",
       "      <td>0.003906</td>\n",
       "      <td>0.000000</td>\n",
       "      <td>0.003906</td>\n",
       "      <td>0.0</td>\n",
       "      <td>...</td>\n",
       "      <td>0.038086</td>\n",
       "      <td>0.025391</td>\n",
       "      <td>0.009766</td>\n",
       "      <td>0.002930</td>\n",
       "      <td>0.021484</td>\n",
       "      <td>0.00000</td>\n",
       "      <td>0.037109</td>\n",
       "      <td>0.006836</td>\n",
       "      <td>0.002930</td>\n",
       "      <td>0.036133</td>\n",
       "    </tr>\n",
       "    <tr>\n",
       "      <th>8</th>\n",
       "      <td>14</td>\n",
       "      <td>Quercus_Brantii</td>\n",
       "      <td>0.005859</td>\n",
       "      <td>0.001953</td>\n",
       "      <td>0.033203</td>\n",
       "      <td>0.015625</td>\n",
       "      <td>0.001953</td>\n",
       "      <td>0.000000</td>\n",
       "      <td>0.023438</td>\n",
       "      <td>0.0</td>\n",
       "      <td>...</td>\n",
       "      <td>0.000000</td>\n",
       "      <td>0.000000</td>\n",
       "      <td>0.008789</td>\n",
       "      <td>0.000000</td>\n",
       "      <td>0.017578</td>\n",
       "      <td>0.00000</td>\n",
       "      <td>0.000000</td>\n",
       "      <td>0.000977</td>\n",
       "      <td>0.033203</td>\n",
       "      <td>0.074219</td>\n",
       "    </tr>\n",
       "    <tr>\n",
       "      <th>9</th>\n",
       "      <td>15</td>\n",
       "      <td>Salix_Fragilis</td>\n",
       "      <td>0.000000</td>\n",
       "      <td>0.000000</td>\n",
       "      <td>0.009766</td>\n",
       "      <td>0.037109</td>\n",
       "      <td>0.072266</td>\n",
       "      <td>0.000000</td>\n",
       "      <td>0.000000</td>\n",
       "      <td>0.0</td>\n",
       "      <td>...</td>\n",
       "      <td>0.000000</td>\n",
       "      <td>0.000000</td>\n",
       "      <td>0.000000</td>\n",
       "      <td>0.070312</td>\n",
       "      <td>0.013672</td>\n",
       "      <td>0.19238</td>\n",
       "      <td>0.000000</td>\n",
       "      <td>0.074219</td>\n",
       "      <td>0.000000</td>\n",
       "      <td>0.000000</td>\n",
       "    </tr>\n",
       "  </tbody>\n",
       "</table>\n",
       "<p>10 rows × 194 columns</p>\n",
       "</div>"
      ],
      "text/plain": [
       "   id                species   margin1   margin2   margin3   margin4  \\\n",
       "0   1            Acer_Opalus  0.007812  0.023438  0.023438  0.003906   \n",
       "1   2  Pterocarya_Stenoptera  0.005859  0.000000  0.031250  0.015625   \n",
       "2   3   Quercus_Hartwissiana  0.005859  0.009766  0.019531  0.007812   \n",
       "3   5        Tilia_Tomentosa  0.000000  0.003906  0.023438  0.005859   \n",
       "4   6     Quercus_Variabilis  0.005859  0.003906  0.048828  0.009766   \n",
       "5   8   Magnolia_Salicifolia  0.070312  0.093750  0.033203  0.001953   \n",
       "6  10    Quercus_Canariensis  0.021484  0.031250  0.017578  0.009766   \n",
       "7  11          Quercus_Rubra  0.000000  0.000000  0.037109  0.050781   \n",
       "8  14        Quercus_Brantii  0.005859  0.001953  0.033203  0.015625   \n",
       "9  15         Salix_Fragilis  0.000000  0.000000  0.009766  0.037109   \n",
       "\n",
       "    margin5   margin6   margin7  margin8  ...  texture55  texture56  \\\n",
       "0  0.011719  0.009766  0.027344      0.0  ...   0.007812   0.000000   \n",
       "1  0.025391  0.001953  0.019531      0.0  ...   0.000977   0.000000   \n",
       "2  0.003906  0.005859  0.068359      0.0  ...   0.154300   0.000000   \n",
       "3  0.021484  0.019531  0.023438      0.0  ...   0.000000   0.000977   \n",
       "4  0.013672  0.015625  0.005859      0.0  ...   0.096680   0.000000   \n",
       "5  0.000000  0.152340  0.007812      0.0  ...   0.145510   0.000000   \n",
       "6  0.001953  0.042969  0.039062      0.0  ...   0.085938   0.000000   \n",
       "7  0.003906  0.000000  0.003906      0.0  ...   0.038086   0.025391   \n",
       "8  0.001953  0.000000  0.023438      0.0  ...   0.000000   0.000000   \n",
       "9  0.072266  0.000000  0.000000      0.0  ...   0.000000   0.000000   \n",
       "\n",
       "   texture57  texture58  texture59  texture60  texture61  texture62  \\\n",
       "0   0.002930   0.002930   0.035156    0.00000   0.000000   0.004883   \n",
       "1   0.000000   0.000977   0.023438    0.00000   0.000000   0.000977   \n",
       "2   0.005859   0.000977   0.007812    0.00000   0.000000   0.000000   \n",
       "3   0.000000   0.000000   0.020508    0.00000   0.000000   0.017578   \n",
       "4   0.021484   0.000000   0.000000    0.00000   0.000000   0.000000   \n",
       "5   0.041992   0.000000   0.005859    0.00000   0.000000   0.000000   \n",
       "6   0.040039   0.000000   0.009766    0.00000   0.000000   0.000000   \n",
       "7   0.009766   0.002930   0.021484    0.00000   0.037109   0.006836   \n",
       "8   0.008789   0.000000   0.017578    0.00000   0.000000   0.000977   \n",
       "9   0.000000   0.070312   0.013672    0.19238   0.000000   0.074219   \n",
       "\n",
       "   texture63  texture64  \n",
       "0   0.000000   0.025391  \n",
       "1   0.039062   0.022461  \n",
       "2   0.020508   0.002930  \n",
       "3   0.000000   0.047852  \n",
       "4   0.000000   0.031250  \n",
       "5   0.001953   0.013672  \n",
       "6   0.039062   0.003906  \n",
       "7   0.002930   0.036133  \n",
       "8   0.033203   0.074219  \n",
       "9   0.000000   0.000000  \n",
       "\n",
       "[10 rows x 194 columns]"
      ]
     },
     "execution_count": 5,
     "metadata": {},
     "output_type": "execute_result"
    }
   ],
   "source": [
    "df_train.head(10)"
   ]
  },
  {
   "cell_type": "code",
   "execution_count": 6,
   "metadata": {},
   "outputs": [
    {
     "data": {
      "text/plain": [
       "(99, 990)"
      ]
     },
     "execution_count": 6,
     "metadata": {},
     "output_type": "execute_result"
    }
   ],
   "source": [
    "len(df_train.species.unique()), len(df_train)"
   ]
  },
  {
   "cell_type": "code",
   "execution_count": 7,
   "metadata": {
    "scrolled": true
   },
   "outputs": [],
   "source": [
    "# check that there is 10 img per class\n",
    "for i in df_train.species.unique():\n",
    "    if len(df_train[df_train.species==i])!=10:\n",
    "        print('for class {} there is not 10'.format(i))\n",
    "        break"
   ]
  },
  {
   "cell_type": "code",
   "execution_count": 13,
   "metadata": {},
   "outputs": [],
   "source": [
    "# split the data\n",
    "TEST_SIZE=0.2\n",
    "\n",
    "df_train['is_valid']=int(0)\n",
    "sss = StratifiedShuffleSplit(n_splits=1, test_size=TEST_SIZE, random_state=0)\n",
    "for train_index, test_index in sss.split(df_train.id.values, df_train.species.values): \n",
    "    df_train['is_valid'].iloc[test_index]=int(1)"
   ]
  },
  {
   "cell_type": "code",
   "execution_count": 14,
   "metadata": {},
   "outputs": [
    {
     "data": {
      "text/html": [
       "<div>\n",
       "<style scoped>\n",
       "    .dataframe tbody tr th:only-of-type {\n",
       "        vertical-align: middle;\n",
       "    }\n",
       "\n",
       "    .dataframe tbody tr th {\n",
       "        vertical-align: top;\n",
       "    }\n",
       "\n",
       "    .dataframe thead th {\n",
       "        text-align: right;\n",
       "    }\n",
       "</style>\n",
       "<table border=\"1\" class=\"dataframe\">\n",
       "  <thead>\n",
       "    <tr style=\"text-align: right;\">\n",
       "      <th></th>\n",
       "      <th>id</th>\n",
       "      <th>species</th>\n",
       "      <th>is_valid</th>\n",
       "    </tr>\n",
       "  </thead>\n",
       "  <tbody>\n",
       "    <tr>\n",
       "      <th>412</th>\n",
       "      <td>676</td>\n",
       "      <td>Sorbus_Aria</td>\n",
       "      <td>0</td>\n",
       "    </tr>\n",
       "    <tr>\n",
       "      <th>435</th>\n",
       "      <td>714</td>\n",
       "      <td>Sorbus_Aria</td>\n",
       "      <td>0</td>\n",
       "    </tr>\n",
       "    <tr>\n",
       "      <th>452</th>\n",
       "      <td>741</td>\n",
       "      <td>Sorbus_Aria</td>\n",
       "      <td>0</td>\n",
       "    </tr>\n",
       "    <tr>\n",
       "      <th>491</th>\n",
       "      <td>798</td>\n",
       "      <td>Sorbus_Aria</td>\n",
       "      <td>0</td>\n",
       "    </tr>\n",
       "    <tr>\n",
       "      <th>541</th>\n",
       "      <td>867</td>\n",
       "      <td>Sorbus_Aria</td>\n",
       "      <td>1</td>\n",
       "    </tr>\n",
       "    <tr>\n",
       "      <th>721</th>\n",
       "      <td>1160</td>\n",
       "      <td>Sorbus_Aria</td>\n",
       "      <td>0</td>\n",
       "    </tr>\n",
       "    <tr>\n",
       "      <th>734</th>\n",
       "      <td>1176</td>\n",
       "      <td>Sorbus_Aria</td>\n",
       "      <td>1</td>\n",
       "    </tr>\n",
       "    <tr>\n",
       "      <th>745</th>\n",
       "      <td>1200</td>\n",
       "      <td>Sorbus_Aria</td>\n",
       "      <td>0</td>\n",
       "    </tr>\n",
       "    <tr>\n",
       "      <th>790</th>\n",
       "      <td>1269</td>\n",
       "      <td>Sorbus_Aria</td>\n",
       "      <td>0</td>\n",
       "    </tr>\n",
       "    <tr>\n",
       "      <th>872</th>\n",
       "      <td>1395</td>\n",
       "      <td>Sorbus_Aria</td>\n",
       "      <td>0</td>\n",
       "    </tr>\n",
       "  </tbody>\n",
       "</table>\n",
       "</div>"
      ],
      "text/plain": [
       "       id      species  is_valid\n",
       "412   676  Sorbus_Aria         0\n",
       "435   714  Sorbus_Aria         0\n",
       "452   741  Sorbus_Aria         0\n",
       "491   798  Sorbus_Aria         0\n",
       "541   867  Sorbus_Aria         1\n",
       "721  1160  Sorbus_Aria         0\n",
       "734  1176  Sorbus_Aria         1\n",
       "745  1200  Sorbus_Aria         0\n",
       "790  1269  Sorbus_Aria         0\n",
       "872  1395  Sorbus_Aria         0"
      ]
     },
     "execution_count": 14,
     "metadata": {},
     "output_type": "execute_result"
    }
   ],
   "source": [
    "# show that the numberr of validation samples as we prescribed above\n",
    "df_train[['id', 'species','is_valid']][df_train.species==i]"
   ]
  },
  {
   "cell_type": "code",
   "execution_count": 15,
   "metadata": {},
   "outputs": [
    {
     "data": {
      "text/plain": [
       "Path('/jet/prs/workspace/Kaggle_Leaf_Classification/kaggle/data')"
      ]
     },
     "execution_count": 15,
     "metadata": {},
     "output_type": "execute_result"
    }
   ],
   "source": [
    "path"
   ]
  },
  {
   "cell_type": "code",
   "execution_count": 16,
   "metadata": {},
   "outputs": [],
   "source": [
    "def get_x(r): return path/'images'/(str(r['id'])+('.jpg'))\n",
    "def get_y(r): return r['species']"
   ]
  },
  {
   "cell_type": "code",
   "execution_count": 17,
   "metadata": {},
   "outputs": [],
   "source": [
    "# splits is based on the value in the is_valid column\n",
    "cond = df_train.is_valid==0\n",
    "train_idx = np.where(cond)[0]\n",
    "valid_idx = np.where(~cond)[0]\n",
    "\n",
    "splits = (list(train_idx),list(valid_idx))"
   ]
  },
  {
   "cell_type": "markdown",
   "metadata": {},
   "source": [
    "## Transfer learning (resnet18)\n",
    "\n",
    "### DataBlock"
   ]
  },
  {
   "cell_type": "code",
   "execution_count": 64,
   "metadata": {},
   "outputs": [],
   "source": [
    "# compose a DataBlock\n",
    "dblock = DataBlock(blocks=(ImageBlock(cls=PILImageBW), CategoryBlock), # cls=PILImageBW -- make a one chanal picture-tensor\n",
    "                   get_x=get_x, \n",
    "                   get_y=get_y,\n",
    "                   item_tfms=Resize(64, ResizeMethod.Squish),\n",
    "                   splitter = splits #ColSplitter(col = 'is_valid'),\n",
    "                    #batch_tfms = RandomResizedCrop(28, min_scale=0.8)\n",
    "                  )\n",
    "#dls = dblock.dataloaders(df_train)"
   ]
  },
  {
   "cell_type": "code",
   "execution_count": 61,
   "metadata": {},
   "outputs": [
    {
     "data": {
      "text/plain": [
       "(#990) [(PILImageBW mode=L size=526x467, TensorCategory(3)),(PILImageBW mode=L size=667x251, TensorCategory(49)),(PILImageBW mode=L size=691x456, TensorCategory(65)),(PILImageBW mode=L size=505x466, TensorCategory(94)),(PILImageBW mode=L size=771x331, TensorCategory(84)),(PILImageBW mode=L size=825x449, TensorCategory(40)),(PILImageBW mode=L size=858x363, TensorCategory(54)),(PILImageBW mode=L size=938x766, TensorCategory(78)),(PILImageBW mode=L size=726x324, TensorCategory(53)),(PILImageBW mode=L size=1101x275, TensorCategory(89))...]"
      ]
     },
     "execution_count": 61,
     "metadata": {},
     "output_type": "execute_result"
    }
   ],
   "source": [
    "dblock.datasets(df_train)"
   ]
  },
  {
   "cell_type": "code",
   "execution_count": 60,
   "metadata": {},
   "outputs": [],
   "source": [
    "??DataBlock"
   ]
  },
  {
   "cell_type": "code",
   "execution_count": null,
   "metadata": {},
   "outputs": [],
   "source": []
  },
  {
   "cell_type": "code",
   "execution_count": 39,
   "metadata": {},
   "outputs": [
    {
     "data": {
      "image/png": "[encoded data removed]",
      "text/plain": [
       "<Figure size 864x216 with 4 Axes>"
      ]
     },
     "metadata": {
      "needs_background": "light"
     },
     "output_type": "display_data"
    }
   ],
   "source": [
    "dls.show_batch(nrows=1, ncols=4)"
   ]
  },
  {
   "cell_type": "code",
   "execution_count": 40,
   "metadata": {},
   "outputs": [
    {
     "data": {
      "text/plain": [
       "torch.Size([64, 1, 64, 64])"
      ]
     },
     "execution_count": 40,
     "metadata": {},
     "output_type": "execute_result"
    }
   ],
   "source": [
    "xb,yb = first(dls.valid)\n",
    "xb.shape"
   ]
  },
  {
   "cell_type": "code",
   "execution_count": null,
   "metadata": {},
   "outputs": [],
   "source": []
  },
  {
   "cell_type": "markdown",
   "metadata": {},
   "source": [
    "### Model"
   ]
  },
  {
   "cell_type": "code",
   "execution_count": 65,
   "metadata": {
    "scrolled": true
   },
   "outputs": [],
   "source": [
    "learn = cnn_learner(dls, resnet18, pretrained=True, metrics=error_rate)"
   ]
  },
  {
   "cell_type": "code",
   "execution_count": 66,
   "metadata": {},
   "outputs": [
    {
     "data": {
      "text/html": [
       "<table border=\"1\" class=\"dataframe\">\n",
       "  <thead>\n",
       "    <tr style=\"text-align: left;\">\n",
       "      <th>epoch</th>\n",
       "      <th>train_loss</th>\n",
       "      <th>valid_loss</th>\n",
       "      <th>error_rate</th>\n",
       "      <th>time</th>\n",
       "    </tr>\n",
       "  </thead>\n",
       "  <tbody>\n",
       "    <tr>\n",
       "      <td>0</td>\n",
       "      <td>6.198908</td>\n",
       "      <td>4.727303</td>\n",
       "      <td>0.942761</td>\n",
       "      <td>00:04</td>\n",
       "    </tr>\n",
       "  </tbody>\n",
       "</table>"
      ],
      "text/plain": [
       "<IPython.core.display.HTML object>"
      ]
     },
     "metadata": {},
     "output_type": "display_data"
    },
    {
     "data": {
      "text/html": [
       "<table border=\"1\" class=\"dataframe\">\n",
       "  <thead>\n",
       "    <tr style=\"text-align: left;\">\n",
       "      <th>epoch</th>\n",
       "      <th>train_loss</th>\n",
       "      <th>valid_loss</th>\n",
       "      <th>error_rate</th>\n",
       "      <th>time</th>\n",
       "    </tr>\n",
       "  </thead>\n",
       "  <tbody>\n",
       "    <tr>\n",
       "      <td>0</td>\n",
       "      <td>4.318278</td>\n",
       "      <td>3.948952</td>\n",
       "      <td>0.875421</td>\n",
       "      <td>00:06</td>\n",
       "    </tr>\n",
       "    <tr>\n",
       "      <td>1</td>\n",
       "      <td>3.442172</td>\n",
       "      <td>3.061247</td>\n",
       "      <td>0.690236</td>\n",
       "      <td>00:06</td>\n",
       "    </tr>\n",
       "    <tr>\n",
       "      <td>2</td>\n",
       "      <td>2.653907</td>\n",
       "      <td>2.315929</td>\n",
       "      <td>0.528620</td>\n",
       "      <td>00:06</td>\n",
       "    </tr>\n",
       "    <tr>\n",
       "      <td>3</td>\n",
       "      <td>2.069474</td>\n",
       "      <td>1.718117</td>\n",
       "      <td>0.390572</td>\n",
       "      <td>00:06</td>\n",
       "    </tr>\n",
       "    <tr>\n",
       "      <td>4</td>\n",
       "      <td>1.691007</td>\n",
       "      <td>1.436877</td>\n",
       "      <td>0.323232</td>\n",
       "      <td>00:06</td>\n",
       "    </tr>\n",
       "  </tbody>\n",
       "</table>"
      ],
      "text/plain": [
       "<IPython.core.display.HTML object>"
      ]
     },
     "metadata": {},
     "output_type": "display_data"
    }
   ],
   "source": [
    "learn.fine_tune(5)"
   ]
  },
  {
   "cell_type": "code",
   "execution_count": 43,
   "metadata": {},
   "outputs": [
    {
     "data": {
      "text/html": [],
      "text/plain": [
       "<IPython.core.display.HTML object>"
      ]
     },
     "metadata": {},
     "output_type": "display_data"
    },
    {
     "data": {
      "text/plain": [
       "SuggestedLRs(lr_min=3.311311302240938e-05, lr_steep=2.2908675418875646e-06)"
      ]
     },
     "execution_count": 43,
     "metadata": {},
     "output_type": "execute_result"
    },
    {
     "data": {
      "image/png": "[encoded data removed]",
      "text/plain": [
       "<Figure size 432x288 with 1 Axes>"
      ]
     },
     "metadata": {
      "needs_background": "light"
     },
     "output_type": "display_data"
    }
   ],
   "source": [
    "learn.lr_find()"
   ]
  },
  {
   "cell_type": "code",
   "execution_count": 68,
   "metadata": {},
   "outputs": [
    {
     "data": {
      "text/html": [
       "<table border=\"1\" class=\"dataframe\">\n",
       "  <thead>\n",
       "    <tr style=\"text-align: left;\">\n",
       "      <th>epoch</th>\n",
       "      <th>train_loss</th>\n",
       "      <th>valid_loss</th>\n",
       "      <th>error_rate</th>\n",
       "      <th>time</th>\n",
       "    </tr>\n",
       "  </thead>\n",
       "  <tbody>\n",
       "    <tr>\n",
       "      <td>0</td>\n",
       "      <td>0.513608</td>\n",
       "      <td>1.153535</td>\n",
       "      <td>0.296296</td>\n",
       "      <td>00:05</td>\n",
       "    </tr>\n",
       "  </tbody>\n",
       "</table>"
      ],
      "text/plain": [
       "<IPython.core.display.HTML object>"
      ]
     },
     "metadata": {},
     "output_type": "display_data"
    },
    {
     "data": {
      "text/html": [
       "<table border=\"1\" class=\"dataframe\">\n",
       "  <thead>\n",
       "    <tr style=\"text-align: left;\">\n",
       "      <th>epoch</th>\n",
       "      <th>train_loss</th>\n",
       "      <th>valid_loss</th>\n",
       "      <th>error_rate</th>\n",
       "      <th>time</th>\n",
       "    </tr>\n",
       "  </thead>\n",
       "  <tbody>\n",
       "    <tr>\n",
       "      <td>0</td>\n",
       "      <td>0.428372</td>\n",
       "      <td>1.099124</td>\n",
       "      <td>0.252525</td>\n",
       "      <td>00:06</td>\n",
       "    </tr>\n",
       "    <tr>\n",
       "      <td>1</td>\n",
       "      <td>0.370203</td>\n",
       "      <td>1.016684</td>\n",
       "      <td>0.235690</td>\n",
       "      <td>00:06</td>\n",
       "    </tr>\n",
       "    <tr>\n",
       "      <td>2</td>\n",
       "      <td>0.303974</td>\n",
       "      <td>0.894478</td>\n",
       "      <td>0.222222</td>\n",
       "      <td>00:06</td>\n",
       "    </tr>\n",
       "    <tr>\n",
       "      <td>3</td>\n",
       "      <td>0.259054</td>\n",
       "      <td>0.844130</td>\n",
       "      <td>0.208754</td>\n",
       "      <td>00:06</td>\n",
       "    </tr>\n",
       "    <tr>\n",
       "      <td>4</td>\n",
       "      <td>0.229852</td>\n",
       "      <td>0.835003</td>\n",
       "      <td>0.212121</td>\n",
       "      <td>00:06</td>\n",
       "    </tr>\n",
       "  </tbody>\n",
       "</table>"
      ],
      "text/plain": [
       "<IPython.core.display.HTML object>"
      ]
     },
     "metadata": {},
     "output_type": "display_data"
    }
   ],
   "source": [
    "learn.fine_tune(5, lr=1e-4)"
   ]
  },
  {
   "cell_type": "code",
   "execution_count": null,
   "metadata": {},
   "outputs": [],
   "source": []
  },
  {
   "cell_type": "markdown",
   "metadata": {},
   "source": [
    "### Transfer learning with data augmentation"
   ]
  },
  {
   "cell_type": "code",
   "execution_count": 41,
   "metadata": {},
   "outputs": [],
   "source": [
    "# compose a DataBlock\n",
    "dblock = DataBlock(blocks=(ImageBlock(cls=PILImageBW), CategoryBlock), # cls=PILImageBW -- make a one chanal picture-tensor\n",
    "                   get_x=get_x, \n",
    "                   get_y=get_y,\n",
    "                   item_tfms=Resize(32, ResizeMethod.Squish),\n",
    "                   batch_tfms=aug_transforms(),\n",
    "                   splitter = ColSplitter(col = 'is_valid'),\n",
    "                   #batch_tfms = RandomResizedCrop(28, min_scale=0.8)\n",
    "                  )\n",
    "dls = dblock.dataloaders(df_train)"
   ]
  },
  {
   "cell_type": "code",
   "execution_count": 42,
   "metadata": {},
   "outputs": [
    {
     "data": {
      "image/png": "[encoded data removed]",
      "text/plain": [
       "<Figure size 864x216 with 4 Axes>"
      ]
     },
     "metadata": {
      "needs_background": "light"
     },
     "output_type": "display_data"
    }
   ],
   "source": [
    "dls.show_batch(nrows=1, ncols=4)"
   ]
  },
  {
   "cell_type": "code",
   "execution_count": 20,
   "metadata": {},
   "outputs": [],
   "source": [
    "learn = cnn_learner(dls, resnet18, pretrained=True, metrics=error_rate)"
   ]
  },
  {
   "cell_type": "code",
   "execution_count": 21,
   "metadata": {},
   "outputs": [
    {
     "data": {
      "text/html": [
       "<table border=\"1\" class=\"dataframe\">\n",
       "  <thead>\n",
       "    <tr style=\"text-align: left;\">\n",
       "      <th>epoch</th>\n",
       "      <th>train_loss</th>\n",
       "      <th>valid_loss</th>\n",
       "      <th>error_rate</th>\n",
       "      <th>time</th>\n",
       "    </tr>\n",
       "  </thead>\n",
       "  <tbody>\n",
       "    <tr>\n",
       "      <td>0</td>\n",
       "      <td>6.361978</td>\n",
       "      <td>4.810787</td>\n",
       "      <td>0.992424</td>\n",
       "      <td>00:02</td>\n",
       "    </tr>\n",
       "  </tbody>\n",
       "</table>"
      ],
      "text/plain": [
       "<IPython.core.display.HTML object>"
      ]
     },
     "metadata": {},
     "output_type": "display_data"
    },
    {
     "data": {
      "text/html": [
       "<table border=\"1\" class=\"dataframe\">\n",
       "  <thead>\n",
       "    <tr style=\"text-align: left;\">\n",
       "      <th>epoch</th>\n",
       "      <th>train_loss</th>\n",
       "      <th>valid_loss</th>\n",
       "      <th>error_rate</th>\n",
       "      <th>time</th>\n",
       "    </tr>\n",
       "  </thead>\n",
       "  <tbody>\n",
       "    <tr>\n",
       "      <td>0</td>\n",
       "      <td>5.585581</td>\n",
       "      <td>4.683559</td>\n",
       "      <td>0.979798</td>\n",
       "      <td>00:04</td>\n",
       "    </tr>\n",
       "    <tr>\n",
       "      <td>1</td>\n",
       "      <td>5.267330</td>\n",
       "      <td>4.442887</td>\n",
       "      <td>0.929293</td>\n",
       "      <td>00:04</td>\n",
       "    </tr>\n",
       "    <tr>\n",
       "      <td>2</td>\n",
       "      <td>4.950541</td>\n",
       "      <td>4.063559</td>\n",
       "      <td>0.858586</td>\n",
       "      <td>00:04</td>\n",
       "    </tr>\n",
       "    <tr>\n",
       "      <td>3</td>\n",
       "      <td>4.668368</td>\n",
       "      <td>3.783514</td>\n",
       "      <td>0.820707</td>\n",
       "      <td>00:04</td>\n",
       "    </tr>\n",
       "    <tr>\n",
       "      <td>4</td>\n",
       "      <td>4.467056</td>\n",
       "      <td>3.472573</td>\n",
       "      <td>0.772727</td>\n",
       "      <td>00:04</td>\n",
       "    </tr>\n",
       "  </tbody>\n",
       "</table>"
      ],
      "text/plain": [
       "<IPython.core.display.HTML object>"
      ]
     },
     "metadata": {},
     "output_type": "display_data"
    }
   ],
   "source": [
    "learn.fine_tune(5)"
   ]
  },
  {
   "cell_type": "code",
   "execution_count": 22,
   "metadata": {},
   "outputs": [
    {
     "data": {
      "text/html": [
       "<table border=\"1\" class=\"dataframe\">\n",
       "  <thead>\n",
       "    <tr style=\"text-align: left;\">\n",
       "      <th>epoch</th>\n",
       "      <th>train_loss</th>\n",
       "      <th>valid_loss</th>\n",
       "      <th>error_rate</th>\n",
       "      <th>time</th>\n",
       "    </tr>\n",
       "  </thead>\n",
       "  <tbody>\n",
       "    <tr>\n",
       "      <td>0</td>\n",
       "      <td>3.988173</td>\n",
       "      <td>3.192289</td>\n",
       "      <td>0.719697</td>\n",
       "      <td>00:03</td>\n",
       "    </tr>\n",
       "  </tbody>\n",
       "</table>"
      ],
      "text/plain": [
       "<IPython.core.display.HTML object>"
      ]
     },
     "metadata": {},
     "output_type": "display_data"
    },
    {
     "data": {
      "text/html": [
       "<table border=\"1\" class=\"dataframe\">\n",
       "  <thead>\n",
       "    <tr style=\"text-align: left;\">\n",
       "      <th>epoch</th>\n",
       "      <th>train_loss</th>\n",
       "      <th>valid_loss</th>\n",
       "      <th>error_rate</th>\n",
       "      <th>time</th>\n",
       "    </tr>\n",
       "  </thead>\n",
       "  <tbody>\n",
       "    <tr>\n",
       "      <td>0</td>\n",
       "      <td>3.813508</td>\n",
       "      <td>3.073729</td>\n",
       "      <td>0.717172</td>\n",
       "      <td>00:04</td>\n",
       "    </tr>\n",
       "    <tr>\n",
       "      <td>1</td>\n",
       "      <td>3.750474</td>\n",
       "      <td>2.947084</td>\n",
       "      <td>0.681818</td>\n",
       "      <td>00:05</td>\n",
       "    </tr>\n",
       "    <tr>\n",
       "      <td>2</td>\n",
       "      <td>3.636482</td>\n",
       "      <td>2.826129</td>\n",
       "      <td>0.648990</td>\n",
       "      <td>00:05</td>\n",
       "    </tr>\n",
       "    <tr>\n",
       "      <td>3</td>\n",
       "      <td>3.542924</td>\n",
       "      <td>2.803723</td>\n",
       "      <td>0.646465</td>\n",
       "      <td>00:04</td>\n",
       "    </tr>\n",
       "    <tr>\n",
       "      <td>4</td>\n",
       "      <td>3.422848</td>\n",
       "      <td>2.636161</td>\n",
       "      <td>0.628788</td>\n",
       "      <td>00:04</td>\n",
       "    </tr>\n",
       "    <tr>\n",
       "      <td>5</td>\n",
       "      <td>3.276450</td>\n",
       "      <td>2.498135</td>\n",
       "      <td>0.636364</td>\n",
       "      <td>00:04</td>\n",
       "    </tr>\n",
       "    <tr>\n",
       "      <td>6</td>\n",
       "      <td>3.144029</td>\n",
       "      <td>2.413733</td>\n",
       "      <td>0.603535</td>\n",
       "      <td>00:04</td>\n",
       "    </tr>\n",
       "    <tr>\n",
       "      <td>7</td>\n",
       "      <td>3.077466</td>\n",
       "      <td>2.374997</td>\n",
       "      <td>0.593434</td>\n",
       "      <td>00:04</td>\n",
       "    </tr>\n",
       "    <tr>\n",
       "      <td>8</td>\n",
       "      <td>2.977452</td>\n",
       "      <td>2.324832</td>\n",
       "      <td>0.598485</td>\n",
       "      <td>00:04</td>\n",
       "    </tr>\n",
       "    <tr>\n",
       "      <td>9</td>\n",
       "      <td>2.915183</td>\n",
       "      <td>2.327786</td>\n",
       "      <td>0.588384</td>\n",
       "      <td>00:04</td>\n",
       "    </tr>\n",
       "  </tbody>\n",
       "</table>"
      ],
      "text/plain": [
       "<IPython.core.display.HTML object>"
      ]
     },
     "metadata": {},
     "output_type": "display_data"
    }
   ],
   "source": [
    "learn.fine_tune(10, lr=1e-4) # last 5 are shown below"
   ]
  },
  {
   "cell_type": "code",
   "execution_count": null,
   "metadata": {},
   "outputs": [],
   "source": []
  },
  {
   "cell_type": "markdown",
   "metadata": {},
   "source": [
    "### Transfer learning with data augmentation and RandomSizedCrop due to large overfitting"
   ]
  },
  {
   "cell_type": "code",
   "execution_count": 24,
   "metadata": {},
   "outputs": [],
   "source": [
    "# compose a DataBlock\n",
    "dblock = DataBlock(blocks=(ImageBlock(cls=PILImageBW), CategoryBlock), # cls=PILImageBW -- make a one chanal picture-tensor\n",
    "                   get_x=get_x, \n",
    "                   get_y=get_y,\n",
    "                   item_tfms=Resize(64, ResizeMethod.Squish),\n",
    "                   batch_tfms=[*aug_transforms(mult=2), RandomResizedCrop(40, min_scale=0.8)],\n",
    "                   splitter = ColSplitter(col = 'is_valid'),\n",
    "                   #batch_tfms = RandomResizedCrop(40, min_scale=0.8)\n",
    "                  )\n",
    "dls = dblock.dataloaders(df_train)"
   ]
  },
  {
   "cell_type": "code",
   "execution_count": 25,
   "metadata": {},
   "outputs": [
    {
     "data": {
      "image/png": "[encoded data removed]",
      "text/plain": [
       "<Figure size 864x216 with 4 Axes>"
      ]
     },
     "metadata": {
      "needs_background": "light"
     },
     "output_type": "display_data"
    }
   ],
   "source": [
    "dls.show_batch(nrows=1, ncols=4)"
   ]
  },
  {
   "cell_type": "code",
   "execution_count": 26,
   "metadata": {},
   "outputs": [],
   "source": [
    "learn = cnn_learner(dls, resnet18, pretrained=True, metrics=error_rate)"
   ]
  },
  {
   "cell_type": "code",
   "execution_count": 27,
   "metadata": {},
   "outputs": [
    {
     "data": {
      "text/html": [
       "<table border=\"1\" class=\"dataframe\">\n",
       "  <thead>\n",
       "    <tr style=\"text-align: left;\">\n",
       "      <th>epoch</th>\n",
       "      <th>train_loss</th>\n",
       "      <th>valid_loss</th>\n",
       "      <th>error_rate</th>\n",
       "      <th>time</th>\n",
       "    </tr>\n",
       "  </thead>\n",
       "  <tbody>\n",
       "    <tr>\n",
       "      <td>0</td>\n",
       "      <td>6.196091</td>\n",
       "      <td>4.832691</td>\n",
       "      <td>0.984848</td>\n",
       "      <td>00:04</td>\n",
       "    </tr>\n",
       "  </tbody>\n",
       "</table>"
      ],
      "text/plain": [
       "<IPython.core.display.HTML object>"
      ]
     },
     "metadata": {},
     "output_type": "display_data"
    },
    {
     "data": {
      "text/html": [
       "<table border=\"1\" class=\"dataframe\">\n",
       "  <thead>\n",
       "    <tr style=\"text-align: left;\">\n",
       "      <th>epoch</th>\n",
       "      <th>train_loss</th>\n",
       "      <th>valid_loss</th>\n",
       "      <th>error_rate</th>\n",
       "      <th>time</th>\n",
       "    </tr>\n",
       "  </thead>\n",
       "  <tbody>\n",
       "    <tr>\n",
       "      <td>0</td>\n",
       "      <td>5.687165</td>\n",
       "      <td>4.327053</td>\n",
       "      <td>0.939394</td>\n",
       "      <td>00:06</td>\n",
       "    </tr>\n",
       "    <tr>\n",
       "      <td>1</td>\n",
       "      <td>5.445471</td>\n",
       "      <td>3.771499</td>\n",
       "      <td>0.845960</td>\n",
       "      <td>00:06</td>\n",
       "    </tr>\n",
       "    <tr>\n",
       "      <td>2</td>\n",
       "      <td>5.043727</td>\n",
       "      <td>3.171341</td>\n",
       "      <td>0.750000</td>\n",
       "      <td>00:06</td>\n",
       "    </tr>\n",
       "    <tr>\n",
       "      <td>3</td>\n",
       "      <td>4.764478</td>\n",
       "      <td>2.712932</td>\n",
       "      <td>0.654040</td>\n",
       "      <td>00:06</td>\n",
       "    </tr>\n",
       "    <tr>\n",
       "      <td>4</td>\n",
       "      <td>4.525004</td>\n",
       "      <td>2.559082</td>\n",
       "      <td>0.633838</td>\n",
       "      <td>00:06</td>\n",
       "    </tr>\n",
       "  </tbody>\n",
       "</table>"
      ],
      "text/plain": [
       "<IPython.core.display.HTML object>"
      ]
     },
     "metadata": {},
     "output_type": "display_data"
    }
   ],
   "source": [
    "learn.fine_tune(5)"
   ]
  },
  {
   "cell_type": "code",
   "execution_count": 28,
   "metadata": {},
   "outputs": [
    {
     "data": {
      "text/html": [
       "<table border=\"1\" class=\"dataframe\">\n",
       "  <thead>\n",
       "    <tr style=\"text-align: left;\">\n",
       "      <th>epoch</th>\n",
       "      <th>train_loss</th>\n",
       "      <th>valid_loss</th>\n",
       "      <th>error_rate</th>\n",
       "      <th>time</th>\n",
       "    </tr>\n",
       "  </thead>\n",
       "  <tbody>\n",
       "    <tr>\n",
       "      <td>0</td>\n",
       "      <td>4.075683</td>\n",
       "      <td>2.394205</td>\n",
       "      <td>0.578283</td>\n",
       "      <td>00:05</td>\n",
       "    </tr>\n",
       "  </tbody>\n",
       "</table>"
      ],
      "text/plain": [
       "<IPython.core.display.HTML object>"
      ]
     },
     "metadata": {},
     "output_type": "display_data"
    },
    {
     "data": {
      "text/html": [
       "<table border=\"1\" class=\"dataframe\">\n",
       "  <thead>\n",
       "    <tr style=\"text-align: left;\">\n",
       "      <th>epoch</th>\n",
       "      <th>train_loss</th>\n",
       "      <th>valid_loss</th>\n",
       "      <th>error_rate</th>\n",
       "      <th>time</th>\n",
       "    </tr>\n",
       "  </thead>\n",
       "  <tbody>\n",
       "    <tr>\n",
       "      <td>0</td>\n",
       "      <td>3.584157</td>\n",
       "      <td>2.316942</td>\n",
       "      <td>0.555556</td>\n",
       "      <td>00:06</td>\n",
       "    </tr>\n",
       "    <tr>\n",
       "      <td>1</td>\n",
       "      <td>3.537575</td>\n",
       "      <td>2.156519</td>\n",
       "      <td>0.525253</td>\n",
       "      <td>00:06</td>\n",
       "    </tr>\n",
       "    <tr>\n",
       "      <td>2</td>\n",
       "      <td>3.394565</td>\n",
       "      <td>1.917395</td>\n",
       "      <td>0.479798</td>\n",
       "      <td>00:06</td>\n",
       "    </tr>\n",
       "    <tr>\n",
       "      <td>3</td>\n",
       "      <td>3.225854</td>\n",
       "      <td>1.653930</td>\n",
       "      <td>0.434343</td>\n",
       "      <td>00:06</td>\n",
       "    </tr>\n",
       "    <tr>\n",
       "      <td>4</td>\n",
       "      <td>3.074419</td>\n",
       "      <td>1.539464</td>\n",
       "      <td>0.409091</td>\n",
       "      <td>00:06</td>\n",
       "    </tr>\n",
       "    <tr>\n",
       "      <td>5</td>\n",
       "      <td>2.971551</td>\n",
       "      <td>1.493241</td>\n",
       "      <td>0.426768</td>\n",
       "      <td>00:06</td>\n",
       "    </tr>\n",
       "    <tr>\n",
       "      <td>6</td>\n",
       "      <td>2.842871</td>\n",
       "      <td>1.415655</td>\n",
       "      <td>0.404040</td>\n",
       "      <td>00:06</td>\n",
       "    </tr>\n",
       "    <tr>\n",
       "      <td>7</td>\n",
       "      <td>2.743823</td>\n",
       "      <td>1.365437</td>\n",
       "      <td>0.393939</td>\n",
       "      <td>00:06</td>\n",
       "    </tr>\n",
       "    <tr>\n",
       "      <td>8</td>\n",
       "      <td>2.654952</td>\n",
       "      <td>1.341943</td>\n",
       "      <td>0.396465</td>\n",
       "      <td>00:06</td>\n",
       "    </tr>\n",
       "    <tr>\n",
       "      <td>9</td>\n",
       "      <td>2.566631</td>\n",
       "      <td>1.342736</td>\n",
       "      <td>0.381313</td>\n",
       "      <td>00:06</td>\n",
       "    </tr>\n",
       "  </tbody>\n",
       "</table>"
      ],
      "text/plain": [
       "<IPython.core.display.HTML object>"
      ]
     },
     "metadata": {},
     "output_type": "display_data"
    }
   ],
   "source": [
    "learn.fine_tune(10, lr=1e-4)"
   ]
  },
  {
   "cell_type": "markdown",
   "metadata": {},
   "source": [
    "## Tabular NN Model\n",
    "tabular_learner(dls, metrics=accuracy, cbs=[ShowGraphCallback()]) # if layers is None: layers = [200,100], ReLU after each layer\n",
    "### DataBlock"
   ]
  },
  {
   "cell_type": "code",
   "execution_count": 86,
   "metadata": {},
   "outputs": [],
   "source": [
    "# compose a DataBlock\n",
    "# ??TabularPandas"
   ]
  },
  {
   "cell_type": "code",
   "execution_count": 116,
   "metadata": {},
   "outputs": [],
   "source": [
    "df_tt = df_train.copy()"
   ]
  },
  {
   "cell_type": "code",
   "execution_count": 117,
   "metadata": {},
   "outputs": [
    {
     "data": {
      "text/html": [
       "<div>\n",
       "<style scoped>\n",
       "    .dataframe tbody tr th:only-of-type {\n",
       "        vertical-align: middle;\n",
       "    }\n",
       "\n",
       "    .dataframe tbody tr th {\n",
       "        vertical-align: top;\n",
       "    }\n",
       "\n",
       "    .dataframe thead th {\n",
       "        text-align: right;\n",
       "    }\n",
       "</style>\n",
       "<table border=\"1\" class=\"dataframe\">\n",
       "  <thead>\n",
       "    <tr style=\"text-align: right;\">\n",
       "      <th></th>\n",
       "      <th>id</th>\n",
       "      <th>species</th>\n",
       "      <th>margin1</th>\n",
       "      <th>margin2</th>\n",
       "      <th>margin3</th>\n",
       "      <th>margin4</th>\n",
       "      <th>margin5</th>\n",
       "      <th>margin6</th>\n",
       "      <th>margin7</th>\n",
       "      <th>margin8</th>\n",
       "      <th>...</th>\n",
       "      <th>texture56</th>\n",
       "      <th>texture57</th>\n",
       "      <th>texture58</th>\n",
       "      <th>texture59</th>\n",
       "      <th>texture60</th>\n",
       "      <th>texture61</th>\n",
       "      <th>texture62</th>\n",
       "      <th>texture63</th>\n",
       "      <th>texture64</th>\n",
       "      <th>is_valid</th>\n",
       "    </tr>\n",
       "  </thead>\n",
       "  <tbody>\n",
       "    <tr>\n",
       "      <th>0</th>\n",
       "      <td>1</td>\n",
       "      <td>Acer_Opalus</td>\n",
       "      <td>0.007812</td>\n",
       "      <td>0.023438</td>\n",
       "      <td>0.023438</td>\n",
       "      <td>0.003906</td>\n",
       "      <td>0.011719</td>\n",
       "      <td>0.009766</td>\n",
       "      <td>0.027344</td>\n",
       "      <td>0.0</td>\n",
       "      <td>...</td>\n",
       "      <td>0.000000</td>\n",
       "      <td>0.002930</td>\n",
       "      <td>0.002930</td>\n",
       "      <td>0.035156</td>\n",
       "      <td>0.0</td>\n",
       "      <td>0.0</td>\n",
       "      <td>0.004883</td>\n",
       "      <td>0.000000</td>\n",
       "      <td>0.025391</td>\n",
       "      <td>0</td>\n",
       "    </tr>\n",
       "    <tr>\n",
       "      <th>1</th>\n",
       "      <td>2</td>\n",
       "      <td>Pterocarya_Stenoptera</td>\n",
       "      <td>0.005859</td>\n",
       "      <td>0.000000</td>\n",
       "      <td>0.031250</td>\n",
       "      <td>0.015625</td>\n",
       "      <td>0.025391</td>\n",
       "      <td>0.001953</td>\n",
       "      <td>0.019531</td>\n",
       "      <td>0.0</td>\n",
       "      <td>...</td>\n",
       "      <td>0.000000</td>\n",
       "      <td>0.000000</td>\n",
       "      <td>0.000977</td>\n",
       "      <td>0.023438</td>\n",
       "      <td>0.0</td>\n",
       "      <td>0.0</td>\n",
       "      <td>0.000977</td>\n",
       "      <td>0.039062</td>\n",
       "      <td>0.022461</td>\n",
       "      <td>0</td>\n",
       "    </tr>\n",
       "    <tr>\n",
       "      <th>2</th>\n",
       "      <td>3</td>\n",
       "      <td>Quercus_Hartwissiana</td>\n",
       "      <td>0.005859</td>\n",
       "      <td>0.009766</td>\n",
       "      <td>0.019531</td>\n",
       "      <td>0.007812</td>\n",
       "      <td>0.003906</td>\n",
       "      <td>0.005859</td>\n",
       "      <td>0.068359</td>\n",
       "      <td>0.0</td>\n",
       "      <td>...</td>\n",
       "      <td>0.000000</td>\n",
       "      <td>0.005859</td>\n",
       "      <td>0.000977</td>\n",
       "      <td>0.007812</td>\n",
       "      <td>0.0</td>\n",
       "      <td>0.0</td>\n",
       "      <td>0.000000</td>\n",
       "      <td>0.020508</td>\n",
       "      <td>0.002930</td>\n",
       "      <td>0</td>\n",
       "    </tr>\n",
       "    <tr>\n",
       "      <th>3</th>\n",
       "      <td>5</td>\n",
       "      <td>Tilia_Tomentosa</td>\n",
       "      <td>0.000000</td>\n",
       "      <td>0.003906</td>\n",
       "      <td>0.023438</td>\n",
       "      <td>0.005859</td>\n",
       "      <td>0.021484</td>\n",
       "      <td>0.019531</td>\n",
       "      <td>0.023438</td>\n",
       "      <td>0.0</td>\n",
       "      <td>...</td>\n",
       "      <td>0.000977</td>\n",
       "      <td>0.000000</td>\n",
       "      <td>0.000000</td>\n",
       "      <td>0.020508</td>\n",
       "      <td>0.0</td>\n",
       "      <td>0.0</td>\n",
       "      <td>0.017578</td>\n",
       "      <td>0.000000</td>\n",
       "      <td>0.047852</td>\n",
       "      <td>0</td>\n",
       "    </tr>\n",
       "    <tr>\n",
       "      <th>4</th>\n",
       "      <td>6</td>\n",
       "      <td>Quercus_Variabilis</td>\n",
       "      <td>0.005859</td>\n",
       "      <td>0.003906</td>\n",
       "      <td>0.048828</td>\n",
       "      <td>0.009766</td>\n",
       "      <td>0.013672</td>\n",
       "      <td>0.015625</td>\n",
       "      <td>0.005859</td>\n",
       "      <td>0.0</td>\n",
       "      <td>...</td>\n",
       "      <td>0.000000</td>\n",
       "      <td>0.021484</td>\n",
       "      <td>0.000000</td>\n",
       "      <td>0.000000</td>\n",
       "      <td>0.0</td>\n",
       "      <td>0.0</td>\n",
       "      <td>0.000000</td>\n",
       "      <td>0.000000</td>\n",
       "      <td>0.031250</td>\n",
       "      <td>0</td>\n",
       "    </tr>\n",
       "  </tbody>\n",
       "</table>\n",
       "<p>5 rows × 195 columns</p>\n",
       "</div>"
      ],
      "text/plain": [
       "   id                species   margin1   margin2   margin3   margin4  \\\n",
       "0   1            Acer_Opalus  0.007812  0.023438  0.023438  0.003906   \n",
       "1   2  Pterocarya_Stenoptera  0.005859  0.000000  0.031250  0.015625   \n",
       "2   3   Quercus_Hartwissiana  0.005859  0.009766  0.019531  0.007812   \n",
       "3   5        Tilia_Tomentosa  0.000000  0.003906  0.023438  0.005859   \n",
       "4   6     Quercus_Variabilis  0.005859  0.003906  0.048828  0.009766   \n",
       "\n",
       "    margin5   margin6   margin7  margin8  ...  texture56  texture57  \\\n",
       "0  0.011719  0.009766  0.027344      0.0  ...   0.000000   0.002930   \n",
       "1  0.025391  0.001953  0.019531      0.0  ...   0.000000   0.000000   \n",
       "2  0.003906  0.005859  0.068359      0.0  ...   0.000000   0.005859   \n",
       "3  0.021484  0.019531  0.023438      0.0  ...   0.000977   0.000000   \n",
       "4  0.013672  0.015625  0.005859      0.0  ...   0.000000   0.021484   \n",
       "\n",
       "   texture58  texture59  texture60  texture61  texture62  texture63  \\\n",
       "0   0.002930   0.035156        0.0        0.0   0.004883   0.000000   \n",
       "1   0.000977   0.023438        0.0        0.0   0.000977   0.039062   \n",
       "2   0.000977   0.007812        0.0        0.0   0.000000   0.020508   \n",
       "3   0.000000   0.020508        0.0        0.0   0.017578   0.000000   \n",
       "4   0.000000   0.000000        0.0        0.0   0.000000   0.000000   \n",
       "\n",
       "   texture64  is_valid  \n",
       "0   0.025391         0  \n",
       "1   0.022461         0  \n",
       "2   0.002930         0  \n",
       "3   0.047852         0  \n",
       "4   0.031250         0  \n",
       "\n",
       "[5 rows x 195 columns]"
      ]
     },
     "execution_count": 117,
     "metadata": {},
     "output_type": "execute_result"
    }
   ],
   "source": [
    "df_tt.head()"
   ]
  },
  {
   "cell_type": "code",
   "execution_count": 118,
   "metadata": {},
   "outputs": [],
   "source": [
    "# same as above\n",
    "cond = df_tt.is_valid==0\n",
    "train_idx = np.where(cond)[0]\n",
    "valid_idx = np.where(~cond)[0]\n",
    "\n",
    "splits = (list(train_idx),list(valid_idx))"
   ]
  },
  {
   "cell_type": "code",
   "execution_count": 119,
   "metadata": {},
   "outputs": [
    {
     "data": {
      "text/plain": [
       "Index(['id', 'species', 'margin1', 'margin2', 'margin3', 'margin4', 'margin5',\n",
       "       'margin6', 'margin7', 'margin8',\n",
       "       ...\n",
       "       'texture56', 'texture57', 'texture58', 'texture59', 'texture60',\n",
       "       'texture61', 'texture62', 'texture63', 'texture64', 'is_valid'],\n",
       "      dtype='object', length=195)"
      ]
     },
     "execution_count": 119,
     "metadata": {},
     "output_type": "execute_result"
    }
   ],
   "source": [
    "df_tt.columns"
   ]
  },
  {
   "cell_type": "code",
   "execution_count": 120,
   "metadata": {},
   "outputs": [],
   "source": [
    "#df_tt.drop(['id'], axis=1, inplace=True)\n",
    "cont_names = list(df_tt.columns[2:-1])\n",
    "cat_names = None"
   ]
  },
  {
   "cell_type": "code",
   "execution_count": 121,
   "metadata": {},
   "outputs": [],
   "source": [
    "# decode species"
   ]
  },
  {
   "cell_type": "code",
   "execution_count": 122,
   "metadata": {},
   "outputs": [],
   "source": [
    "to = TabularPandas(df_tt, y_names=\"species\",\n",
    "    cat_names = cat_names,\n",
    "    cont_names = cont_names,\n",
    "    #procs = Normalize,\n",
    "    y_block = CategoryBlock(), \n",
    "    splits = splits,\n",
    "    )\n",
    "# in dls the element number (or id column also) is the same as in first df_tt dataset, so we can make a decoder\n",
    "# for predicted numerical class to "
   ]
  },
  {
   "cell_type": "code",
   "execution_count": 77,
   "metadata": {},
   "outputs": [],
   "source": [
    "??dls.decode"
   ]
  },
  {
   "cell_type": "code",
   "execution_count": 78,
   "metadata": {},
   "outputs": [
    {
     "name": "stdout",
     "output_type": "stream",
     "text": [
      "Object `to.decode_col` not found.\n"
     ]
    }
   ],
   "source": [
    "??to.decode_col"
   ]
  },
  {
   "cell_type": "code",
   "execution_count": 34,
   "metadata": {},
   "outputs": [
    {
     "data": {
      "text/plain": [
       "id                     1\n",
       "species      Acer_Opalus\n",
       "margin1         0.007812\n",
       "margin2         0.023438\n",
       "margin3         0.023438\n",
       "                ...     \n",
       "texture61              0\n",
       "texture62       0.004883\n",
       "texture63              0\n",
       "texture64       0.025391\n",
       "is_valid               0\n",
       "Name: 0, Length: 195, dtype: object"
      ]
     },
     "execution_count": 34,
     "metadata": {},
     "output_type": "execute_result"
    }
   ],
   "source": [
    "to.decode_row(to.items.iloc[0])"
   ]
  },
  {
   "cell_type": "code",
   "execution_count": 187,
   "metadata": {},
   "outputs": [],
   "source": [
    "??to.procs.decode"
   ]
  },
  {
   "cell_type": "code",
   "execution_count": 35,
   "metadata": {},
   "outputs": [
    {
     "data": {
      "text/plain": [
       "198"
      ]
     },
     "execution_count": 35,
     "metadata": {},
     "output_type": "execute_result"
    }
   ],
   "source": [
    "sum(to.valid.iloc[:]['is_valid']==1)"
   ]
  },
  {
   "cell_type": "code",
   "execution_count": 123,
   "metadata": {},
   "outputs": [],
   "source": [
    "dls = to.dataloaders()"
   ]
  },
  {
   "cell_type": "code",
   "execution_count": 124,
   "metadata": {},
   "outputs": [
    {
     "data": {
      "text/html": [
       "<div>\n",
       "<style scoped>\n",
       "    .dataframe tbody tr th:only-of-type {\n",
       "        vertical-align: middle;\n",
       "    }\n",
       "\n",
       "    .dataframe tbody tr th {\n",
       "        vertical-align: top;\n",
       "    }\n",
       "\n",
       "    .dataframe thead th {\n",
       "        text-align: right;\n",
       "    }\n",
       "</style>\n",
       "<table border=\"1\" class=\"dataframe\">\n",
       "  <thead>\n",
       "    <tr style=\"text-align: right;\">\n",
       "      <th></th>\n",
       "      <th>margin1</th>\n",
       "      <th>margin2</th>\n",
       "      <th>margin3</th>\n",
       "      <th>margin4</th>\n",
       "      <th>margin5</th>\n",
       "      <th>margin6</th>\n",
       "      <th>margin7</th>\n",
       "      <th>margin8</th>\n",
       "      <th>margin9</th>\n",
       "      <th>margin10</th>\n",
       "      <th>...</th>\n",
       "      <th>texture55</th>\n",
       "      <th>texture56</th>\n",
       "      <th>texture57</th>\n",
       "      <th>texture58</th>\n",
       "      <th>texture59</th>\n",
       "      <th>texture60</th>\n",
       "      <th>texture61</th>\n",
       "      <th>texture62</th>\n",
       "      <th>texture63</th>\n",
       "      <th>texture64</th>\n",
       "    </tr>\n",
       "  </thead>\n",
       "  <tbody>\n",
       "    <tr>\n",
       "      <th>5</th>\n",
       "      <td>0.070312</td>\n",
       "      <td>0.093750</td>\n",
       "      <td>0.033203</td>\n",
       "      <td>0.001953</td>\n",
       "      <td>0.000000</td>\n",
       "      <td>0.152340</td>\n",
       "      <td>0.007812</td>\n",
       "      <td>0.000000</td>\n",
       "      <td>0.003906</td>\n",
       "      <td>0.027344</td>\n",
       "      <td>...</td>\n",
       "      <td>0.145510</td>\n",
       "      <td>0.000000</td>\n",
       "      <td>0.041992</td>\n",
       "      <td>0.000000</td>\n",
       "      <td>0.005859</td>\n",
       "      <td>0.000000</td>\n",
       "      <td>0.0</td>\n",
       "      <td>0.000000</td>\n",
       "      <td>0.001953</td>\n",
       "      <td>0.013672</td>\n",
       "    </tr>\n",
       "    <tr>\n",
       "      <th>11</th>\n",
       "      <td>0.001953</td>\n",
       "      <td>0.001953</td>\n",
       "      <td>0.023438</td>\n",
       "      <td>0.025391</td>\n",
       "      <td>0.076172</td>\n",
       "      <td>0.000000</td>\n",
       "      <td>0.029297</td>\n",
       "      <td>0.000000</td>\n",
       "      <td>0.005859</td>\n",
       "      <td>0.015625</td>\n",
       "      <td>...</td>\n",
       "      <td>0.013672</td>\n",
       "      <td>0.003906</td>\n",
       "      <td>0.014648</td>\n",
       "      <td>0.003906</td>\n",
       "      <td>0.036133</td>\n",
       "      <td>0.000000</td>\n",
       "      <td>0.0</td>\n",
       "      <td>0.012695</td>\n",
       "      <td>0.005859</td>\n",
       "      <td>0.000000</td>\n",
       "    </tr>\n",
       "    <tr>\n",
       "      <th>15</th>\n",
       "      <td>0.027344</td>\n",
       "      <td>0.025391</td>\n",
       "      <td>0.066406</td>\n",
       "      <td>0.007812</td>\n",
       "      <td>0.003906</td>\n",
       "      <td>0.052734</td>\n",
       "      <td>0.031250</td>\n",
       "      <td>0.000000</td>\n",
       "      <td>0.003906</td>\n",
       "      <td>0.039062</td>\n",
       "      <td>...</td>\n",
       "      <td>0.008789</td>\n",
       "      <td>0.000000</td>\n",
       "      <td>0.004883</td>\n",
       "      <td>0.004883</td>\n",
       "      <td>0.009766</td>\n",
       "      <td>0.001953</td>\n",
       "      <td>0.0</td>\n",
       "      <td>0.003906</td>\n",
       "      <td>0.000000</td>\n",
       "      <td>0.036133</td>\n",
       "    </tr>\n",
       "    <tr>\n",
       "      <th>21</th>\n",
       "      <td>0.019531</td>\n",
       "      <td>0.029297</td>\n",
       "      <td>0.080078</td>\n",
       "      <td>0.033203</td>\n",
       "      <td>0.025391</td>\n",
       "      <td>0.023438</td>\n",
       "      <td>0.009766</td>\n",
       "      <td>0.005859</td>\n",
       "      <td>0.000000</td>\n",
       "      <td>0.009766</td>\n",
       "      <td>...</td>\n",
       "      <td>0.021484</td>\n",
       "      <td>0.000000</td>\n",
       "      <td>0.057617</td>\n",
       "      <td>0.000000</td>\n",
       "      <td>0.002930</td>\n",
       "      <td>0.000000</td>\n",
       "      <td>0.0</td>\n",
       "      <td>0.000000</td>\n",
       "      <td>0.000000</td>\n",
       "      <td>0.035156</td>\n",
       "    </tr>\n",
       "    <tr>\n",
       "      <th>22</th>\n",
       "      <td>0.000000</td>\n",
       "      <td>0.005859</td>\n",
       "      <td>0.023438</td>\n",
       "      <td>0.001953</td>\n",
       "      <td>0.013672</td>\n",
       "      <td>0.001953</td>\n",
       "      <td>0.015625</td>\n",
       "      <td>0.000000</td>\n",
       "      <td>0.003906</td>\n",
       "      <td>0.007812</td>\n",
       "      <td>...</td>\n",
       "      <td>0.000000</td>\n",
       "      <td>0.019531</td>\n",
       "      <td>0.000000</td>\n",
       "      <td>0.031250</td>\n",
       "      <td>0.005859</td>\n",
       "      <td>0.054688</td>\n",
       "      <td>0.0</td>\n",
       "      <td>0.103520</td>\n",
       "      <td>0.000977</td>\n",
       "      <td>0.000000</td>\n",
       "    </tr>\n",
       "    <tr>\n",
       "      <th>...</th>\n",
       "      <td>...</td>\n",
       "      <td>...</td>\n",
       "      <td>...</td>\n",
       "      <td>...</td>\n",
       "      <td>...</td>\n",
       "      <td>...</td>\n",
       "      <td>...</td>\n",
       "      <td>...</td>\n",
       "      <td>...</td>\n",
       "      <td>...</td>\n",
       "      <td>...</td>\n",
       "      <td>...</td>\n",
       "      <td>...</td>\n",
       "      <td>...</td>\n",
       "      <td>...</td>\n",
       "      <td>...</td>\n",
       "      <td>...</td>\n",
       "      <td>...</td>\n",
       "      <td>...</td>\n",
       "      <td>...</td>\n",
       "      <td>...</td>\n",
       "    </tr>\n",
       "    <tr>\n",
       "      <th>977</th>\n",
       "      <td>0.001953</td>\n",
       "      <td>0.000000</td>\n",
       "      <td>0.041016</td>\n",
       "      <td>0.015625</td>\n",
       "      <td>0.015625</td>\n",
       "      <td>0.000000</td>\n",
       "      <td>0.009766</td>\n",
       "      <td>0.000000</td>\n",
       "      <td>0.003906</td>\n",
       "      <td>0.017578</td>\n",
       "      <td>...</td>\n",
       "      <td>0.000000</td>\n",
       "      <td>0.000000</td>\n",
       "      <td>0.017578</td>\n",
       "      <td>0.011719</td>\n",
       "      <td>0.070312</td>\n",
       "      <td>0.000000</td>\n",
       "      <td>0.0</td>\n",
       "      <td>0.000977</td>\n",
       "      <td>0.000000</td>\n",
       "      <td>0.012695</td>\n",
       "    </tr>\n",
       "    <tr>\n",
       "      <th>978</th>\n",
       "      <td>0.000000</td>\n",
       "      <td>0.000000</td>\n",
       "      <td>0.007812</td>\n",
       "      <td>0.007812</td>\n",
       "      <td>0.039062</td>\n",
       "      <td>0.000000</td>\n",
       "      <td>0.001953</td>\n",
       "      <td>0.005859</td>\n",
       "      <td>0.000000</td>\n",
       "      <td>0.003906</td>\n",
       "      <td>...</td>\n",
       "      <td>0.000000</td>\n",
       "      <td>0.056641</td>\n",
       "      <td>0.000000</td>\n",
       "      <td>0.035156</td>\n",
       "      <td>0.011719</td>\n",
       "      <td>0.024414</td>\n",
       "      <td>0.0</td>\n",
       "      <td>0.066406</td>\n",
       "      <td>0.013672</td>\n",
       "      <td>0.000000</td>\n",
       "    </tr>\n",
       "    <tr>\n",
       "      <th>979</th>\n",
       "      <td>0.009766</td>\n",
       "      <td>0.003906</td>\n",
       "      <td>0.025391</td>\n",
       "      <td>0.017578</td>\n",
       "      <td>0.005859</td>\n",
       "      <td>0.003906</td>\n",
       "      <td>0.035156</td>\n",
       "      <td>0.000000</td>\n",
       "      <td>0.000000</td>\n",
       "      <td>0.033203</td>\n",
       "      <td>...</td>\n",
       "      <td>0.000000</td>\n",
       "      <td>0.000000</td>\n",
       "      <td>0.000000</td>\n",
       "      <td>0.008789</td>\n",
       "      <td>0.016602</td>\n",
       "      <td>0.000000</td>\n",
       "      <td>0.0</td>\n",
       "      <td>0.024414</td>\n",
       "      <td>0.037109</td>\n",
       "      <td>0.003906</td>\n",
       "    </tr>\n",
       "    <tr>\n",
       "      <th>981</th>\n",
       "      <td>0.027344</td>\n",
       "      <td>0.044922</td>\n",
       "      <td>0.023438</td>\n",
       "      <td>0.017578</td>\n",
       "      <td>0.001953</td>\n",
       "      <td>0.025391</td>\n",
       "      <td>0.083984</td>\n",
       "      <td>0.000000</td>\n",
       "      <td>0.000000</td>\n",
       "      <td>0.074219</td>\n",
       "      <td>...</td>\n",
       "      <td>0.000000</td>\n",
       "      <td>0.000000</td>\n",
       "      <td>0.000000</td>\n",
       "      <td>0.036133</td>\n",
       "      <td>0.082031</td>\n",
       "      <td>0.000000</td>\n",
       "      <td>0.0</td>\n",
       "      <td>0.026367</td>\n",
       "      <td>0.008789</td>\n",
       "      <td>0.000000</td>\n",
       "    </tr>\n",
       "    <tr>\n",
       "      <th>984</th>\n",
       "      <td>0.080078</td>\n",
       "      <td>0.048828</td>\n",
       "      <td>0.023438</td>\n",
       "      <td>0.007812</td>\n",
       "      <td>0.000000</td>\n",
       "      <td>0.091797</td>\n",
       "      <td>0.009766</td>\n",
       "      <td>0.000000</td>\n",
       "      <td>0.007812</td>\n",
       "      <td>0.025391</td>\n",
       "      <td>...</td>\n",
       "      <td>0.003906</td>\n",
       "      <td>0.003906</td>\n",
       "      <td>0.041016</td>\n",
       "      <td>0.006836</td>\n",
       "      <td>0.017578</td>\n",
       "      <td>0.000000</td>\n",
       "      <td>0.0</td>\n",
       "      <td>0.003906</td>\n",
       "      <td>0.000977</td>\n",
       "      <td>0.032227</td>\n",
       "    </tr>\n",
       "  </tbody>\n",
       "</table>\n",
       "<p>198 rows × 192 columns</p>\n",
       "</div>"
      ],
      "text/plain": [
       "      margin1   margin2   margin3   margin4   margin5   margin6   margin7  \\\n",
       "5    0.070312  0.093750  0.033203  0.001953  0.000000  0.152340  0.007812   \n",
       "11   0.001953  0.001953  0.023438  0.025391  0.076172  0.000000  0.029297   \n",
       "15   0.027344  0.025391  0.066406  0.007812  0.003906  0.052734  0.031250   \n",
       "21   0.019531  0.029297  0.080078  0.033203  0.025391  0.023438  0.009766   \n",
       "22   0.000000  0.005859  0.023438  0.001953  0.013672  0.001953  0.015625   \n",
       "..        ...       ...       ...       ...       ...       ...       ...   \n",
       "977  0.001953  0.000000  0.041016  0.015625  0.015625  0.000000  0.009766   \n",
       "978  0.000000  0.000000  0.007812  0.007812  0.039062  0.000000  0.001953   \n",
       "979  0.009766  0.003906  0.025391  0.017578  0.005859  0.003906  0.035156   \n",
       "981  0.027344  0.044922  0.023438  0.017578  0.001953  0.025391  0.083984   \n",
       "984  0.080078  0.048828  0.023438  0.007812  0.000000  0.091797  0.009766   \n",
       "\n",
       "      margin8   margin9  margin10  ...  texture55  texture56  texture57  \\\n",
       "5    0.000000  0.003906  0.027344  ...   0.145510   0.000000   0.041992   \n",
       "11   0.000000  0.005859  0.015625  ...   0.013672   0.003906   0.014648   \n",
       "15   0.000000  0.003906  0.039062  ...   0.008789   0.000000   0.004883   \n",
       "21   0.005859  0.000000  0.009766  ...   0.021484   0.000000   0.057617   \n",
       "22   0.000000  0.003906  0.007812  ...   0.000000   0.019531   0.000000   \n",
       "..        ...       ...       ...  ...        ...        ...        ...   \n",
       "977  0.000000  0.003906  0.017578  ...   0.000000   0.000000   0.017578   \n",
       "978  0.005859  0.000000  0.003906  ...   0.000000   0.056641   0.000000   \n",
       "979  0.000000  0.000000  0.033203  ...   0.000000   0.000000   0.000000   \n",
       "981  0.000000  0.000000  0.074219  ...   0.000000   0.000000   0.000000   \n",
       "984  0.000000  0.007812  0.025391  ...   0.003906   0.003906   0.041016   \n",
       "\n",
       "     texture58  texture59  texture60  texture61  texture62  texture63  \\\n",
       "5     0.000000   0.005859   0.000000        0.0   0.000000   0.001953   \n",
       "11    0.003906   0.036133   0.000000        0.0   0.012695   0.005859   \n",
       "15    0.004883   0.009766   0.001953        0.0   0.003906   0.000000   \n",
       "21    0.000000   0.002930   0.000000        0.0   0.000000   0.000000   \n",
       "22    0.031250   0.005859   0.054688        0.0   0.103520   0.000977   \n",
       "..         ...        ...        ...        ...        ...        ...   \n",
       "977   0.011719   0.070312   0.000000        0.0   0.000977   0.000000   \n",
       "978   0.035156   0.011719   0.024414        0.0   0.066406   0.013672   \n",
       "979   0.008789   0.016602   0.000000        0.0   0.024414   0.037109   \n",
       "981   0.036133   0.082031   0.000000        0.0   0.026367   0.008789   \n",
       "984   0.006836   0.017578   0.000000        0.0   0.003906   0.000977   \n",
       "\n",
       "     texture64  \n",
       "5     0.013672  \n",
       "11    0.000000  \n",
       "15    0.036133  \n",
       "21    0.035156  \n",
       "22    0.000000  \n",
       "..         ...  \n",
       "977   0.012695  \n",
       "978   0.000000  \n",
       "979   0.003906  \n",
       "981   0.000000  \n",
       "984   0.032227  \n",
       "\n",
       "[198 rows x 192 columns]"
      ]
     },
     "execution_count": 124,
     "metadata": {},
     "output_type": "execute_result"
    }
   ],
   "source": [
    "dls.valid.xs"
   ]
  },
  {
   "cell_type": "code",
   "execution_count": 41,
   "metadata": {},
   "outputs": [],
   "source": [
    "??FillMissing"
   ]
  },
  {
   "cell_type": "code",
   "execution_count": 100,
   "metadata": {},
   "outputs": [],
   "source": [
    "??tabular_learner"
   ]
  },
  {
   "cell_type": "code",
   "execution_count": 101,
   "metadata": {},
   "outputs": [],
   "source": [
    "??TabularModel"
   ]
  },
  {
   "cell_type": "code",
   "execution_count": 174,
   "metadata": {
    "scrolled": true
   },
   "outputs": [],
   "source": [
    "#learn = tabular_learner(dls, layers=[1000,500], metrics=accuracy, embed_p=0.04, ps=[0.001,0.1])\n",
    "\n",
    "learn = tabular_learner(dls, metrics=error_rate) # if layers is None: layers = [200,100], ReLU after each layer (default)"
   ]
  },
  {
   "cell_type": "code",
   "execution_count": 175,
   "metadata": {},
   "outputs": [
    {
     "data": {
      "text/plain": [
       "TabularModel(\n",
       "  (embeds): ModuleList()\n",
       "  (emb_drop): Dropout(p=0.0, inplace=False)\n",
       "  (bn_cont): BatchNorm1d(192, eps=1e-05, momentum=0.1, affine=True, track_running_stats=True)\n",
       "  (layers): Sequential(\n",
       "    (0): LinBnDrop(\n",
       "      (0): BatchNorm1d(192, eps=1e-05, momentum=0.1, affine=True, track_running_stats=True)\n",
       "      (1): Linear(in_features=192, out_features=200, bias=False)\n",
       "      (2): ReLU(inplace=True)\n",
       "    )\n",
       "    (1): LinBnDrop(\n",
       "      (0): BatchNorm1d(200, eps=1e-05, momentum=0.1, affine=True, track_running_stats=True)\n",
       "      (1): Linear(in_features=200, out_features=100, bias=False)\n",
       "      (2): ReLU(inplace=True)\n",
       "    )\n",
       "    (2): LinBnDrop(\n",
       "      (0): Linear(in_features=100, out_features=99, bias=True)\n",
       "    )\n",
       "  )\n",
       ")"
      ]
     },
     "execution_count": 175,
     "metadata": {},
     "output_type": "execute_result"
    }
   ],
   "source": [
    "learn.model"
   ]
  },
  {
   "cell_type": "code",
   "execution_count": 156,
   "metadata": {},
   "outputs": [
    {
     "data": {
      "text/html": [],
      "text/plain": [
       "<IPython.core.display.HTML object>"
      ]
     },
     "metadata": {},
     "output_type": "display_data"
    },
    {
     "data": {
      "text/plain": [
       "SuggestedLRs(lr_min=0.006918309628963471, lr_steep=0.015848932787775993)"
      ]
     },
     "execution_count": 156,
     "metadata": {},
     "output_type": "execute_result"
    },
    {
     "data": {
      "image/png": "[encoded data removed]",
      "text/plain": [
       "<Figure size 432x288 with 1 Axes>"
      ]
     },
     "metadata": {
      "needs_background": "light"
     },
     "output_type": "display_data"
    }
   ],
   "source": [
    "learn.lr_find()"
   ]
  },
  {
   "cell_type": "code",
   "execution_count": 157,
   "metadata": {
    "scrolled": true
   },
   "outputs": [
    {
     "data": {
      "text/html": [
       "<table border=\"1\" class=\"dataframe\">\n",
       "  <thead>\n",
       "    <tr style=\"text-align: left;\">\n",
       "      <th>epoch</th>\n",
       "      <th>train_loss</th>\n",
       "      <th>valid_loss</th>\n",
       "      <th>error_rate</th>\n",
       "      <th>time</th>\n",
       "    </tr>\n",
       "  </thead>\n",
       "  <tbody>\n",
       "    <tr>\n",
       "      <td>0</td>\n",
       "      <td>4.596172</td>\n",
       "      <td>4.597099</td>\n",
       "      <td>0.989899</td>\n",
       "      <td>00:00</td>\n",
       "    </tr>\n",
       "    <tr>\n",
       "      <td>1</td>\n",
       "      <td>4.465029</td>\n",
       "      <td>4.585736</td>\n",
       "      <td>0.989899</td>\n",
       "      <td>00:00</td>\n",
       "    </tr>\n",
       "    <tr>\n",
       "      <td>2</td>\n",
       "      <td>4.199054</td>\n",
       "      <td>4.512604</td>\n",
       "      <td>0.954545</td>\n",
       "      <td>00:00</td>\n",
       "    </tr>\n",
       "    <tr>\n",
       "      <td>3</td>\n",
       "      <td>3.825448</td>\n",
       "      <td>4.266103</td>\n",
       "      <td>0.808081</td>\n",
       "      <td>00:00</td>\n",
       "    </tr>\n",
       "    <tr>\n",
       "      <td>4</td>\n",
       "      <td>3.387183</td>\n",
       "      <td>3.695434</td>\n",
       "      <td>0.505050</td>\n",
       "      <td>00:00</td>\n",
       "    </tr>\n",
       "    <tr>\n",
       "      <td>5</td>\n",
       "      <td>2.938494</td>\n",
       "      <td>2.897835</td>\n",
       "      <td>0.257576</td>\n",
       "      <td>00:00</td>\n",
       "    </tr>\n",
       "    <tr>\n",
       "      <td>6</td>\n",
       "      <td>2.529872</td>\n",
       "      <td>2.179207</td>\n",
       "      <td>0.176768</td>\n",
       "      <td>00:00</td>\n",
       "    </tr>\n",
       "    <tr>\n",
       "      <td>7</td>\n",
       "      <td>2.183120</td>\n",
       "      <td>1.671288</td>\n",
       "      <td>0.101010</td>\n",
       "      <td>00:00</td>\n",
       "    </tr>\n",
       "    <tr>\n",
       "      <td>8</td>\n",
       "      <td>1.907915</td>\n",
       "      <td>1.368894</td>\n",
       "      <td>0.060606</td>\n",
       "      <td>00:00</td>\n",
       "    </tr>\n",
       "    <tr>\n",
       "      <td>9</td>\n",
       "      <td>1.697374</td>\n",
       "      <td>1.240252</td>\n",
       "      <td>0.045455</td>\n",
       "      <td>00:00</td>\n",
       "    </tr>\n",
       "  </tbody>\n",
       "</table>"
      ],
      "text/plain": [
       "<IPython.core.display.HTML object>"
      ]
     },
     "metadata": {},
     "output_type": "display_data"
    }
   ],
   "source": [
    "learn.fit_one_cycle(10,lr=1e-3)"
   ]
  },
  {
   "cell_type": "code",
   "execution_count": 158,
   "metadata": {},
   "outputs": [
    {
     "data": {
      "text/html": [],
      "text/plain": [
       "<IPython.core.display.HTML object>"
      ]
     },
     "metadata": {},
     "output_type": "display_data"
    },
    {
     "data": {
      "text/plain": [
       "(#2) [1.2402516603469849,0.04545454680919647]"
      ]
     },
     "execution_count": 158,
     "metadata": {},
     "output_type": "execute_result"
    }
   ],
   "source": [
    "learn.validate()"
   ]
  },
  {
   "cell_type": "code",
   "execution_count": 176,
   "metadata": {},
   "outputs": [
    {
     "data": {
      "text/html": [
       "<table border=\"1\" class=\"dataframe\">\n",
       "  <thead>\n",
       "    <tr style=\"text-align: left;\">\n",
       "      <th>epoch</th>\n",
       "      <th>train_loss</th>\n",
       "      <th>valid_loss</th>\n",
       "      <th>error_rate</th>\n",
       "      <th>time</th>\n",
       "    </tr>\n",
       "  </thead>\n",
       "  <tbody>\n",
       "    <tr>\n",
       "      <td>0</td>\n",
       "      <td>None</td>\n",
       "      <td>None</td>\n",
       "      <td>00:00</td>\n",
       "    </tr>\n",
       "  </tbody>\n",
       "</table>"
      ],
      "text/plain": [
       "<IPython.core.display.HTML object>"
      ]
     },
     "metadata": {},
     "output_type": "display_data"
    },
    {
     "data": {
      "text/plain": [
       "TabularModel (Input shape: ['64 x 0', '64 x 192'])\n",
       "================================================================\n",
       "Layer (type)         Output Shape         Param #    Trainable \n",
       "================================================================\n",
       "BatchNorm1d          64 x 192             384        True      \n",
       "________________________________________________________________\n",
       "BatchNorm1d          64 x 192             384        True      \n",
       "________________________________________________________________\n",
       "Linear               64 x 200             38,400     True      \n",
       "________________________________________________________________\n",
       "ReLU                 64 x 100             0          False     \n",
       "________________________________________________________________\n",
       "BatchNorm1d          64 x 200             400        True      \n",
       "________________________________________________________________\n",
       "Linear               64 x 100             20,000     True      \n",
       "________________________________________________________________\n",
       "ReLU                 64 x 100             0          False     \n",
       "________________________________________________________________\n",
       "Linear               64 x 99              9,999      True      \n",
       "________________________________________________________________\n",
       "\n",
       "Total params: 69,567\n",
       "Total trainable params: 69,567\n",
       "Total non-trainable params: 0\n",
       "\n",
       "Optimizer used: <function Adam at 0x7f22b61f3950>\n",
       "Loss function: FlattenedLoss of CrossEntropyLoss()\n",
       "\n",
       "Callbacks:\n",
       "  - TrainEvalCallback\n",
       "  - Recorder\n",
       "  - ProgressCallback"
      ]
     },
     "execution_count": 176,
     "metadata": {},
     "output_type": "execute_result"
    }
   ],
   "source": [
    "learn.summary()"
   ]
  },
  {
   "cell_type": "code",
   "execution_count": 171,
   "metadata": {},
   "outputs": [
    {
     "data": {
      "text/plain": [
       "(#3) [TrainEvalCallback,Recorder,ProgressCallback]"
      ]
     },
     "execution_count": 171,
     "metadata": {},
     "output_type": "execute_result"
    }
   ],
   "source": [
    "sort_by_run(learn.cbs)"
   ]
  },
  {
   "cell_type": "code",
   "execution_count": 255,
   "metadata": {},
   "outputs": [],
   "source": [
    "# ??ClassificationInterpretation\n",
    "# ??interp.vocab"
   ]
  },
  {
   "cell_type": "code",
   "execution_count": 46,
   "metadata": {},
   "outputs": [
    {
     "data": {
      "text/html": [],
      "text/plain": [
       "<IPython.core.display.HTML object>"
      ]
     },
     "metadata": {},
     "output_type": "display_data"
    },
    {
     "data": {
      "text/html": [],
      "text/plain": [
       "<IPython.core.display.HTML object>"
      ]
     },
     "metadata": {},
     "output_type": "display_data"
    },
    {
     "data": {
      "text/html": [],
      "text/plain": [
       "<IPython.core.display.HTML object>"
      ]
     },
     "metadata": {},
     "output_type": "display_data"
    },
    {
     "data": {
      "text/plain": [
       "(2, torch.Size([198, 99]), torch.Size([198, 1]))"
      ]
     },
     "execution_count": 46,
     "metadata": {},
     "output_type": "execute_result"
    }
   ],
   "source": [
    "len(learn.get_preds()), learn.get_preds()[0].shape, learn.get_preds()[1].shape"
   ]
  },
  {
   "cell_type": "code",
   "execution_count": 47,
   "metadata": {},
   "outputs": [
    {
     "data": {
      "text/html": [],
      "text/plain": [
       "<IPython.core.display.HTML object>"
      ]
     },
     "metadata": {},
     "output_type": "display_data"
    }
   ],
   "source": [
    "interp = ClassificationInterpretation.from_learner(learn)"
   ]
  },
  {
   "cell_type": "code",
   "execution_count": 48,
   "metadata": {
    "scrolled": true
   },
   "outputs": [
    {
     "data": {
      "text/plain": [
       "{'Acer_Capillipes': 0,\n",
       " 'Acer_Circinatum': 1,\n",
       " 'Acer_Mono': 2,\n",
       " 'Acer_Opalus': 3,\n",
       " 'Acer_Palmatum': 4,\n",
       " 'Acer_Pictum': 5,\n",
       " 'Acer_Platanoids': 6,\n",
       " 'Acer_Rubrum': 7,\n",
       " 'Acer_Rufinerve': 8,\n",
       " 'Acer_Saccharinum': 9,\n",
       " 'Alnus_Cordata': 10,\n",
       " 'Alnus_Maximowiczii': 11,\n",
       " 'Alnus_Rubra': 12,\n",
       " 'Alnus_Sieboldiana': 13,\n",
       " 'Alnus_Viridis': 14,\n",
       " 'Arundinaria_Simonii': 15,\n",
       " 'Betula_Austrosinensis': 16,\n",
       " 'Betula_Pendula': 17,\n",
       " 'Callicarpa_Bodinieri': 18,\n",
       " 'Castanea_Sativa': 19,\n",
       " 'Celtis_Koraiensis': 20,\n",
       " 'Cercis_Siliquastrum': 21,\n",
       " 'Cornus_Chinensis': 22,\n",
       " 'Cornus_Controversa': 23,\n",
       " 'Cornus_Macrophylla': 24,\n",
       " 'Cotinus_Coggygria': 25,\n",
       " 'Crataegus_Monogyna': 26,\n",
       " 'Cytisus_Battandieri': 27,\n",
       " 'Eucalyptus_Glaucescens': 28,\n",
       " 'Eucalyptus_Neglecta': 29,\n",
       " 'Eucalyptus_Urnigera': 30,\n",
       " 'Fagus_Sylvatica': 31,\n",
       " 'Ginkgo_Biloba': 32,\n",
       " 'Ilex_Aquifolium': 33,\n",
       " 'Ilex_Cornuta': 34,\n",
       " 'Liquidambar_Styraciflua': 35,\n",
       " 'Liriodendron_Tulipifera': 36,\n",
       " 'Lithocarpus_Cleistocarpus': 37,\n",
       " 'Lithocarpus_Edulis': 38,\n",
       " 'Magnolia_Heptapeta': 39,\n",
       " 'Magnolia_Salicifolia': 40,\n",
       " 'Morus_Nigra': 41,\n",
       " 'Olea_Europaea': 42,\n",
       " 'Phildelphus': 43,\n",
       " 'Populus_Adenopoda': 44,\n",
       " 'Populus_Grandidentata': 45,\n",
       " 'Populus_Nigra': 46,\n",
       " 'Prunus_Avium': 47,\n",
       " 'Prunus_X_Shmittii': 48,\n",
       " 'Pterocarya_Stenoptera': 49,\n",
       " 'Quercus_Afares': 50,\n",
       " 'Quercus_Agrifolia': 51,\n",
       " 'Quercus_Alnifolia': 52,\n",
       " 'Quercus_Brantii': 53,\n",
       " 'Quercus_Canariensis': 54,\n",
       " 'Quercus_Castaneifolia': 55,\n",
       " 'Quercus_Cerris': 56,\n",
       " 'Quercus_Chrysolepis': 57,\n",
       " 'Quercus_Coccifera': 58,\n",
       " 'Quercus_Coccinea': 59,\n",
       " 'Quercus_Crassifolia': 60,\n",
       " 'Quercus_Crassipes': 61,\n",
       " 'Quercus_Dolicholepis': 62,\n",
       " 'Quercus_Ellipsoidalis': 63,\n",
       " 'Quercus_Greggii': 64,\n",
       " 'Quercus_Hartwissiana': 65,\n",
       " 'Quercus_Ilex': 66,\n",
       " 'Quercus_Imbricaria': 67,\n",
       " 'Quercus_Infectoria_sub': 68,\n",
       " 'Quercus_Kewensis': 69,\n",
       " 'Quercus_Nigra': 70,\n",
       " 'Quercus_Palustris': 71,\n",
       " 'Quercus_Phellos': 72,\n",
       " 'Quercus_Phillyraeoides': 73,\n",
       " 'Quercus_Pontica': 74,\n",
       " 'Quercus_Pubescens': 75,\n",
       " 'Quercus_Pyrenaica': 76,\n",
       " 'Quercus_Rhysophylla': 77,\n",
       " 'Quercus_Rubra': 78,\n",
       " 'Quercus_Semecarpifolia': 79,\n",
       " 'Quercus_Shumardii': 80,\n",
       " 'Quercus_Suber': 81,\n",
       " 'Quercus_Texana': 82,\n",
       " 'Quercus_Trojana': 83,\n",
       " 'Quercus_Variabilis': 84,\n",
       " 'Quercus_Vulcanica': 85,\n",
       " 'Quercus_x_Hispanica': 86,\n",
       " 'Quercus_x_Turneri': 87,\n",
       " 'Rhododendron_x_Russellianum': 88,\n",
       " 'Salix_Fragilis': 89,\n",
       " 'Salix_Intergra': 90,\n",
       " 'Sorbus_Aria': 91,\n",
       " 'Tilia_Oliveri': 92,\n",
       " 'Tilia_Platyphyllos': 93,\n",
       " 'Tilia_Tomentosa': 94,\n",
       " 'Ulmus_Bergmanniana': 95,\n",
       " 'Viburnum_Tinus': 96,\n",
       " 'Viburnum_x_Rhytidophylloides': 97,\n",
       " 'Zelkova_Serrata': 98}"
      ]
     },
     "execution_count": 48,
     "metadata": {},
     "output_type": "execute_result"
    }
   ],
   "source": [
    "# show the class to index interpretation\n",
    "interp.vocab.o2i"
   ]
  },
  {
   "cell_type": "code",
   "execution_count": 182,
   "metadata": {},
   "outputs": [],
   "source": [
    "??interp.vocab"
   ]
  },
  {
   "cell_type": "code",
   "execution_count": 49,
   "metadata": {},
   "outputs": [
    {
     "data": {
      "text/plain": [
       "(#1) [22]"
      ]
     },
     "execution_count": 49,
     "metadata": {},
     "output_type": "execute_result"
    }
   ],
   "source": [
    "interp.vocab.map_objs(['Cornus_Chinensis'])"
   ]
  },
  {
   "cell_type": "code",
   "execution_count": 50,
   "metadata": {},
   "outputs": [
    {
     "name": "stdout",
     "output_type": "stream",
     "text": [
      "                              precision    recall  f1-score   support\n",
      "\n",
      "             Acer_Capillipes       1.00      1.00      1.00         2\n",
      "             Acer_Circinatum       0.67      1.00      0.80         2\n",
      "                   Acer_Mono       1.00      1.00      1.00         2\n",
      "                 Acer_Opalus       0.67      1.00      0.80         2\n",
      "               Acer_Palmatum       1.00      1.00      1.00         2\n",
      "                 Acer_Pictum       1.00      0.50      0.67         2\n",
      "             Acer_Platanoids       1.00      1.00      1.00         2\n",
      "                 Acer_Rubrum       1.00      1.00      1.00         2\n",
      "              Acer_Rufinerve       1.00      1.00      1.00         2\n",
      "            Acer_Saccharinum       1.00      1.00      1.00         2\n",
      "               Alnus_Cordata       1.00      0.50      0.67         2\n",
      "          Alnus_Maximowiczii       0.00      0.00      0.00         2\n",
      "                 Alnus_Rubra       1.00      1.00      1.00         2\n",
      "           Alnus_Sieboldiana       0.50      1.00      0.67         2\n",
      "               Alnus_Viridis       1.00      1.00      1.00         2\n",
      "         Arundinaria_Simonii       1.00      1.00      1.00         2\n",
      "       Betula_Austrosinensis       1.00      1.00      1.00         2\n",
      "              Betula_Pendula       1.00      1.00      1.00         2\n",
      "        Callicarpa_Bodinieri       1.00      1.00      1.00         2\n",
      "             Castanea_Sativa       1.00      1.00      1.00         2\n",
      "           Celtis_Koraiensis       1.00      1.00      1.00         2\n",
      "         Cercis_Siliquastrum       0.50      1.00      0.67         2\n",
      "            Cornus_Chinensis       1.00      1.00      1.00         2\n",
      "          Cornus_Controversa       1.00      1.00      1.00         2\n",
      "          Cornus_Macrophylla       0.67      1.00      0.80         2\n",
      "           Cotinus_Coggygria       1.00      1.00      1.00         2\n",
      "          Crataegus_Monogyna       0.00      0.00      0.00         2\n",
      "         Cytisus_Battandieri       1.00      0.50      0.67         2\n",
      "      Eucalyptus_Glaucescens       1.00      0.50      0.67         2\n",
      "         Eucalyptus_Neglecta       1.00      1.00      1.00         2\n",
      "         Eucalyptus_Urnigera       1.00      1.00      1.00         2\n",
      "             Fagus_Sylvatica       0.00      0.00      0.00         2\n",
      "               Ginkgo_Biloba       1.00      1.00      1.00         2\n",
      "             Ilex_Aquifolium       1.00      1.00      1.00         2\n",
      "                Ilex_Cornuta       1.00      1.00      1.00         2\n",
      "     Liquidambar_Styraciflua       0.67      1.00      0.80         2\n",
      "     Liriodendron_Tulipifera       1.00      1.00      1.00         2\n",
      "   Lithocarpus_Cleistocarpus       1.00      1.00      1.00         2\n",
      "          Lithocarpus_Edulis       1.00      1.00      1.00         2\n",
      "          Magnolia_Heptapeta       1.00      1.00      1.00         2\n",
      "        Magnolia_Salicifolia       1.00      1.00      1.00         2\n",
      "                 Morus_Nigra       0.40      1.00      0.57         2\n",
      "               Olea_Europaea       1.00      1.00      1.00         2\n",
      "                 Phildelphus       1.00      1.00      1.00         2\n",
      "           Populus_Adenopoda       1.00      1.00      1.00         2\n",
      "       Populus_Grandidentata       1.00      1.00      1.00         2\n",
      "               Populus_Nigra       1.00      1.00      1.00         2\n",
      "                Prunus_Avium       1.00      1.00      1.00         2\n",
      "           Prunus_X_Shmittii       1.00      0.50      0.67         2\n",
      "       Pterocarya_Stenoptera       1.00      1.00      1.00         2\n",
      "              Quercus_Afares       1.00      1.00      1.00         2\n",
      "           Quercus_Agrifolia       1.00      1.00      1.00         2\n",
      "           Quercus_Alnifolia       1.00      1.00      1.00         2\n",
      "             Quercus_Brantii       1.00      1.00      1.00         2\n",
      "         Quercus_Canariensis       1.00      1.00      1.00         2\n",
      "       Quercus_Castaneifolia       0.67      1.00      0.80         2\n",
      "              Quercus_Cerris       1.00      1.00      1.00         2\n",
      "         Quercus_Chrysolepis       1.00      1.00      1.00         2\n",
      "           Quercus_Coccifera       1.00      1.00      1.00         2\n",
      "            Quercus_Coccinea       1.00      1.00      1.00         2\n",
      "         Quercus_Crassifolia       1.00      1.00      1.00         2\n",
      "           Quercus_Crassipes       1.00      1.00      1.00         2\n",
      "        Quercus_Dolicholepis       1.00      1.00      1.00         2\n",
      "       Quercus_Ellipsoidalis       1.00      1.00      1.00         2\n",
      "             Quercus_Greggii       1.00      1.00      1.00         2\n",
      "        Quercus_Hartwissiana       1.00      1.00      1.00         2\n",
      "                Quercus_Ilex       1.00      1.00      1.00         2\n",
      "          Quercus_Imbricaria       1.00      1.00      1.00         2\n",
      "      Quercus_Infectoria_sub       1.00      1.00      1.00         2\n",
      "            Quercus_Kewensis       0.00      0.00      0.00         2\n",
      "               Quercus_Nigra       1.00      1.00      1.00         2\n",
      "           Quercus_Palustris       0.67      1.00      0.80         2\n",
      "             Quercus_Phellos       1.00      1.00      1.00         2\n",
      "      Quercus_Phillyraeoides       1.00      1.00      1.00         2\n",
      "             Quercus_Pontica       1.00      1.00      1.00         2\n",
      "           Quercus_Pubescens       1.00      1.00      1.00         2\n",
      "           Quercus_Pyrenaica       1.00      1.00      1.00         2\n",
      "         Quercus_Rhysophylla       1.00      1.00      1.00         2\n",
      "               Quercus_Rubra       1.00      1.00      1.00         2\n",
      "      Quercus_Semecarpifolia       1.00      1.00      1.00         2\n",
      "           Quercus_Shumardii       1.00      0.50      0.67         2\n",
      "               Quercus_Suber       1.00      1.00      1.00         2\n",
      "              Quercus_Texana       1.00      1.00      1.00         2\n",
      "             Quercus_Trojana       1.00      1.00      1.00         2\n",
      "          Quercus_Variabilis       1.00      1.00      1.00         2\n",
      "           Quercus_Vulcanica       1.00      1.00      1.00         2\n",
      "         Quercus_x_Hispanica       1.00      1.00      1.00         2\n",
      "           Quercus_x_Turneri       1.00      1.00      1.00         2\n",
      " Rhododendron_x_Russellianum       1.00      1.00      1.00         2\n",
      "              Salix_Fragilis       1.00      1.00      1.00         2\n",
      "              Salix_Intergra       1.00      1.00      1.00         2\n",
      "                 Sorbus_Aria       1.00      1.00      1.00         2\n",
      "               Tilia_Oliveri       0.67      1.00      0.80         2\n",
      "          Tilia_Platyphyllos       1.00      1.00      1.00         2\n",
      "             Tilia_Tomentosa       1.00      0.50      0.67         2\n",
      "          Ulmus_Bergmanniana       1.00      1.00      1.00         2\n",
      "              Viburnum_Tinus       0.67      1.00      0.80         2\n",
      "Viburnum_x_Rhytidophylloides       1.00      1.00      1.00         2\n",
      "             Zelkova_Serrata       1.00      1.00      1.00         2\n",
      "\n",
      "                    accuracy                           0.92       198\n",
      "                   macro avg       0.92      0.92      0.91       198\n",
      "                weighted avg       0.92      0.92      0.91       198\n",
      "\n"
     ]
    },
    {
     "name": "stderr",
     "output_type": "stream",
     "text": [
      "/jet/var/python/lib/python3.6/site-packages/sklearn/metrics/_classification.py:1221: UndefinedMetricWarning: Precision and F-score are ill-defined and being set to 0.0 in labels with no predicted samples. Use `zero_division` parameter to control this behavior.\n",
      "  _warn_prf(average, modifier, msg_start, len(result))\n"
     ]
    }
   ],
   "source": [
    "interp.print_classification_report()"
   ]
  },
  {
   "cell_type": "code",
   "execution_count": 51,
   "metadata": {},
   "outputs": [
    {
     "data": {
      "text/html": [],
      "text/plain": [
       "<IPython.core.display.HTML object>"
      ]
     },
     "metadata": {},
     "output_type": "display_data"
    }
   ],
   "source": [
    "row, clas, probs = learn.predict(df_train.iloc[10])"
   ]
  },
  {
   "cell_type": "code",
   "execution_count": 52,
   "metadata": {},
   "outputs": [
    {
     "data": {
      "text/html": [
       "<table border=\"1\" class=\"dataframe\">\n",
       "  <thead>\n",
       "    <tr style=\"text-align: right;\">\n",
       "      <th></th>\n",
       "      <th>margin1</th>\n",
       "      <th>margin2</th>\n",
       "      <th>margin3</th>\n",
       "      <th>margin4</th>\n",
       "      <th>margin5</th>\n",
       "      <th>margin6</th>\n",
       "      <th>margin7</th>\n",
       "      <th>margin8</th>\n",
       "      <th>margin9</th>\n",
       "      <th>margin10</th>\n",
       "      <th>margin11</th>\n",
       "      <th>margin12</th>\n",
       "      <th>margin13</th>\n",
       "      <th>margin14</th>\n",
       "      <th>margin15</th>\n",
       "      <th>margin16</th>\n",
       "      <th>margin17</th>\n",
       "      <th>margin18</th>\n",
       "      <th>margin19</th>\n",
       "      <th>margin20</th>\n",
       "      <th>margin21</th>\n",
       "      <th>margin22</th>\n",
       "      <th>margin23</th>\n",
       "      <th>margin24</th>\n",
       "      <th>margin25</th>\n",
       "      <th>margin26</th>\n",
       "      <th>margin27</th>\n",
       "      <th>margin28</th>\n",
       "      <th>margin29</th>\n",
       "      <th>margin30</th>\n",
       "      <th>margin31</th>\n",
       "      <th>margin32</th>\n",
       "      <th>margin33</th>\n",
       "      <th>margin34</th>\n",
       "      <th>margin35</th>\n",
       "      <th>margin36</th>\n",
       "      <th>margin37</th>\n",
       "      <th>margin38</th>\n",
       "      <th>margin39</th>\n",
       "      <th>margin40</th>\n",
       "      <th>margin41</th>\n",
       "      <th>margin42</th>\n",
       "      <th>margin43</th>\n",
       "      <th>margin44</th>\n",
       "      <th>margin45</th>\n",
       "      <th>margin46</th>\n",
       "      <th>margin47</th>\n",
       "      <th>margin48</th>\n",
       "      <th>margin49</th>\n",
       "      <th>margin50</th>\n",
       "      <th>margin51</th>\n",
       "      <th>margin52</th>\n",
       "      <th>margin53</th>\n",
       "      <th>margin54</th>\n",
       "      <th>margin55</th>\n",
       "      <th>margin56</th>\n",
       "      <th>margin57</th>\n",
       "      <th>margin58</th>\n",
       "      <th>margin59</th>\n",
       "      <th>margin60</th>\n",
       "      <th>margin61</th>\n",
       "      <th>margin62</th>\n",
       "      <th>margin63</th>\n",
       "      <th>margin64</th>\n",
       "      <th>shape1</th>\n",
       "      <th>shape2</th>\n",
       "      <th>shape3</th>\n",
       "      <th>shape4</th>\n",
       "      <th>shape5</th>\n",
       "      <th>shape6</th>\n",
       "      <th>shape7</th>\n",
       "      <th>shape8</th>\n",
       "      <th>shape9</th>\n",
       "      <th>shape10</th>\n",
       "      <th>shape11</th>\n",
       "      <th>shape12</th>\n",
       "      <th>shape13</th>\n",
       "      <th>shape14</th>\n",
       "      <th>shape15</th>\n",
       "      <th>shape16</th>\n",
       "      <th>shape17</th>\n",
       "      <th>shape18</th>\n",
       "      <th>shape19</th>\n",
       "      <th>shape20</th>\n",
       "      <th>shape21</th>\n",
       "      <th>shape22</th>\n",
       "      <th>shape23</th>\n",
       "      <th>shape24</th>\n",
       "      <th>shape25</th>\n",
       "      <th>shape26</th>\n",
       "      <th>shape27</th>\n",
       "      <th>shape28</th>\n",
       "      <th>shape29</th>\n",
       "      <th>shape30</th>\n",
       "      <th>shape31</th>\n",
       "      <th>shape32</th>\n",
       "      <th>shape33</th>\n",
       "      <th>shape34</th>\n",
       "      <th>shape35</th>\n",
       "      <th>shape36</th>\n",
       "      <th>shape37</th>\n",
       "      <th>shape38</th>\n",
       "      <th>shape39</th>\n",
       "      <th>shape40</th>\n",
       "      <th>shape41</th>\n",
       "      <th>shape42</th>\n",
       "      <th>shape43</th>\n",
       "      <th>shape44</th>\n",
       "      <th>shape45</th>\n",
       "      <th>shape46</th>\n",
       "      <th>shape47</th>\n",
       "      <th>shape48</th>\n",
       "      <th>shape49</th>\n",
       "      <th>shape50</th>\n",
       "      <th>shape51</th>\n",
       "      <th>shape52</th>\n",
       "      <th>shape53</th>\n",
       "      <th>shape54</th>\n",
       "      <th>shape55</th>\n",
       "      <th>shape56</th>\n",
       "      <th>shape57</th>\n",
       "      <th>shape58</th>\n",
       "      <th>shape59</th>\n",
       "      <th>shape60</th>\n",
       "      <th>shape61</th>\n",
       "      <th>shape62</th>\n",
       "      <th>shape63</th>\n",
       "      <th>shape64</th>\n",
       "      <th>texture1</th>\n",
       "      <th>texture2</th>\n",
       "      <th>texture3</th>\n",
       "      <th>texture4</th>\n",
       "      <th>texture5</th>\n",
       "      <th>texture6</th>\n",
       "      <th>texture7</th>\n",
       "      <th>texture8</th>\n",
       "      <th>texture9</th>\n",
       "      <th>texture10</th>\n",
       "      <th>texture11</th>\n",
       "      <th>texture12</th>\n",
       "      <th>texture13</th>\n",
       "      <th>texture14</th>\n",
       "      <th>texture15</th>\n",
       "      <th>texture16</th>\n",
       "      <th>texture17</th>\n",
       "      <th>texture18</th>\n",
       "      <th>texture19</th>\n",
       "      <th>texture20</th>\n",
       "      <th>texture21</th>\n",
       "      <th>texture22</th>\n",
       "      <th>texture23</th>\n",
       "      <th>texture24</th>\n",
       "      <th>texture25</th>\n",
       "      <th>texture26</th>\n",
       "      <th>texture27</th>\n",
       "      <th>texture28</th>\n",
       "      <th>texture29</th>\n",
       "      <th>texture30</th>\n",
       "      <th>texture31</th>\n",
       "      <th>texture32</th>\n",
       "      <th>texture33</th>\n",
       "      <th>texture34</th>\n",
       "      <th>texture35</th>\n",
       "      <th>texture36</th>\n",
       "      <th>texture37</th>\n",
       "      <th>texture38</th>\n",
       "      <th>texture39</th>\n",
       "      <th>texture40</th>\n",
       "      <th>texture41</th>\n",
       "      <th>texture42</th>\n",
       "      <th>texture43</th>\n",
       "      <th>texture44</th>\n",
       "      <th>texture45</th>\n",
       "      <th>texture46</th>\n",
       "      <th>texture47</th>\n",
       "      <th>texture48</th>\n",
       "      <th>texture49</th>\n",
       "      <th>texture50</th>\n",
       "      <th>texture51</th>\n",
       "      <th>texture52</th>\n",
       "      <th>texture53</th>\n",
       "      <th>texture54</th>\n",
       "      <th>texture55</th>\n",
       "      <th>texture56</th>\n",
       "      <th>texture57</th>\n",
       "      <th>texture58</th>\n",
       "      <th>texture59</th>\n",
       "      <th>texture60</th>\n",
       "      <th>texture61</th>\n",
       "      <th>texture62</th>\n",
       "      <th>texture63</th>\n",
       "      <th>texture64</th>\n",
       "      <th>species</th>\n",
       "    </tr>\n",
       "  </thead>\n",
       "  <tbody>\n",
       "    <tr>\n",
       "      <th>0</th>\n",
       "      <td>0.019531</td>\n",
       "      <td>0.03125</td>\n",
       "      <td>0.001953</td>\n",
       "      <td>0.005859</td>\n",
       "      <td>0.003906</td>\n",
       "      <td>0.013672</td>\n",
       "      <td>0.033203</td>\n",
       "      <td>0.0</td>\n",
       "      <td>0.011719</td>\n",
       "      <td>0.042969</td>\n",
       "      <td>0.015625</td>\n",
       "      <td>0.017578</td>\n",
       "      <td>0.019531</td>\n",
       "      <td>0.009766</td>\n",
       "      <td>0.015625</td>\n",
       "      <td>0.0</td>\n",
       "      <td>0.046875</td>\n",
       "      <td>0.001953</td>\n",
       "      <td>0.025391</td>\n",
       "      <td>0.011719</td>\n",
       "      <td>0.025391</td>\n",
       "      <td>0.021484</td>\n",
       "      <td>0.0</td>\n",
       "      <td>0.029297</td>\n",
       "      <td>0.011719</td>\n",
       "      <td>0.025391</td>\n",
       "      <td>0.015625</td>\n",
       "      <td>0.011719</td>\n",
       "      <td>0.003906</td>\n",
       "      <td>0.013672</td>\n",
       "      <td>0.007812</td>\n",
       "      <td>0.001953</td>\n",
       "      <td>0.007812</td>\n",
       "      <td>0.0</td>\n",
       "      <td>0.027344</td>\n",
       "      <td>0.021484</td>\n",
       "      <td>0.001953</td>\n",
       "      <td>0.017578</td>\n",
       "      <td>0.015625</td>\n",
       "      <td>0.001953</td>\n",
       "      <td>0.001953</td>\n",
       "      <td>0.009766</td>\n",
       "      <td>0.035156</td>\n",
       "      <td>0.001953</td>\n",
       "      <td>0.007812</td>\n",
       "      <td>0.011719</td>\n",
       "      <td>0.027344</td>\n",
       "      <td>0.052734</td>\n",
       "      <td>0.003906</td>\n",
       "      <td>0.050781</td>\n",
       "      <td>0.013672</td>\n",
       "      <td>0.007812</td>\n",
       "      <td>0.060547</td>\n",
       "      <td>0.001953</td>\n",
       "      <td>0.023438</td>\n",
       "      <td>0.007812</td>\n",
       "      <td>0.009766</td>\n",
       "      <td>0.003906</td>\n",
       "      <td>0.0</td>\n",
       "      <td>0.029297</td>\n",
       "      <td>0.001953</td>\n",
       "      <td>0.033203</td>\n",
       "      <td>0.0</td>\n",
       "      <td>0.013672</td>\n",
       "      <td>0.000683</td>\n",
       "      <td>0.000729</td>\n",
       "      <td>0.000656</td>\n",
       "      <td>0.000638</td>\n",
       "      <td>0.000616</td>\n",
       "      <td>0.000596</td>\n",
       "      <td>0.000575</td>\n",
       "      <td>0.000529</td>\n",
       "      <td>0.00051</td>\n",
       "      <td>0.000464</td>\n",
       "      <td>0.000453</td>\n",
       "      <td>0.000431</td>\n",
       "      <td>0.000402</td>\n",
       "      <td>0.000414</td>\n",
       "      <td>0.000413</td>\n",
       "      <td>0.000399</td>\n",
       "      <td>0.000426</td>\n",
       "      <td>0.000395</td>\n",
       "      <td>0.000432</td>\n",
       "      <td>0.000436</td>\n",
       "      <td>0.000457</td>\n",
       "      <td>0.000499</td>\n",
       "      <td>0.000494</td>\n",
       "      <td>0.00054</td>\n",
       "      <td>0.000556</td>\n",
       "      <td>0.000613</td>\n",
       "      <td>0.000612</td>\n",
       "      <td>0.000679</td>\n",
       "      <td>0.000721</td>\n",
       "      <td>0.000791</td>\n",
       "      <td>0.000845</td>\n",
       "      <td>0.000914</td>\n",
       "      <td>0.000987</td>\n",
       "      <td>0.00099</td>\n",
       "      <td>0.000918</td>\n",
       "      <td>0.000844</td>\n",
       "      <td>0.000785</td>\n",
       "      <td>0.000713</td>\n",
       "      <td>0.000671</td>\n",
       "      <td>0.000603</td>\n",
       "      <td>0.000576</td>\n",
       "      <td>0.000577</td>\n",
       "      <td>0.00054</td>\n",
       "      <td>0.000497</td>\n",
       "      <td>0.000484</td>\n",
       "      <td>0.000427</td>\n",
       "      <td>0.000448</td>\n",
       "      <td>0.000408</td>\n",
       "      <td>0.000399</td>\n",
       "      <td>0.000386</td>\n",
       "      <td>0.000353</td>\n",
       "      <td>0.000387</td>\n",
       "      <td>0.000383</td>\n",
       "      <td>0.000401</td>\n",
       "      <td>0.000432</td>\n",
       "      <td>0.000442</td>\n",
       "      <td>0.000494</td>\n",
       "      <td>0.000528</td>\n",
       "      <td>0.000563</td>\n",
       "      <td>0.000616</td>\n",
       "      <td>0.000656</td>\n",
       "      <td>0.000692</td>\n",
       "      <td>0.000698</td>\n",
       "      <td>0.000684</td>\n",
       "      <td>0.011719</td>\n",
       "      <td>0.007812</td>\n",
       "      <td>0.00293</td>\n",
       "      <td>0.021484</td>\n",
       "      <td>0.004883</td>\n",
       "      <td>0.003906</td>\n",
       "      <td>0.054688</td>\n",
       "      <td>0.004883</td>\n",
       "      <td>0.019531</td>\n",
       "      <td>0.009766</td>\n",
       "      <td>0.014648</td>\n",
       "      <td>0.0</td>\n",
       "      <td>0.000977</td>\n",
       "      <td>0.008789</td>\n",
       "      <td>0.0</td>\n",
       "      <td>0.0</td>\n",
       "      <td>0.004883</td>\n",
       "      <td>0.0</td>\n",
       "      <td>0.083008</td>\n",
       "      <td>0.006836</td>\n",
       "      <td>0.0</td>\n",
       "      <td>0.007812</td>\n",
       "      <td>0.00293</td>\n",
       "      <td>0.0</td>\n",
       "      <td>0.001953</td>\n",
       "      <td>0.005859</td>\n",
       "      <td>0.12598</td>\n",
       "      <td>0.0</td>\n",
       "      <td>0.032227</td>\n",
       "      <td>0.004883</td>\n",
       "      <td>0.06543</td>\n",
       "      <td>0.0</td>\n",
       "      <td>0.0</td>\n",
       "      <td>0.011719</td>\n",
       "      <td>0.004883</td>\n",
       "      <td>0.0</td>\n",
       "      <td>0.000977</td>\n",
       "      <td>0.018555</td>\n",
       "      <td>0.052734</td>\n",
       "      <td>0.023438</td>\n",
       "      <td>0.029297</td>\n",
       "      <td>0.0</td>\n",
       "      <td>0.037109</td>\n",
       "      <td>0.099609</td>\n",
       "      <td>0.003906</td>\n",
       "      <td>0.003906</td>\n",
       "      <td>0.009766</td>\n",
       "      <td>0.0</td>\n",
       "      <td>0.007812</td>\n",
       "      <td>0.022461</td>\n",
       "      <td>0.0</td>\n",
       "      <td>0.0</td>\n",
       "      <td>0.003906</td>\n",
       "      <td>0.11328</td>\n",
       "      <td>0.009766</td>\n",
       "      <td>0.0</td>\n",
       "      <td>0.0</td>\n",
       "      <td>0.00293</td>\n",
       "      <td>0.024414</td>\n",
       "      <td>0.0</td>\n",
       "      <td>0.0</td>\n",
       "      <td>0.006836</td>\n",
       "      <td>0.0</td>\n",
       "      <td>0.004883</td>\n",
       "      <td>Zelkova_Serrata</td>\n",
       "    </tr>\n",
       "  </tbody>\n",
       "</table>"
      ],
      "text/plain": [
       "<IPython.core.display.HTML object>"
      ]
     },
     "metadata": {},
     "output_type": "display_data"
    }
   ],
   "source": [
    "row.show()"
   ]
  },
  {
   "cell_type": "code",
   "execution_count": 53,
   "metadata": {},
   "outputs": [
    {
     "data": {
      "text/plain": [
       "(tensor(98),\n",
       " tensor([0.0010, 0.0062, 0.0092, 0.0556, 0.0032, 0.0012, 0.0072, 0.0057, 0.0032,\n",
       "         0.0027, 0.0090, 0.0041, 0.0420, 0.0096, 0.0018, 0.0023, 0.0025, 0.0057,\n",
       "         0.0044, 0.0032, 0.0032, 0.0086, 0.0009, 0.0051, 0.0018, 0.0021, 0.0056,\n",
       "         0.0033, 0.0072, 0.0054, 0.0105, 0.0028, 0.0016, 0.0012, 0.0014, 0.0005,\n",
       "         0.0023, 0.0041, 0.0022, 0.0024, 0.0038, 0.0105, 0.0012, 0.0044, 0.0011,\n",
       "         0.0170, 0.0041, 0.0135, 0.0128, 0.0021, 0.0263, 0.0023, 0.0053, 0.0138,\n",
       "         0.0058, 0.0126, 0.0011, 0.0010, 0.0026, 0.0011, 0.0177, 0.0017, 0.0027,\n",
       "         0.0013, 0.0076, 0.0066, 0.0010, 0.0024, 0.0237, 0.0236, 0.0032, 0.0040,\n",
       "         0.0019, 0.0036, 0.0024, 0.0049, 0.0103, 0.0022, 0.0008, 0.0374, 0.0051,\n",
       "         0.0292, 0.0003, 0.0017, 0.0018, 0.0335, 0.0105, 0.0142, 0.0014, 0.0012,\n",
       "         0.0036, 0.0067, 0.0040, 0.0092, 0.0301, 0.0007, 0.0162, 0.0051, 0.2716]))"
      ]
     },
     "execution_count": 53,
     "metadata": {},
     "output_type": "execute_result"
    }
   ],
   "source": [
    "clas, probs"
   ]
  },
  {
   "cell_type": "markdown",
   "metadata": {},
   "source": [
    "### Apply model to the test set"
   ]
  },
  {
   "cell_type": "code",
   "execution_count": 54,
   "metadata": {},
   "outputs": [],
   "source": [
    "df_test = pd.read_csv(path/'test.csv')"
   ]
  },
  {
   "cell_type": "code",
   "execution_count": 55,
   "metadata": {},
   "outputs": [],
   "source": [
    "dl = learn.dls.test_dl(df_test)"
   ]
  },
  {
   "cell_type": "code",
   "execution_count": 94,
   "metadata": {},
   "outputs": [],
   "source": [
    "dl = learn.dls.test_dl(df_tt)"
   ]
  },
  {
   "cell_type": "code",
   "execution_count": 95,
   "metadata": {},
   "outputs": [
    {
     "data": {
      "text/html": [
       "<table border=\"1\" class=\"dataframe\">\n",
       "  <thead>\n",
       "    <tr style=\"text-align: right;\">\n",
       "      <th></th>\n",
       "      <th>margin1</th>\n",
       "      <th>margin2</th>\n",
       "      <th>margin3</th>\n",
       "      <th>margin4</th>\n",
       "      <th>margin5</th>\n",
       "      <th>margin6</th>\n",
       "      <th>margin7</th>\n",
       "      <th>margin8</th>\n",
       "      <th>margin9</th>\n",
       "      <th>margin10</th>\n",
       "      <th>margin11</th>\n",
       "      <th>margin12</th>\n",
       "      <th>margin13</th>\n",
       "      <th>margin14</th>\n",
       "      <th>margin15</th>\n",
       "      <th>margin16</th>\n",
       "      <th>margin17</th>\n",
       "      <th>margin18</th>\n",
       "      <th>margin19</th>\n",
       "      <th>margin20</th>\n",
       "      <th>margin21</th>\n",
       "      <th>margin22</th>\n",
       "      <th>margin23</th>\n",
       "      <th>margin24</th>\n",
       "      <th>margin25</th>\n",
       "      <th>margin26</th>\n",
       "      <th>margin27</th>\n",
       "      <th>margin28</th>\n",
       "      <th>margin29</th>\n",
       "      <th>margin30</th>\n",
       "      <th>margin31</th>\n",
       "      <th>margin32</th>\n",
       "      <th>margin33</th>\n",
       "      <th>margin34</th>\n",
       "      <th>margin35</th>\n",
       "      <th>margin36</th>\n",
       "      <th>margin37</th>\n",
       "      <th>margin38</th>\n",
       "      <th>margin39</th>\n",
       "      <th>margin40</th>\n",
       "      <th>margin41</th>\n",
       "      <th>margin42</th>\n",
       "      <th>margin43</th>\n",
       "      <th>margin44</th>\n",
       "      <th>margin45</th>\n",
       "      <th>margin46</th>\n",
       "      <th>margin47</th>\n",
       "      <th>margin48</th>\n",
       "      <th>margin49</th>\n",
       "      <th>margin50</th>\n",
       "      <th>margin51</th>\n",
       "      <th>margin52</th>\n",
       "      <th>margin53</th>\n",
       "      <th>margin54</th>\n",
       "      <th>margin55</th>\n",
       "      <th>margin56</th>\n",
       "      <th>margin57</th>\n",
       "      <th>margin58</th>\n",
       "      <th>margin59</th>\n",
       "      <th>margin60</th>\n",
       "      <th>margin61</th>\n",
       "      <th>margin62</th>\n",
       "      <th>margin63</th>\n",
       "      <th>margin64</th>\n",
       "      <th>shape1</th>\n",
       "      <th>shape2</th>\n",
       "      <th>shape3</th>\n",
       "      <th>shape4</th>\n",
       "      <th>shape5</th>\n",
       "      <th>shape6</th>\n",
       "      <th>shape7</th>\n",
       "      <th>shape8</th>\n",
       "      <th>shape9</th>\n",
       "      <th>shape10</th>\n",
       "      <th>shape11</th>\n",
       "      <th>shape12</th>\n",
       "      <th>shape13</th>\n",
       "      <th>shape14</th>\n",
       "      <th>shape15</th>\n",
       "      <th>shape16</th>\n",
       "      <th>shape17</th>\n",
       "      <th>shape18</th>\n",
       "      <th>shape19</th>\n",
       "      <th>shape20</th>\n",
       "      <th>shape21</th>\n",
       "      <th>shape22</th>\n",
       "      <th>shape23</th>\n",
       "      <th>shape24</th>\n",
       "      <th>shape25</th>\n",
       "      <th>shape26</th>\n",
       "      <th>shape27</th>\n",
       "      <th>shape28</th>\n",
       "      <th>shape29</th>\n",
       "      <th>shape30</th>\n",
       "      <th>shape31</th>\n",
       "      <th>shape32</th>\n",
       "      <th>shape33</th>\n",
       "      <th>shape34</th>\n",
       "      <th>shape35</th>\n",
       "      <th>shape36</th>\n",
       "      <th>shape37</th>\n",
       "      <th>shape38</th>\n",
       "      <th>shape39</th>\n",
       "      <th>shape40</th>\n",
       "      <th>shape41</th>\n",
       "      <th>shape42</th>\n",
       "      <th>shape43</th>\n",
       "      <th>shape44</th>\n",
       "      <th>shape45</th>\n",
       "      <th>shape46</th>\n",
       "      <th>shape47</th>\n",
       "      <th>shape48</th>\n",
       "      <th>shape49</th>\n",
       "      <th>shape50</th>\n",
       "      <th>shape51</th>\n",
       "      <th>shape52</th>\n",
       "      <th>shape53</th>\n",
       "      <th>shape54</th>\n",
       "      <th>shape55</th>\n",
       "      <th>shape56</th>\n",
       "      <th>shape57</th>\n",
       "      <th>shape58</th>\n",
       "      <th>shape59</th>\n",
       "      <th>shape60</th>\n",
       "      <th>shape61</th>\n",
       "      <th>shape62</th>\n",
       "      <th>shape63</th>\n",
       "      <th>shape64</th>\n",
       "      <th>texture1</th>\n",
       "      <th>texture2</th>\n",
       "      <th>texture3</th>\n",
       "      <th>texture4</th>\n",
       "      <th>texture5</th>\n",
       "      <th>texture6</th>\n",
       "      <th>texture7</th>\n",
       "      <th>texture8</th>\n",
       "      <th>texture9</th>\n",
       "      <th>texture10</th>\n",
       "      <th>texture11</th>\n",
       "      <th>texture12</th>\n",
       "      <th>texture13</th>\n",
       "      <th>texture14</th>\n",
       "      <th>texture15</th>\n",
       "      <th>texture16</th>\n",
       "      <th>texture17</th>\n",
       "      <th>texture18</th>\n",
       "      <th>texture19</th>\n",
       "      <th>texture20</th>\n",
       "      <th>texture21</th>\n",
       "      <th>texture22</th>\n",
       "      <th>texture23</th>\n",
       "      <th>texture24</th>\n",
       "      <th>texture25</th>\n",
       "      <th>texture26</th>\n",
       "      <th>texture27</th>\n",
       "      <th>texture28</th>\n",
       "      <th>texture29</th>\n",
       "      <th>texture30</th>\n",
       "      <th>texture31</th>\n",
       "      <th>texture32</th>\n",
       "      <th>texture33</th>\n",
       "      <th>texture34</th>\n",
       "      <th>texture35</th>\n",
       "      <th>texture36</th>\n",
       "      <th>texture37</th>\n",
       "      <th>texture38</th>\n",
       "      <th>texture39</th>\n",
       "      <th>texture40</th>\n",
       "      <th>texture41</th>\n",
       "      <th>texture42</th>\n",
       "      <th>texture43</th>\n",
       "      <th>texture44</th>\n",
       "      <th>texture45</th>\n",
       "      <th>texture46</th>\n",
       "      <th>texture47</th>\n",
       "      <th>texture48</th>\n",
       "      <th>texture49</th>\n",
       "      <th>texture50</th>\n",
       "      <th>texture51</th>\n",
       "      <th>texture52</th>\n",
       "      <th>texture53</th>\n",
       "      <th>texture54</th>\n",
       "      <th>texture55</th>\n",
       "      <th>texture56</th>\n",
       "      <th>texture57</th>\n",
       "      <th>texture58</th>\n",
       "      <th>texture59</th>\n",
       "      <th>texture60</th>\n",
       "      <th>texture61</th>\n",
       "      <th>texture62</th>\n",
       "      <th>texture63</th>\n",
       "      <th>texture64</th>\n",
       "      <th>species</th>\n",
       "    </tr>\n",
       "  </thead>\n",
       "  <tbody>\n",
       "    <tr>\n",
       "      <th>0</th>\n",
       "      <td>0.007812</td>\n",
       "      <td>0.023438</td>\n",
       "      <td>0.023438</td>\n",
       "      <td>0.003906</td>\n",
       "      <td>0.011719</td>\n",
       "      <td>0.009766</td>\n",
       "      <td>0.027344</td>\n",
       "      <td>0.0</td>\n",
       "      <td>0.001953</td>\n",
       "      <td>0.033203</td>\n",
       "      <td>0.013672</td>\n",
       "      <td>0.019531</td>\n",
       "      <td>0.066406</td>\n",
       "      <td>0.000000</td>\n",
       "      <td>0.029297</td>\n",
       "      <td>0.0</td>\n",
       "      <td>0.031250</td>\n",
       "      <td>0.011719</td>\n",
       "      <td>0.000000</td>\n",
       "      <td>0.025391</td>\n",
       "      <td>0.023438</td>\n",
       "      <td>0.001953</td>\n",
       "      <td>0.0</td>\n",
       "      <td>0.015625</td>\n",
       "      <td>0.000000</td>\n",
       "      <td>0.031250</td>\n",
       "      <td>0.000000</td>\n",
       "      <td>0.013672</td>\n",
       "      <td>0.029297</td>\n",
       "      <td>0.015625</td>\n",
       "      <td>0.011719</td>\n",
       "      <td>0.003906</td>\n",
       "      <td>0.025391</td>\n",
       "      <td>0.000000</td>\n",
       "      <td>0.001953</td>\n",
       "      <td>0.011719</td>\n",
       "      <td>0.009766</td>\n",
       "      <td>0.041016</td>\n",
       "      <td>0.037109</td>\n",
       "      <td>0.019531</td>\n",
       "      <td>0.000000</td>\n",
       "      <td>0.009766</td>\n",
       "      <td>0.021484</td>\n",
       "      <td>0.015625</td>\n",
       "      <td>0.007812</td>\n",
       "      <td>0.013672</td>\n",
       "      <td>0.027344</td>\n",
       "      <td>0.062500</td>\n",
       "      <td>0.000000</td>\n",
       "      <td>0.017578</td>\n",
       "      <td>0.031250</td>\n",
       "      <td>0.000000</td>\n",
       "      <td>0.044922</td>\n",
       "      <td>0.007812</td>\n",
       "      <td>0.025391</td>\n",
       "      <td>0.003906</td>\n",
       "      <td>0.013672</td>\n",
       "      <td>0.015625</td>\n",
       "      <td>0.013672</td>\n",
       "      <td>0.003906</td>\n",
       "      <td>0.005859</td>\n",
       "      <td>0.003906</td>\n",
       "      <td>0.019531</td>\n",
       "      <td>0.001953</td>\n",
       "      <td>0.000647</td>\n",
       "      <td>0.000609</td>\n",
       "      <td>0.000577</td>\n",
       "      <td>0.000553</td>\n",
       "      <td>0.000516</td>\n",
       "      <td>0.000496</td>\n",
       "      <td>0.000474</td>\n",
       "      <td>0.000453</td>\n",
       "      <td>0.000454</td>\n",
       "      <td>0.000429</td>\n",
       "      <td>0.000418</td>\n",
       "      <td>0.000410</td>\n",
       "      <td>0.000406</td>\n",
       "      <td>0.000398</td>\n",
       "      <td>0.000399</td>\n",
       "      <td>0.000389</td>\n",
       "      <td>0.000399</td>\n",
       "      <td>0.000416</td>\n",
       "      <td>0.000414</td>\n",
       "      <td>0.000430</td>\n",
       "      <td>0.000422</td>\n",
       "      <td>0.000437</td>\n",
       "      <td>0.000452</td>\n",
       "      <td>0.000467</td>\n",
       "      <td>0.000470</td>\n",
       "      <td>0.000484</td>\n",
       "      <td>0.000489</td>\n",
       "      <td>0.000490</td>\n",
       "      <td>0.000475</td>\n",
       "      <td>0.000486</td>\n",
       "      <td>0.000484</td>\n",
       "      <td>0.000500</td>\n",
       "      <td>0.000513</td>\n",
       "      <td>0.000511</td>\n",
       "      <td>0.000519</td>\n",
       "      <td>0.000513</td>\n",
       "      <td>0.000502</td>\n",
       "      <td>0.000498</td>\n",
       "      <td>0.000487</td>\n",
       "      <td>0.000471</td>\n",
       "      <td>0.000458</td>\n",
       "      <td>0.000440</td>\n",
       "      <td>0.000436</td>\n",
       "      <td>0.000427</td>\n",
       "      <td>0.000394</td>\n",
       "      <td>0.000385</td>\n",
       "      <td>0.000382</td>\n",
       "      <td>0.000370</td>\n",
       "      <td>0.000367</td>\n",
       "      <td>0.000373</td>\n",
       "      <td>0.000386</td>\n",
       "      <td>0.000389</td>\n",
       "      <td>0.000391</td>\n",
       "      <td>0.000414</td>\n",
       "      <td>0.000422</td>\n",
       "      <td>0.000434</td>\n",
       "      <td>0.000452</td>\n",
       "      <td>0.000471</td>\n",
       "      <td>0.000485</td>\n",
       "      <td>0.000512</td>\n",
       "      <td>0.000536</td>\n",
       "      <td>0.000553</td>\n",
       "      <td>0.000610</td>\n",
       "      <td>0.000661</td>\n",
       "      <td>0.049805</td>\n",
       "      <td>0.017578</td>\n",
       "      <td>0.003906</td>\n",
       "      <td>0.024414</td>\n",
       "      <td>0.001953</td>\n",
       "      <td>0.010742</td>\n",
       "      <td>0.035156</td>\n",
       "      <td>0.007812</td>\n",
       "      <td>0.039062</td>\n",
       "      <td>0.062500</td>\n",
       "      <td>0.000000</td>\n",
       "      <td>0.000000</td>\n",
       "      <td>0.007812</td>\n",
       "      <td>0.007812</td>\n",
       "      <td>0.00000</td>\n",
       "      <td>0.000000</td>\n",
       "      <td>0.047852</td>\n",
       "      <td>0.000000</td>\n",
       "      <td>0.054688</td>\n",
       "      <td>0.022461</td>\n",
       "      <td>0.000000</td>\n",
       "      <td>0.000977</td>\n",
       "      <td>0.018555</td>\n",
       "      <td>0.001953</td>\n",
       "      <td>0.008789</td>\n",
       "      <td>0.015625</td>\n",
       "      <td>0.044922</td>\n",
       "      <td>0.000000</td>\n",
       "      <td>0.037109</td>\n",
       "      <td>0.012695</td>\n",
       "      <td>0.028320</td>\n",
       "      <td>0.000000</td>\n",
       "      <td>0.019531</td>\n",
       "      <td>0.026367</td>\n",
       "      <td>0.005859</td>\n",
       "      <td>0.000000</td>\n",
       "      <td>0.004883</td>\n",
       "      <td>0.016602</td>\n",
       "      <td>0.034180</td>\n",
       "      <td>0.056641</td>\n",
       "      <td>0.006836</td>\n",
       "      <td>0.000977</td>\n",
       "      <td>0.022461</td>\n",
       "      <td>0.037109</td>\n",
       "      <td>0.004883</td>\n",
       "      <td>0.021484</td>\n",
       "      <td>0.035156</td>\n",
       "      <td>0.000977</td>\n",
       "      <td>0.004883</td>\n",
       "      <td>0.015625</td>\n",
       "      <td>0.000000</td>\n",
       "      <td>0.000000</td>\n",
       "      <td>0.006836</td>\n",
       "      <td>0.037109</td>\n",
       "      <td>0.007812</td>\n",
       "      <td>0.000000</td>\n",
       "      <td>0.002930</td>\n",
       "      <td>0.002930</td>\n",
       "      <td>0.035156</td>\n",
       "      <td>0.00000</td>\n",
       "      <td>0.000000</td>\n",
       "      <td>0.004883</td>\n",
       "      <td>0.000000</td>\n",
       "      <td>0.025391</td>\n",
       "      <td>Acer_Opalus</td>\n",
       "    </tr>\n",
       "    <tr>\n",
       "      <th>1</th>\n",
       "      <td>0.005859</td>\n",
       "      <td>0.000000</td>\n",
       "      <td>0.031250</td>\n",
       "      <td>0.015625</td>\n",
       "      <td>0.025391</td>\n",
       "      <td>0.001953</td>\n",
       "      <td>0.019531</td>\n",
       "      <td>0.0</td>\n",
       "      <td>0.000000</td>\n",
       "      <td>0.007812</td>\n",
       "      <td>0.003906</td>\n",
       "      <td>0.027344</td>\n",
       "      <td>0.023438</td>\n",
       "      <td>0.000000</td>\n",
       "      <td>0.033203</td>\n",
       "      <td>0.0</td>\n",
       "      <td>0.009766</td>\n",
       "      <td>0.009766</td>\n",
       "      <td>0.007812</td>\n",
       "      <td>0.007812</td>\n",
       "      <td>0.019531</td>\n",
       "      <td>0.007812</td>\n",
       "      <td>0.0</td>\n",
       "      <td>0.000000</td>\n",
       "      <td>0.007812</td>\n",
       "      <td>0.027344</td>\n",
       "      <td>0.003906</td>\n",
       "      <td>0.037109</td>\n",
       "      <td>0.007812</td>\n",
       "      <td>0.048828</td>\n",
       "      <td>0.054688</td>\n",
       "      <td>0.027344</td>\n",
       "      <td>0.003906</td>\n",
       "      <td>0.000000</td>\n",
       "      <td>0.000000</td>\n",
       "      <td>0.003906</td>\n",
       "      <td>0.013672</td>\n",
       "      <td>0.033203</td>\n",
       "      <td>0.033203</td>\n",
       "      <td>0.019531</td>\n",
       "      <td>0.031250</td>\n",
       "      <td>0.009766</td>\n",
       "      <td>0.007812</td>\n",
       "      <td>0.031250</td>\n",
       "      <td>0.001953</td>\n",
       "      <td>0.039062</td>\n",
       "      <td>0.029297</td>\n",
       "      <td>0.031250</td>\n",
       "      <td>0.035156</td>\n",
       "      <td>0.000000</td>\n",
       "      <td>0.007812</td>\n",
       "      <td>0.000000</td>\n",
       "      <td>0.046875</td>\n",
       "      <td>0.046875</td>\n",
       "      <td>0.029297</td>\n",
       "      <td>0.009766</td>\n",
       "      <td>0.017578</td>\n",
       "      <td>0.007812</td>\n",
       "      <td>0.013672</td>\n",
       "      <td>0.019531</td>\n",
       "      <td>0.000000</td>\n",
       "      <td>0.000000</td>\n",
       "      <td>0.003906</td>\n",
       "      <td>0.000000</td>\n",
       "      <td>0.000749</td>\n",
       "      <td>0.000695</td>\n",
       "      <td>0.000720</td>\n",
       "      <td>0.000709</td>\n",
       "      <td>0.000688</td>\n",
       "      <td>0.000660</td>\n",
       "      <td>0.000624</td>\n",
       "      <td>0.000585</td>\n",
       "      <td>0.000556</td>\n",
       "      <td>0.000531</td>\n",
       "      <td>0.000506</td>\n",
       "      <td>0.000484</td>\n",
       "      <td>0.000467</td>\n",
       "      <td>0.000453</td>\n",
       "      <td>0.000442</td>\n",
       "      <td>0.000435</td>\n",
       "      <td>0.000435</td>\n",
       "      <td>0.000433</td>\n",
       "      <td>0.000443</td>\n",
       "      <td>0.000460</td>\n",
       "      <td>0.000471</td>\n",
       "      <td>0.000486</td>\n",
       "      <td>0.000512</td>\n",
       "      <td>0.000538</td>\n",
       "      <td>0.000567</td>\n",
       "      <td>0.000605</td>\n",
       "      <td>0.000644</td>\n",
       "      <td>0.000687</td>\n",
       "      <td>0.000731</td>\n",
       "      <td>0.000777</td>\n",
       "      <td>0.000832</td>\n",
       "      <td>0.000884</td>\n",
       "      <td>0.000902</td>\n",
       "      <td>0.000862</td>\n",
       "      <td>0.000842</td>\n",
       "      <td>0.000783</td>\n",
       "      <td>0.000731</td>\n",
       "      <td>0.000679</td>\n",
       "      <td>0.000639</td>\n",
       "      <td>0.000596</td>\n",
       "      <td>0.000560</td>\n",
       "      <td>0.000528</td>\n",
       "      <td>0.000496</td>\n",
       "      <td>0.000474</td>\n",
       "      <td>0.000462</td>\n",
       "      <td>0.000447</td>\n",
       "      <td>0.000434</td>\n",
       "      <td>0.000433</td>\n",
       "      <td>0.000435</td>\n",
       "      <td>0.000436</td>\n",
       "      <td>0.000447</td>\n",
       "      <td>0.000464</td>\n",
       "      <td>0.000479</td>\n",
       "      <td>0.000496</td>\n",
       "      <td>0.000518</td>\n",
       "      <td>0.000546</td>\n",
       "      <td>0.000574</td>\n",
       "      <td>0.000608</td>\n",
       "      <td>0.000641</td>\n",
       "      <td>0.000674</td>\n",
       "      <td>0.000703</td>\n",
       "      <td>0.000707</td>\n",
       "      <td>0.000688</td>\n",
       "      <td>0.000747</td>\n",
       "      <td>0.000000</td>\n",
       "      <td>0.000000</td>\n",
       "      <td>0.007812</td>\n",
       "      <td>0.079102</td>\n",
       "      <td>0.000000</td>\n",
       "      <td>0.039062</td>\n",
       "      <td>0.000977</td>\n",
       "      <td>0.000000</td>\n",
       "      <td>0.027344</td>\n",
       "      <td>0.003906</td>\n",
       "      <td>0.000000</td>\n",
       "      <td>0.000000</td>\n",
       "      <td>0.014648</td>\n",
       "      <td>0.041016</td>\n",
       "      <td>0.00000</td>\n",
       "      <td>0.000000</td>\n",
       "      <td>0.003906</td>\n",
       "      <td>0.000000</td>\n",
       "      <td>0.020508</td>\n",
       "      <td>0.006836</td>\n",
       "      <td>0.000000</td>\n",
       "      <td>0.001953</td>\n",
       "      <td>0.026367</td>\n",
       "      <td>0.020508</td>\n",
       "      <td>0.050781</td>\n",
       "      <td>0.001953</td>\n",
       "      <td>0.021484</td>\n",
       "      <td>0.003906</td>\n",
       "      <td>0.027344</td>\n",
       "      <td>0.023438</td>\n",
       "      <td>0.062500</td>\n",
       "      <td>0.000000</td>\n",
       "      <td>0.038086</td>\n",
       "      <td>0.000000</td>\n",
       "      <td>0.019531</td>\n",
       "      <td>0.000000</td>\n",
       "      <td>0.001953</td>\n",
       "      <td>0.003906</td>\n",
       "      <td>0.015625</td>\n",
       "      <td>0.004883</td>\n",
       "      <td>0.104490</td>\n",
       "      <td>0.000000</td>\n",
       "      <td>0.061523</td>\n",
       "      <td>0.007812</td>\n",
       "      <td>0.008789</td>\n",
       "      <td>0.013672</td>\n",
       "      <td>0.011719</td>\n",
       "      <td>0.001953</td>\n",
       "      <td>0.035156</td>\n",
       "      <td>0.007812</td>\n",
       "      <td>0.000000</td>\n",
       "      <td>0.000000</td>\n",
       "      <td>0.053711</td>\n",
       "      <td>0.036133</td>\n",
       "      <td>0.000977</td>\n",
       "      <td>0.000000</td>\n",
       "      <td>0.000000</td>\n",
       "      <td>0.000977</td>\n",
       "      <td>0.023438</td>\n",
       "      <td>0.00000</td>\n",
       "      <td>0.000000</td>\n",
       "      <td>0.000977</td>\n",
       "      <td>0.039062</td>\n",
       "      <td>0.022461</td>\n",
       "      <td>Pterocarya_Stenoptera</td>\n",
       "    </tr>\n",
       "    <tr>\n",
       "      <th>2</th>\n",
       "      <td>0.005859</td>\n",
       "      <td>0.009766</td>\n",
       "      <td>0.019531</td>\n",
       "      <td>0.007812</td>\n",
       "      <td>0.003906</td>\n",
       "      <td>0.005859</td>\n",
       "      <td>0.068359</td>\n",
       "      <td>0.0</td>\n",
       "      <td>0.000000</td>\n",
       "      <td>0.044922</td>\n",
       "      <td>0.007812</td>\n",
       "      <td>0.011719</td>\n",
       "      <td>0.021484</td>\n",
       "      <td>0.001953</td>\n",
       "      <td>0.025391</td>\n",
       "      <td>0.0</td>\n",
       "      <td>0.009766</td>\n",
       "      <td>0.011719</td>\n",
       "      <td>0.007812</td>\n",
       "      <td>0.005859</td>\n",
       "      <td>0.041016</td>\n",
       "      <td>0.001953</td>\n",
       "      <td>0.0</td>\n",
       "      <td>0.015625</td>\n",
       "      <td>0.000000</td>\n",
       "      <td>0.009766</td>\n",
       "      <td>0.001953</td>\n",
       "      <td>0.009766</td>\n",
       "      <td>0.009766</td>\n",
       "      <td>0.015625</td>\n",
       "      <td>0.005859</td>\n",
       "      <td>0.000000</td>\n",
       "      <td>0.017578</td>\n",
       "      <td>0.007812</td>\n",
       "      <td>0.005859</td>\n",
       "      <td>0.009766</td>\n",
       "      <td>0.019531</td>\n",
       "      <td>0.042969</td>\n",
       "      <td>0.021484</td>\n",
       "      <td>0.001953</td>\n",
       "      <td>0.000000</td>\n",
       "      <td>0.005859</td>\n",
       "      <td>0.015625</td>\n",
       "      <td>0.009766</td>\n",
       "      <td>0.011719</td>\n",
       "      <td>0.011719</td>\n",
       "      <td>0.031250</td>\n",
       "      <td>0.109380</td>\n",
       "      <td>0.000000</td>\n",
       "      <td>0.046875</td>\n",
       "      <td>0.031250</td>\n",
       "      <td>0.000000</td>\n",
       "      <td>0.035156</td>\n",
       "      <td>0.000000</td>\n",
       "      <td>0.105470</td>\n",
       "      <td>0.000000</td>\n",
       "      <td>0.015625</td>\n",
       "      <td>0.015625</td>\n",
       "      <td>0.019531</td>\n",
       "      <td>0.001953</td>\n",
       "      <td>0.000000</td>\n",
       "      <td>0.005859</td>\n",
       "      <td>0.011719</td>\n",
       "      <td>0.007812</td>\n",
       "      <td>0.000973</td>\n",
       "      <td>0.000910</td>\n",
       "      <td>0.000870</td>\n",
       "      <td>0.000826</td>\n",
       "      <td>0.000796</td>\n",
       "      <td>0.000763</td>\n",
       "      <td>0.000729</td>\n",
       "      <td>0.000702</td>\n",
       "      <td>0.000664</td>\n",
       "      <td>0.000629</td>\n",
       "      <td>0.000598</td>\n",
       "      <td>0.000570</td>\n",
       "      <td>0.000546</td>\n",
       "      <td>0.000526</td>\n",
       "      <td>0.000500</td>\n",
       "      <td>0.000494</td>\n",
       "      <td>0.000484</td>\n",
       "      <td>0.000490</td>\n",
       "      <td>0.000491</td>\n",
       "      <td>0.000507</td>\n",
       "      <td>0.000525</td>\n",
       "      <td>0.000563</td>\n",
       "      <td>0.000604</td>\n",
       "      <td>0.000663</td>\n",
       "      <td>0.000708</td>\n",
       "      <td>0.000763</td>\n",
       "      <td>0.000824</td>\n",
       "      <td>0.000886</td>\n",
       "      <td>0.000956</td>\n",
       "      <td>0.001030</td>\n",
       "      <td>0.001102</td>\n",
       "      <td>0.001178</td>\n",
       "      <td>0.001193</td>\n",
       "      <td>0.001118</td>\n",
       "      <td>0.001049</td>\n",
       "      <td>0.000982</td>\n",
       "      <td>0.000919</td>\n",
       "      <td>0.000862</td>\n",
       "      <td>0.000809</td>\n",
       "      <td>0.000761</td>\n",
       "      <td>0.000702</td>\n",
       "      <td>0.000654</td>\n",
       "      <td>0.000614</td>\n",
       "      <td>0.000574</td>\n",
       "      <td>0.000549</td>\n",
       "      <td>0.000524</td>\n",
       "      <td>0.000511</td>\n",
       "      <td>0.000494</td>\n",
       "      <td>0.000495</td>\n",
       "      <td>0.000497</td>\n",
       "      <td>0.000510</td>\n",
       "      <td>0.000533</td>\n",
       "      <td>0.000552</td>\n",
       "      <td>0.000587</td>\n",
       "      <td>0.000610</td>\n",
       "      <td>0.000639</td>\n",
       "      <td>0.000670</td>\n",
       "      <td>0.000697</td>\n",
       "      <td>0.000739</td>\n",
       "      <td>0.000789</td>\n",
       "      <td>0.000836</td>\n",
       "      <td>0.000882</td>\n",
       "      <td>0.000911</td>\n",
       "      <td>0.000971</td>\n",
       "      <td>0.003906</td>\n",
       "      <td>0.047852</td>\n",
       "      <td>0.008789</td>\n",
       "      <td>0.000000</td>\n",
       "      <td>0.097656</td>\n",
       "      <td>0.005859</td>\n",
       "      <td>0.003906</td>\n",
       "      <td>0.101560</td>\n",
       "      <td>0.032227</td>\n",
       "      <td>0.000000</td>\n",
       "      <td>0.000000</td>\n",
       "      <td>0.066406</td>\n",
       "      <td>0.007812</td>\n",
       "      <td>0.006836</td>\n",
       "      <td>0.00000</td>\n",
       "      <td>0.000000</td>\n",
       "      <td>0.057617</td>\n",
       "      <td>0.000000</td>\n",
       "      <td>0.000000</td>\n",
       "      <td>0.027344</td>\n",
       "      <td>0.000000</td>\n",
       "      <td>0.000000</td>\n",
       "      <td>0.070312</td>\n",
       "      <td>0.000000</td>\n",
       "      <td>0.000977</td>\n",
       "      <td>0.000000</td>\n",
       "      <td>0.000977</td>\n",
       "      <td>0.003906</td>\n",
       "      <td>0.035156</td>\n",
       "      <td>0.015625</td>\n",
       "      <td>0.027344</td>\n",
       "      <td>0.000000</td>\n",
       "      <td>0.000000</td>\n",
       "      <td>0.008789</td>\n",
       "      <td>0.015625</td>\n",
       "      <td>0.000000</td>\n",
       "      <td>0.000000</td>\n",
       "      <td>0.011719</td>\n",
       "      <td>0.000977</td>\n",
       "      <td>0.000977</td>\n",
       "      <td>0.000000</td>\n",
       "      <td>0.000000</td>\n",
       "      <td>0.000000</td>\n",
       "      <td>0.005859</td>\n",
       "      <td>0.022461</td>\n",
       "      <td>0.020508</td>\n",
       "      <td>0.021484</td>\n",
       "      <td>0.056641</td>\n",
       "      <td>0.010742</td>\n",
       "      <td>0.008789</td>\n",
       "      <td>0.000000</td>\n",
       "      <td>0.000000</td>\n",
       "      <td>0.000977</td>\n",
       "      <td>0.000000</td>\n",
       "      <td>0.154300</td>\n",
       "      <td>0.000000</td>\n",
       "      <td>0.005859</td>\n",
       "      <td>0.000977</td>\n",
       "      <td>0.007812</td>\n",
       "      <td>0.00000</td>\n",
       "      <td>0.000000</td>\n",
       "      <td>0.000000</td>\n",
       "      <td>0.020508</td>\n",
       "      <td>0.002930</td>\n",
       "      <td>Quercus_Hartwissiana</td>\n",
       "    </tr>\n",
       "    <tr>\n",
       "      <th>3</th>\n",
       "      <td>0.000000</td>\n",
       "      <td>0.003906</td>\n",
       "      <td>0.023438</td>\n",
       "      <td>0.005859</td>\n",
       "      <td>0.021484</td>\n",
       "      <td>0.019531</td>\n",
       "      <td>0.023438</td>\n",
       "      <td>0.0</td>\n",
       "      <td>0.013672</td>\n",
       "      <td>0.017578</td>\n",
       "      <td>0.001953</td>\n",
       "      <td>0.019531</td>\n",
       "      <td>0.001953</td>\n",
       "      <td>0.003906</td>\n",
       "      <td>0.035156</td>\n",
       "      <td>0.0</td>\n",
       "      <td>0.005859</td>\n",
       "      <td>0.000000</td>\n",
       "      <td>0.001953</td>\n",
       "      <td>0.003906</td>\n",
       "      <td>0.039062</td>\n",
       "      <td>0.009766</td>\n",
       "      <td>0.0</td>\n",
       "      <td>0.009766</td>\n",
       "      <td>0.005859</td>\n",
       "      <td>0.027344</td>\n",
       "      <td>0.001953</td>\n",
       "      <td>0.017578</td>\n",
       "      <td>0.003906</td>\n",
       "      <td>0.021484</td>\n",
       "      <td>0.027344</td>\n",
       "      <td>0.027344</td>\n",
       "      <td>0.000000</td>\n",
       "      <td>0.003906</td>\n",
       "      <td>0.011719</td>\n",
       "      <td>0.003906</td>\n",
       "      <td>0.005859</td>\n",
       "      <td>0.044922</td>\n",
       "      <td>0.056641</td>\n",
       "      <td>0.027344</td>\n",
       "      <td>0.015625</td>\n",
       "      <td>0.007812</td>\n",
       "      <td>0.017578</td>\n",
       "      <td>0.029297</td>\n",
       "      <td>0.001953</td>\n",
       "      <td>0.042969</td>\n",
       "      <td>0.085938</td>\n",
       "      <td>0.037109</td>\n",
       "      <td>0.029297</td>\n",
       "      <td>0.007812</td>\n",
       "      <td>0.013672</td>\n",
       "      <td>0.000000</td>\n",
       "      <td>0.052734</td>\n",
       "      <td>0.031250</td>\n",
       "      <td>0.037109</td>\n",
       "      <td>0.017578</td>\n",
       "      <td>0.003906</td>\n",
       "      <td>0.000000</td>\n",
       "      <td>0.001953</td>\n",
       "      <td>0.003906</td>\n",
       "      <td>0.003906</td>\n",
       "      <td>0.000000</td>\n",
       "      <td>0.003906</td>\n",
       "      <td>0.005859</td>\n",
       "      <td>0.000453</td>\n",
       "      <td>0.000465</td>\n",
       "      <td>0.000473</td>\n",
       "      <td>0.000483</td>\n",
       "      <td>0.000492</td>\n",
       "      <td>0.000493</td>\n",
       "      <td>0.000492</td>\n",
       "      <td>0.000492</td>\n",
       "      <td>0.000496</td>\n",
       "      <td>0.000497</td>\n",
       "      <td>0.000475</td>\n",
       "      <td>0.000450</td>\n",
       "      <td>0.000428</td>\n",
       "      <td>0.000401</td>\n",
       "      <td>0.000370</td>\n",
       "      <td>0.000342</td>\n",
       "      <td>0.000328</td>\n",
       "      <td>0.000324</td>\n",
       "      <td>0.000368</td>\n",
       "      <td>0.000404</td>\n",
       "      <td>0.000350</td>\n",
       "      <td>0.000355</td>\n",
       "      <td>0.000402</td>\n",
       "      <td>0.000454</td>\n",
       "      <td>0.000484</td>\n",
       "      <td>0.000498</td>\n",
       "      <td>0.000493</td>\n",
       "      <td>0.000485</td>\n",
       "      <td>0.000476</td>\n",
       "      <td>0.000479</td>\n",
       "      <td>0.000486</td>\n",
       "      <td>0.000487</td>\n",
       "      <td>0.000497</td>\n",
       "      <td>0.000501</td>\n",
       "      <td>0.000490</td>\n",
       "      <td>0.000481</td>\n",
       "      <td>0.000473</td>\n",
       "      <td>0.000463</td>\n",
       "      <td>0.000444</td>\n",
       "      <td>0.000435</td>\n",
       "      <td>0.000435</td>\n",
       "      <td>0.000421</td>\n",
       "      <td>0.000418</td>\n",
       "      <td>0.000410</td>\n",
       "      <td>0.000409</td>\n",
       "      <td>0.000398</td>\n",
       "      <td>0.000410</td>\n",
       "      <td>0.000403</td>\n",
       "      <td>0.000424</td>\n",
       "      <td>0.000417</td>\n",
       "      <td>0.000421</td>\n",
       "      <td>0.000434</td>\n",
       "      <td>0.000469</td>\n",
       "      <td>0.000520</td>\n",
       "      <td>0.000529</td>\n",
       "      <td>0.000480</td>\n",
       "      <td>0.000449</td>\n",
       "      <td>0.000437</td>\n",
       "      <td>0.000437</td>\n",
       "      <td>0.000430</td>\n",
       "      <td>0.000429</td>\n",
       "      <td>0.000431</td>\n",
       "      <td>0.000438</td>\n",
       "      <td>0.000443</td>\n",
       "      <td>0.023438</td>\n",
       "      <td>0.000977</td>\n",
       "      <td>0.007812</td>\n",
       "      <td>0.020508</td>\n",
       "      <td>0.000000</td>\n",
       "      <td>0.000000</td>\n",
       "      <td>0.013672</td>\n",
       "      <td>0.004883</td>\n",
       "      <td>0.006836</td>\n",
       "      <td>0.095703</td>\n",
       "      <td>0.015625</td>\n",
       "      <td>0.000000</td>\n",
       "      <td>0.000000</td>\n",
       "      <td>0.009766</td>\n",
       "      <td>0.00000</td>\n",
       "      <td>0.000000</td>\n",
       "      <td>0.000000</td>\n",
       "      <td>0.000000</td>\n",
       "      <td>0.034180</td>\n",
       "      <td>0.012695</td>\n",
       "      <td>0.000000</td>\n",
       "      <td>0.033203</td>\n",
       "      <td>0.002930</td>\n",
       "      <td>0.000000</td>\n",
       "      <td>0.005859</td>\n",
       "      <td>0.019531</td>\n",
       "      <td>0.124020</td>\n",
       "      <td>0.000000</td>\n",
       "      <td>0.017578</td>\n",
       "      <td>0.000977</td>\n",
       "      <td>0.016602</td>\n",
       "      <td>0.009766</td>\n",
       "      <td>0.006836</td>\n",
       "      <td>0.000977</td>\n",
       "      <td>0.005859</td>\n",
       "      <td>0.000000</td>\n",
       "      <td>0.000977</td>\n",
       "      <td>0.001953</td>\n",
       "      <td>0.096680</td>\n",
       "      <td>0.016602</td>\n",
       "      <td>0.126950</td>\n",
       "      <td>0.000000</td>\n",
       "      <td>0.036133</td>\n",
       "      <td>0.055664</td>\n",
       "      <td>0.000000</td>\n",
       "      <td>0.001953</td>\n",
       "      <td>0.027344</td>\n",
       "      <td>0.000000</td>\n",
       "      <td>0.006836</td>\n",
       "      <td>0.017578</td>\n",
       "      <td>0.004883</td>\n",
       "      <td>0.000000</td>\n",
       "      <td>0.006836</td>\n",
       "      <td>0.022461</td>\n",
       "      <td>0.000000</td>\n",
       "      <td>0.000977</td>\n",
       "      <td>0.000000</td>\n",
       "      <td>0.000000</td>\n",
       "      <td>0.020508</td>\n",
       "      <td>0.00000</td>\n",
       "      <td>0.000000</td>\n",
       "      <td>0.017578</td>\n",
       "      <td>0.000000</td>\n",
       "      <td>0.047852</td>\n",
       "      <td>Tilia_Tomentosa</td>\n",
       "    </tr>\n",
       "    <tr>\n",
       "      <th>4</th>\n",
       "      <td>0.005859</td>\n",
       "      <td>0.003906</td>\n",
       "      <td>0.048828</td>\n",
       "      <td>0.009766</td>\n",
       "      <td>0.013672</td>\n",
       "      <td>0.015625</td>\n",
       "      <td>0.005859</td>\n",
       "      <td>0.0</td>\n",
       "      <td>0.000000</td>\n",
       "      <td>0.005859</td>\n",
       "      <td>0.001953</td>\n",
       "      <td>0.044922</td>\n",
       "      <td>0.041016</td>\n",
       "      <td>0.011719</td>\n",
       "      <td>0.041016</td>\n",
       "      <td>0.0</td>\n",
       "      <td>0.009766</td>\n",
       "      <td>0.015625</td>\n",
       "      <td>0.011719</td>\n",
       "      <td>0.007812</td>\n",
       "      <td>0.021484</td>\n",
       "      <td>0.000000</td>\n",
       "      <td>0.0</td>\n",
       "      <td>0.000000</td>\n",
       "      <td>0.015625</td>\n",
       "      <td>0.009766</td>\n",
       "      <td>0.001953</td>\n",
       "      <td>0.017578</td>\n",
       "      <td>0.041016</td>\n",
       "      <td>0.005859</td>\n",
       "      <td>0.021484</td>\n",
       "      <td>0.013672</td>\n",
       "      <td>0.017578</td>\n",
       "      <td>0.000000</td>\n",
       "      <td>0.005859</td>\n",
       "      <td>0.009766</td>\n",
       "      <td>0.027344</td>\n",
       "      <td>0.083984</td>\n",
       "      <td>0.027344</td>\n",
       "      <td>0.027344</td>\n",
       "      <td>0.001953</td>\n",
       "      <td>0.001953</td>\n",
       "      <td>0.017578</td>\n",
       "      <td>0.007812</td>\n",
       "      <td>0.009766</td>\n",
       "      <td>0.011719</td>\n",
       "      <td>0.080078</td>\n",
       "      <td>0.039062</td>\n",
       "      <td>0.009766</td>\n",
       "      <td>0.000000</td>\n",
       "      <td>0.029297</td>\n",
       "      <td>0.000000</td>\n",
       "      <td>0.023438</td>\n",
       "      <td>0.021484</td>\n",
       "      <td>0.003906</td>\n",
       "      <td>0.017578</td>\n",
       "      <td>0.015625</td>\n",
       "      <td>0.001953</td>\n",
       "      <td>0.041016</td>\n",
       "      <td>0.005859</td>\n",
       "      <td>0.000000</td>\n",
       "      <td>0.000000</td>\n",
       "      <td>0.017578</td>\n",
       "      <td>0.000000</td>\n",
       "      <td>0.000682</td>\n",
       "      <td>0.000598</td>\n",
       "      <td>0.000509</td>\n",
       "      <td>0.000385</td>\n",
       "      <td>0.000299</td>\n",
       "      <td>0.000330</td>\n",
       "      <td>0.000427</td>\n",
       "      <td>0.000536</td>\n",
       "      <td>0.000641</td>\n",
       "      <td>0.000645</td>\n",
       "      <td>0.000597</td>\n",
       "      <td>0.000581</td>\n",
       "      <td>0.000620</td>\n",
       "      <td>0.000709</td>\n",
       "      <td>0.000753</td>\n",
       "      <td>0.000839</td>\n",
       "      <td>0.000935</td>\n",
       "      <td>0.001014</td>\n",
       "      <td>0.001022</td>\n",
       "      <td>0.001110</td>\n",
       "      <td>0.001218</td>\n",
       "      <td>0.001142</td>\n",
       "      <td>0.001030</td>\n",
       "      <td>0.000961</td>\n",
       "      <td>0.000970</td>\n",
       "      <td>0.000884</td>\n",
       "      <td>0.000816</td>\n",
       "      <td>0.000745</td>\n",
       "      <td>0.000665</td>\n",
       "      <td>0.000691</td>\n",
       "      <td>0.000669</td>\n",
       "      <td>0.000594</td>\n",
       "      <td>0.000486</td>\n",
       "      <td>0.000415</td>\n",
       "      <td>0.000347</td>\n",
       "      <td>0.000372</td>\n",
       "      <td>0.000475</td>\n",
       "      <td>0.000508</td>\n",
       "      <td>0.000577</td>\n",
       "      <td>0.000641</td>\n",
       "      <td>0.000639</td>\n",
       "      <td>0.000519</td>\n",
       "      <td>0.000483</td>\n",
       "      <td>0.000600</td>\n",
       "      <td>0.000715</td>\n",
       "      <td>0.000802</td>\n",
       "      <td>0.000887</td>\n",
       "      <td>0.000818</td>\n",
       "      <td>0.000792</td>\n",
       "      <td>0.000909</td>\n",
       "      <td>0.001015</td>\n",
       "      <td>0.001044</td>\n",
       "      <td>0.001065</td>\n",
       "      <td>0.000999</td>\n",
       "      <td>0.000973</td>\n",
       "      <td>0.000863</td>\n",
       "      <td>0.000890</td>\n",
       "      <td>0.000911</td>\n",
       "      <td>0.000814</td>\n",
       "      <td>0.000683</td>\n",
       "      <td>0.000593</td>\n",
       "      <td>0.000622</td>\n",
       "      <td>0.000735</td>\n",
       "      <td>0.000755</td>\n",
       "      <td>0.039062</td>\n",
       "      <td>0.036133</td>\n",
       "      <td>0.003906</td>\n",
       "      <td>0.003906</td>\n",
       "      <td>0.046875</td>\n",
       "      <td>0.000000</td>\n",
       "      <td>0.041016</td>\n",
       "      <td>0.041016</td>\n",
       "      <td>0.000000</td>\n",
       "      <td>0.010742</td>\n",
       "      <td>0.000000</td>\n",
       "      <td>0.018555</td>\n",
       "      <td>0.000000</td>\n",
       "      <td>0.000000</td>\n",
       "      <td>0.00000</td>\n",
       "      <td>0.000000</td>\n",
       "      <td>0.001953</td>\n",
       "      <td>0.000000</td>\n",
       "      <td>0.006836</td>\n",
       "      <td>0.008789</td>\n",
       "      <td>0.000000</td>\n",
       "      <td>0.000000</td>\n",
       "      <td>0.036133</td>\n",
       "      <td>0.000000</td>\n",
       "      <td>0.000000</td>\n",
       "      <td>0.000000</td>\n",
       "      <td>0.040039</td>\n",
       "      <td>0.005859</td>\n",
       "      <td>0.005859</td>\n",
       "      <td>0.000000</td>\n",
       "      <td>0.003906</td>\n",
       "      <td>0.000000</td>\n",
       "      <td>0.000000</td>\n",
       "      <td>0.110350</td>\n",
       "      <td>0.000000</td>\n",
       "      <td>0.000000</td>\n",
       "      <td>0.000000</td>\n",
       "      <td>0.087891</td>\n",
       "      <td>0.023438</td>\n",
       "      <td>0.007812</td>\n",
       "      <td>0.000000</td>\n",
       "      <td>0.000000</td>\n",
       "      <td>0.008789</td>\n",
       "      <td>0.017578</td>\n",
       "      <td>0.021484</td>\n",
       "      <td>0.061523</td>\n",
       "      <td>0.026367</td>\n",
       "      <td>0.132810</td>\n",
       "      <td>0.000000</td>\n",
       "      <td>0.000000</td>\n",
       "      <td>0.000000</td>\n",
       "      <td>0.000000</td>\n",
       "      <td>0.000000</td>\n",
       "      <td>0.001953</td>\n",
       "      <td>0.096680</td>\n",
       "      <td>0.000000</td>\n",
       "      <td>0.021484</td>\n",
       "      <td>0.000000</td>\n",
       "      <td>0.000000</td>\n",
       "      <td>0.00000</td>\n",
       "      <td>0.000000</td>\n",
       "      <td>0.000000</td>\n",
       "      <td>0.000000</td>\n",
       "      <td>0.031250</td>\n",
       "      <td>Quercus_Variabilis</td>\n",
       "    </tr>\n",
       "    <tr>\n",
       "      <th>5</th>\n",
       "      <td>0.070312</td>\n",
       "      <td>0.093750</td>\n",
       "      <td>0.033203</td>\n",
       "      <td>0.001953</td>\n",
       "      <td>0.000000</td>\n",
       "      <td>0.152340</td>\n",
       "      <td>0.007812</td>\n",
       "      <td>0.0</td>\n",
       "      <td>0.003906</td>\n",
       "      <td>0.027344</td>\n",
       "      <td>0.058594</td>\n",
       "      <td>0.000000</td>\n",
       "      <td>0.062500</td>\n",
       "      <td>0.001953</td>\n",
       "      <td>0.000000</td>\n",
       "      <td>0.0</td>\n",
       "      <td>0.027344</td>\n",
       "      <td>0.031250</td>\n",
       "      <td>0.003906</td>\n",
       "      <td>0.021484</td>\n",
       "      <td>0.001953</td>\n",
       "      <td>0.001953</td>\n",
       "      <td>0.0</td>\n",
       "      <td>0.000000</td>\n",
       "      <td>0.001953</td>\n",
       "      <td>0.015625</td>\n",
       "      <td>0.000000</td>\n",
       "      <td>0.000000</td>\n",
       "      <td>0.021484</td>\n",
       "      <td>0.001953</td>\n",
       "      <td>0.000000</td>\n",
       "      <td>0.000000</td>\n",
       "      <td>0.031250</td>\n",
       "      <td>0.000000</td>\n",
       "      <td>0.041016</td>\n",
       "      <td>0.050781</td>\n",
       "      <td>0.021484</td>\n",
       "      <td>0.007812</td>\n",
       "      <td>0.001953</td>\n",
       "      <td>0.000000</td>\n",
       "      <td>0.000000</td>\n",
       "      <td>0.015625</td>\n",
       "      <td>0.007812</td>\n",
       "      <td>0.005859</td>\n",
       "      <td>0.009766</td>\n",
       "      <td>0.000000</td>\n",
       "      <td>0.001953</td>\n",
       "      <td>0.003906</td>\n",
       "      <td>0.000000</td>\n",
       "      <td>0.000000</td>\n",
       "      <td>0.037109</td>\n",
       "      <td>0.000000</td>\n",
       "      <td>0.011719</td>\n",
       "      <td>0.000000</td>\n",
       "      <td>0.000000</td>\n",
       "      <td>0.000000</td>\n",
       "      <td>0.023438</td>\n",
       "      <td>0.017578</td>\n",
       "      <td>0.013672</td>\n",
       "      <td>0.001953</td>\n",
       "      <td>0.000000</td>\n",
       "      <td>0.000000</td>\n",
       "      <td>0.050781</td>\n",
       "      <td>0.001953</td>\n",
       "      <td>0.000390</td>\n",
       "      <td>0.000347</td>\n",
       "      <td>0.000329</td>\n",
       "      <td>0.000295</td>\n",
       "      <td>0.000323</td>\n",
       "      <td>0.000272</td>\n",
       "      <td>0.000239</td>\n",
       "      <td>0.000299</td>\n",
       "      <td>0.000360</td>\n",
       "      <td>0.000325</td>\n",
       "      <td>0.000299</td>\n",
       "      <td>0.000295</td>\n",
       "      <td>0.000262</td>\n",
       "      <td>0.000259</td>\n",
       "      <td>0.000336</td>\n",
       "      <td>0.000273</td>\n",
       "      <td>0.000242</td>\n",
       "      <td>0.000273</td>\n",
       "      <td>0.000276</td>\n",
       "      <td>0.000311</td>\n",
       "      <td>0.000344</td>\n",
       "      <td>0.000328</td>\n",
       "      <td>0.000272</td>\n",
       "      <td>0.000236</td>\n",
       "      <td>0.000285</td>\n",
       "      <td>0.000304</td>\n",
       "      <td>0.000322</td>\n",
       "      <td>0.000326</td>\n",
       "      <td>0.000380</td>\n",
       "      <td>0.000437</td>\n",
       "      <td>0.000381</td>\n",
       "      <td>0.000318</td>\n",
       "      <td>0.000258</td>\n",
       "      <td>0.000186</td>\n",
       "      <td>0.000134</td>\n",
       "      <td>0.000098</td>\n",
       "      <td>0.000078</td>\n",
       "      <td>0.000064</td>\n",
       "      <td>0.000112</td>\n",
       "      <td>0.000179</td>\n",
       "      <td>0.000137</td>\n",
       "      <td>0.000207</td>\n",
       "      <td>0.000282</td>\n",
       "      <td>0.000293</td>\n",
       "      <td>0.000342</td>\n",
       "      <td>0.000393</td>\n",
       "      <td>0.000442</td>\n",
       "      <td>0.000509</td>\n",
       "      <td>0.000437</td>\n",
       "      <td>0.000389</td>\n",
       "      <td>0.000353</td>\n",
       "      <td>0.000290</td>\n",
       "      <td>0.000288</td>\n",
       "      <td>0.000217</td>\n",
       "      <td>0.000260</td>\n",
       "      <td>0.000241</td>\n",
       "      <td>0.000180</td>\n",
       "      <td>0.000128</td>\n",
       "      <td>0.000091</td>\n",
       "      <td>0.000125</td>\n",
       "      <td>0.000177</td>\n",
       "      <td>0.000252</td>\n",
       "      <td>0.000321</td>\n",
       "      <td>0.000399</td>\n",
       "      <td>0.026367</td>\n",
       "      <td>0.002930</td>\n",
       "      <td>0.009766</td>\n",
       "      <td>0.000000</td>\n",
       "      <td>0.089844</td>\n",
       "      <td>0.001953</td>\n",
       "      <td>0.010742</td>\n",
       "      <td>0.023438</td>\n",
       "      <td>0.012695</td>\n",
       "      <td>0.000000</td>\n",
       "      <td>0.000000</td>\n",
       "      <td>0.229490</td>\n",
       "      <td>0.002930</td>\n",
       "      <td>0.037109</td>\n",
       "      <td>0.00000</td>\n",
       "      <td>0.000000</td>\n",
       "      <td>0.000977</td>\n",
       "      <td>0.000000</td>\n",
       "      <td>0.000977</td>\n",
       "      <td>0.014648</td>\n",
       "      <td>0.000000</td>\n",
       "      <td>0.005859</td>\n",
       "      <td>0.011719</td>\n",
       "      <td>0.000000</td>\n",
       "      <td>0.007812</td>\n",
       "      <td>0.000000</td>\n",
       "      <td>0.000000</td>\n",
       "      <td>0.000977</td>\n",
       "      <td>0.006836</td>\n",
       "      <td>0.007812</td>\n",
       "      <td>0.026367</td>\n",
       "      <td>0.000000</td>\n",
       "      <td>0.000000</td>\n",
       "      <td>0.042969</td>\n",
       "      <td>0.013672</td>\n",
       "      <td>0.000000</td>\n",
       "      <td>0.000000</td>\n",
       "      <td>0.051758</td>\n",
       "      <td>0.000000</td>\n",
       "      <td>0.004883</td>\n",
       "      <td>0.000000</td>\n",
       "      <td>0.000000</td>\n",
       "      <td>0.000977</td>\n",
       "      <td>0.000977</td>\n",
       "      <td>0.023438</td>\n",
       "      <td>0.043945</td>\n",
       "      <td>0.009766</td>\n",
       "      <td>0.040039</td>\n",
       "      <td>0.004883</td>\n",
       "      <td>0.008789</td>\n",
       "      <td>0.000000</td>\n",
       "      <td>0.000000</td>\n",
       "      <td>0.000000</td>\n",
       "      <td>0.013672</td>\n",
       "      <td>0.145510</td>\n",
       "      <td>0.000000</td>\n",
       "      <td>0.041992</td>\n",
       "      <td>0.000000</td>\n",
       "      <td>0.005859</td>\n",
       "      <td>0.00000</td>\n",
       "      <td>0.000000</td>\n",
       "      <td>0.000000</td>\n",
       "      <td>0.001953</td>\n",
       "      <td>0.013672</td>\n",
       "      <td>Magnolia_Salicifolia</td>\n",
       "    </tr>\n",
       "    <tr>\n",
       "      <th>6</th>\n",
       "      <td>0.021484</td>\n",
       "      <td>0.031250</td>\n",
       "      <td>0.017578</td>\n",
       "      <td>0.009766</td>\n",
       "      <td>0.001953</td>\n",
       "      <td>0.042969</td>\n",
       "      <td>0.039062</td>\n",
       "      <td>0.0</td>\n",
       "      <td>0.003906</td>\n",
       "      <td>0.019531</td>\n",
       "      <td>0.035156</td>\n",
       "      <td>0.015625</td>\n",
       "      <td>0.058594</td>\n",
       "      <td>0.003906</td>\n",
       "      <td>0.011719</td>\n",
       "      <td>0.0</td>\n",
       "      <td>0.011719</td>\n",
       "      <td>0.025391</td>\n",
       "      <td>0.011719</td>\n",
       "      <td>0.011719</td>\n",
       "      <td>0.037109</td>\n",
       "      <td>0.007812</td>\n",
       "      <td>0.0</td>\n",
       "      <td>0.009766</td>\n",
       "      <td>0.007812</td>\n",
       "      <td>0.005859</td>\n",
       "      <td>0.003906</td>\n",
       "      <td>0.003906</td>\n",
       "      <td>0.031250</td>\n",
       "      <td>0.001953</td>\n",
       "      <td>0.005859</td>\n",
       "      <td>0.001953</td>\n",
       "      <td>0.019531</td>\n",
       "      <td>0.000000</td>\n",
       "      <td>0.003906</td>\n",
       "      <td>0.017578</td>\n",
       "      <td>0.007812</td>\n",
       "      <td>0.031250</td>\n",
       "      <td>0.013672</td>\n",
       "      <td>0.001953</td>\n",
       "      <td>0.000000</td>\n",
       "      <td>0.011719</td>\n",
       "      <td>0.068359</td>\n",
       "      <td>0.005859</td>\n",
       "      <td>0.025391</td>\n",
       "      <td>0.005859</td>\n",
       "      <td>0.029297</td>\n",
       "      <td>0.046875</td>\n",
       "      <td>0.000000</td>\n",
       "      <td>0.056641</td>\n",
       "      <td>0.013672</td>\n",
       "      <td>0.000000</td>\n",
       "      <td>0.019531</td>\n",
       "      <td>0.000000</td>\n",
       "      <td>0.013672</td>\n",
       "      <td>0.007812</td>\n",
       "      <td>0.005859</td>\n",
       "      <td>0.029297</td>\n",
       "      <td>0.041016</td>\n",
       "      <td>0.011719</td>\n",
       "      <td>0.003906</td>\n",
       "      <td>0.001953</td>\n",
       "      <td>0.013672</td>\n",
       "      <td>0.001953</td>\n",
       "      <td>0.000921</td>\n",
       "      <td>0.000962</td>\n",
       "      <td>0.000900</td>\n",
       "      <td>0.000837</td>\n",
       "      <td>0.000799</td>\n",
       "      <td>0.000769</td>\n",
       "      <td>0.000725</td>\n",
       "      <td>0.000711</td>\n",
       "      <td>0.000689</td>\n",
       "      <td>0.000666</td>\n",
       "      <td>0.000643</td>\n",
       "      <td>0.000625</td>\n",
       "      <td>0.000613</td>\n",
       "      <td>0.000600</td>\n",
       "      <td>0.000603</td>\n",
       "      <td>0.000606</td>\n",
       "      <td>0.000589</td>\n",
       "      <td>0.000589</td>\n",
       "      <td>0.000597</td>\n",
       "      <td>0.000620</td>\n",
       "      <td>0.000613</td>\n",
       "      <td>0.000649</td>\n",
       "      <td>0.000664</td>\n",
       "      <td>0.000674</td>\n",
       "      <td>0.000655</td>\n",
       "      <td>0.000677</td>\n",
       "      <td>0.000688</td>\n",
       "      <td>0.000700</td>\n",
       "      <td>0.000748</td>\n",
       "      <td>0.000766</td>\n",
       "      <td>0.000800</td>\n",
       "      <td>0.000819</td>\n",
       "      <td>0.000871</td>\n",
       "      <td>0.000862</td>\n",
       "      <td>0.000831</td>\n",
       "      <td>0.000787</td>\n",
       "      <td>0.000762</td>\n",
       "      <td>0.000726</td>\n",
       "      <td>0.000710</td>\n",
       "      <td>0.000676</td>\n",
       "      <td>0.000645</td>\n",
       "      <td>0.000616</td>\n",
       "      <td>0.000623</td>\n",
       "      <td>0.000616</td>\n",
       "      <td>0.000619</td>\n",
       "      <td>0.000624</td>\n",
       "      <td>0.000610</td>\n",
       "      <td>0.000594</td>\n",
       "      <td>0.000612</td>\n",
       "      <td>0.000605</td>\n",
       "      <td>0.000607</td>\n",
       "      <td>0.000621</td>\n",
       "      <td>0.000637</td>\n",
       "      <td>0.000648</td>\n",
       "      <td>0.000663</td>\n",
       "      <td>0.000673</td>\n",
       "      <td>0.000698</td>\n",
       "      <td>0.000727</td>\n",
       "      <td>0.000746</td>\n",
       "      <td>0.000767</td>\n",
       "      <td>0.000786</td>\n",
       "      <td>0.000805</td>\n",
       "      <td>0.000827</td>\n",
       "      <td>0.000860</td>\n",
       "      <td>0.003906</td>\n",
       "      <td>0.024414</td>\n",
       "      <td>0.013672</td>\n",
       "      <td>0.000000</td>\n",
       "      <td>0.078125</td>\n",
       "      <td>0.031250</td>\n",
       "      <td>0.007812</td>\n",
       "      <td>0.053711</td>\n",
       "      <td>0.010742</td>\n",
       "      <td>0.000000</td>\n",
       "      <td>0.000000</td>\n",
       "      <td>0.005859</td>\n",
       "      <td>0.027344</td>\n",
       "      <td>0.005859</td>\n",
       "      <td>0.00000</td>\n",
       "      <td>0.001953</td>\n",
       "      <td>0.046875</td>\n",
       "      <td>0.000000</td>\n",
       "      <td>0.003906</td>\n",
       "      <td>0.028320</td>\n",
       "      <td>0.000000</td>\n",
       "      <td>0.001953</td>\n",
       "      <td>0.082031</td>\n",
       "      <td>0.001953</td>\n",
       "      <td>0.001953</td>\n",
       "      <td>0.000000</td>\n",
       "      <td>0.004883</td>\n",
       "      <td>0.014648</td>\n",
       "      <td>0.001953</td>\n",
       "      <td>0.027344</td>\n",
       "      <td>0.000977</td>\n",
       "      <td>0.000000</td>\n",
       "      <td>0.000000</td>\n",
       "      <td>0.025391</td>\n",
       "      <td>0.014648</td>\n",
       "      <td>0.000000</td>\n",
       "      <td>0.000000</td>\n",
       "      <td>0.038086</td>\n",
       "      <td>0.000000</td>\n",
       "      <td>0.000000</td>\n",
       "      <td>0.000000</td>\n",
       "      <td>0.010742</td>\n",
       "      <td>0.012695</td>\n",
       "      <td>0.023438</td>\n",
       "      <td>0.108400</td>\n",
       "      <td>0.030273</td>\n",
       "      <td>0.026367</td>\n",
       "      <td>0.041016</td>\n",
       "      <td>0.008789</td>\n",
       "      <td>0.000000</td>\n",
       "      <td>0.000000</td>\n",
       "      <td>0.000000</td>\n",
       "      <td>0.000000</td>\n",
       "      <td>0.000000</td>\n",
       "      <td>0.085938</td>\n",
       "      <td>0.000000</td>\n",
       "      <td>0.040039</td>\n",
       "      <td>0.000000</td>\n",
       "      <td>0.009766</td>\n",
       "      <td>0.00000</td>\n",
       "      <td>0.000000</td>\n",
       "      <td>0.000000</td>\n",
       "      <td>0.039062</td>\n",
       "      <td>0.003906</td>\n",
       "      <td>Quercus_Canariensis</td>\n",
       "    </tr>\n",
       "    <tr>\n",
       "      <th>7</th>\n",
       "      <td>0.000000</td>\n",
       "      <td>0.000000</td>\n",
       "      <td>0.037109</td>\n",
       "      <td>0.050781</td>\n",
       "      <td>0.003906</td>\n",
       "      <td>0.000000</td>\n",
       "      <td>0.003906</td>\n",
       "      <td>0.0</td>\n",
       "      <td>0.048828</td>\n",
       "      <td>0.003906</td>\n",
       "      <td>0.001953</td>\n",
       "      <td>0.005859</td>\n",
       "      <td>0.007812</td>\n",
       "      <td>0.031250</td>\n",
       "      <td>0.005859</td>\n",
       "      <td>0.0</td>\n",
       "      <td>0.000000</td>\n",
       "      <td>0.009766</td>\n",
       "      <td>0.031250</td>\n",
       "      <td>0.003906</td>\n",
       "      <td>0.052734</td>\n",
       "      <td>0.005859</td>\n",
       "      <td>0.0</td>\n",
       "      <td>0.001953</td>\n",
       "      <td>0.011719</td>\n",
       "      <td>0.007812</td>\n",
       "      <td>0.017578</td>\n",
       "      <td>0.023438</td>\n",
       "      <td>0.099609</td>\n",
       "      <td>0.009766</td>\n",
       "      <td>0.011719</td>\n",
       "      <td>0.001953</td>\n",
       "      <td>0.003906</td>\n",
       "      <td>0.000000</td>\n",
       "      <td>0.000000</td>\n",
       "      <td>0.009766</td>\n",
       "      <td>0.017578</td>\n",
       "      <td>0.056641</td>\n",
       "      <td>0.005859</td>\n",
       "      <td>0.001953</td>\n",
       "      <td>0.003906</td>\n",
       "      <td>0.033203</td>\n",
       "      <td>0.003906</td>\n",
       "      <td>0.005859</td>\n",
       "      <td>0.083984</td>\n",
       "      <td>0.000000</td>\n",
       "      <td>0.033203</td>\n",
       "      <td>0.001953</td>\n",
       "      <td>0.019531</td>\n",
       "      <td>0.029297</td>\n",
       "      <td>0.007812</td>\n",
       "      <td>0.005859</td>\n",
       "      <td>0.005859</td>\n",
       "      <td>0.009766</td>\n",
       "      <td>0.000000</td>\n",
       "      <td>0.001953</td>\n",
       "      <td>0.003906</td>\n",
       "      <td>0.017578</td>\n",
       "      <td>0.076172</td>\n",
       "      <td>0.015625</td>\n",
       "      <td>0.000000</td>\n",
       "      <td>0.015625</td>\n",
       "      <td>0.015625</td>\n",
       "      <td>0.023438</td>\n",
       "      <td>0.000776</td>\n",
       "      <td>0.000755</td>\n",
       "      <td>0.000728</td>\n",
       "      <td>0.000728</td>\n",
       "      <td>0.000772</td>\n",
       "      <td>0.000800</td>\n",
       "      <td>0.000825</td>\n",
       "      <td>0.000862</td>\n",
       "      <td>0.000907</td>\n",
       "      <td>0.000967</td>\n",
       "      <td>0.001031</td>\n",
       "      <td>0.001102</td>\n",
       "      <td>0.001183</td>\n",
       "      <td>0.001262</td>\n",
       "      <td>0.001351</td>\n",
       "      <td>0.001442</td>\n",
       "      <td>0.001502</td>\n",
       "      <td>0.001563</td>\n",
       "      <td>0.001683</td>\n",
       "      <td>0.001794</td>\n",
       "      <td>0.001803</td>\n",
       "      <td>0.001683</td>\n",
       "      <td>0.001572</td>\n",
       "      <td>0.001476</td>\n",
       "      <td>0.001388</td>\n",
       "      <td>0.001290</td>\n",
       "      <td>0.001201</td>\n",
       "      <td>0.001115</td>\n",
       "      <td>0.001036</td>\n",
       "      <td>0.000976</td>\n",
       "      <td>0.000912</td>\n",
       "      <td>0.000855</td>\n",
       "      <td>0.000796</td>\n",
       "      <td>0.000753</td>\n",
       "      <td>0.000728</td>\n",
       "      <td>0.000716</td>\n",
       "      <td>0.000712</td>\n",
       "      <td>0.000737</td>\n",
       "      <td>0.000777</td>\n",
       "      <td>0.000815</td>\n",
       "      <td>0.000863</td>\n",
       "      <td>0.000925</td>\n",
       "      <td>0.000969</td>\n",
       "      <td>0.001033</td>\n",
       "      <td>0.001113</td>\n",
       "      <td>0.001193</td>\n",
       "      <td>0.001278</td>\n",
       "      <td>0.001375</td>\n",
       "      <td>0.001468</td>\n",
       "      <td>0.001573</td>\n",
       "      <td>0.001689</td>\n",
       "      <td>0.001756</td>\n",
       "      <td>0.001721</td>\n",
       "      <td>0.001607</td>\n",
       "      <td>0.001498</td>\n",
       "      <td>0.001384</td>\n",
       "      <td>0.001282</td>\n",
       "      <td>0.001184</td>\n",
       "      <td>0.001101</td>\n",
       "      <td>0.001044</td>\n",
       "      <td>0.001003</td>\n",
       "      <td>0.000938</td>\n",
       "      <td>0.000865</td>\n",
       "      <td>0.000811</td>\n",
       "      <td>0.018555</td>\n",
       "      <td>0.000000</td>\n",
       "      <td>0.036133</td>\n",
       "      <td>0.000000</td>\n",
       "      <td>0.052734</td>\n",
       "      <td>0.000000</td>\n",
       "      <td>0.011719</td>\n",
       "      <td>0.020508</td>\n",
       "      <td>0.000977</td>\n",
       "      <td>0.000000</td>\n",
       "      <td>0.014648</td>\n",
       "      <td>0.033203</td>\n",
       "      <td>0.013672</td>\n",
       "      <td>0.011719</td>\n",
       "      <td>0.00000</td>\n",
       "      <td>0.006836</td>\n",
       "      <td>0.000000</td>\n",
       "      <td>0.003906</td>\n",
       "      <td>0.001953</td>\n",
       "      <td>0.013672</td>\n",
       "      <td>0.017578</td>\n",
       "      <td>0.027344</td>\n",
       "      <td>0.000000</td>\n",
       "      <td>0.000977</td>\n",
       "      <td>0.007812</td>\n",
       "      <td>0.000977</td>\n",
       "      <td>0.008789</td>\n",
       "      <td>0.030273</td>\n",
       "      <td>0.021484</td>\n",
       "      <td>0.029297</td>\n",
       "      <td>0.019531</td>\n",
       "      <td>0.064453</td>\n",
       "      <td>0.000000</td>\n",
       "      <td>0.019531</td>\n",
       "      <td>0.023438</td>\n",
       "      <td>0.051758</td>\n",
       "      <td>0.000000</td>\n",
       "      <td>0.009766</td>\n",
       "      <td>0.009766</td>\n",
       "      <td>0.003906</td>\n",
       "      <td>0.000000</td>\n",
       "      <td>0.022461</td>\n",
       "      <td>0.011719</td>\n",
       "      <td>0.001953</td>\n",
       "      <td>0.002930</td>\n",
       "      <td>0.017578</td>\n",
       "      <td>0.019531</td>\n",
       "      <td>0.074219</td>\n",
       "      <td>0.014648</td>\n",
       "      <td>0.017578</td>\n",
       "      <td>0.021484</td>\n",
       "      <td>0.019531</td>\n",
       "      <td>0.002930</td>\n",
       "      <td>0.005859</td>\n",
       "      <td>0.038086</td>\n",
       "      <td>0.025391</td>\n",
       "      <td>0.009766</td>\n",
       "      <td>0.002930</td>\n",
       "      <td>0.021484</td>\n",
       "      <td>0.00000</td>\n",
       "      <td>0.037109</td>\n",
       "      <td>0.006836</td>\n",
       "      <td>0.002930</td>\n",
       "      <td>0.036133</td>\n",
       "      <td>Quercus_Rubra</td>\n",
       "    </tr>\n",
       "    <tr>\n",
       "      <th>8</th>\n",
       "      <td>0.005859</td>\n",
       "      <td>0.001953</td>\n",
       "      <td>0.033203</td>\n",
       "      <td>0.015625</td>\n",
       "      <td>0.001953</td>\n",
       "      <td>0.000000</td>\n",
       "      <td>0.023438</td>\n",
       "      <td>0.0</td>\n",
       "      <td>0.000000</td>\n",
       "      <td>0.021484</td>\n",
       "      <td>0.007812</td>\n",
       "      <td>0.033203</td>\n",
       "      <td>0.011719</td>\n",
       "      <td>0.003906</td>\n",
       "      <td>0.031250</td>\n",
       "      <td>0.0</td>\n",
       "      <td>0.011719</td>\n",
       "      <td>0.023438</td>\n",
       "      <td>0.005859</td>\n",
       "      <td>0.009766</td>\n",
       "      <td>0.072266</td>\n",
       "      <td>0.005859</td>\n",
       "      <td>0.0</td>\n",
       "      <td>0.000000</td>\n",
       "      <td>0.009766</td>\n",
       "      <td>0.025391</td>\n",
       "      <td>0.000000</td>\n",
       "      <td>0.011719</td>\n",
       "      <td>0.011719</td>\n",
       "      <td>0.009766</td>\n",
       "      <td>0.011719</td>\n",
       "      <td>0.000000</td>\n",
       "      <td>0.019531</td>\n",
       "      <td>0.000000</td>\n",
       "      <td>0.007812</td>\n",
       "      <td>0.001953</td>\n",
       "      <td>0.015625</td>\n",
       "      <td>0.033203</td>\n",
       "      <td>0.021484</td>\n",
       "      <td>0.007812</td>\n",
       "      <td>0.001953</td>\n",
       "      <td>0.011719</td>\n",
       "      <td>0.031250</td>\n",
       "      <td>0.003906</td>\n",
       "      <td>0.009766</td>\n",
       "      <td>0.011719</td>\n",
       "      <td>0.070312</td>\n",
       "      <td>0.109380</td>\n",
       "      <td>0.009766</td>\n",
       "      <td>0.048828</td>\n",
       "      <td>0.017578</td>\n",
       "      <td>0.000000</td>\n",
       "      <td>0.046875</td>\n",
       "      <td>0.009766</td>\n",
       "      <td>0.019531</td>\n",
       "      <td>0.015625</td>\n",
       "      <td>0.007812</td>\n",
       "      <td>0.015625</td>\n",
       "      <td>0.025391</td>\n",
       "      <td>0.000000</td>\n",
       "      <td>0.000000</td>\n",
       "      <td>0.000000</td>\n",
       "      <td>0.025391</td>\n",
       "      <td>0.000000</td>\n",
       "      <td>0.001085</td>\n",
       "      <td>0.001158</td>\n",
       "      <td>0.001095</td>\n",
       "      <td>0.001012</td>\n",
       "      <td>0.000936</td>\n",
       "      <td>0.000894</td>\n",
       "      <td>0.000847</td>\n",
       "      <td>0.000799</td>\n",
       "      <td>0.000756</td>\n",
       "      <td>0.000713</td>\n",
       "      <td>0.000670</td>\n",
       "      <td>0.000623</td>\n",
       "      <td>0.000579</td>\n",
       "      <td>0.000537</td>\n",
       "      <td>0.000502</td>\n",
       "      <td>0.000468</td>\n",
       "      <td>0.000449</td>\n",
       "      <td>0.000448</td>\n",
       "      <td>0.000457</td>\n",
       "      <td>0.000469</td>\n",
       "      <td>0.000501</td>\n",
       "      <td>0.000540</td>\n",
       "      <td>0.000583</td>\n",
       "      <td>0.000631</td>\n",
       "      <td>0.000682</td>\n",
       "      <td>0.000741</td>\n",
       "      <td>0.000804</td>\n",
       "      <td>0.000869</td>\n",
       "      <td>0.000941</td>\n",
       "      <td>0.001011</td>\n",
       "      <td>0.001085</td>\n",
       "      <td>0.001155</td>\n",
       "      <td>0.001231</td>\n",
       "      <td>0.001199</td>\n",
       "      <td>0.001124</td>\n",
       "      <td>0.001055</td>\n",
       "      <td>0.000987</td>\n",
       "      <td>0.000919</td>\n",
       "      <td>0.000853</td>\n",
       "      <td>0.000791</td>\n",
       "      <td>0.000732</td>\n",
       "      <td>0.000673</td>\n",
       "      <td>0.000621</td>\n",
       "      <td>0.000574</td>\n",
       "      <td>0.000529</td>\n",
       "      <td>0.000487</td>\n",
       "      <td>0.000461</td>\n",
       "      <td>0.000452</td>\n",
       "      <td>0.000446</td>\n",
       "      <td>0.000453</td>\n",
       "      <td>0.000472</td>\n",
       "      <td>0.000497</td>\n",
       "      <td>0.000529</td>\n",
       "      <td>0.000571</td>\n",
       "      <td>0.000617</td>\n",
       "      <td>0.000665</td>\n",
       "      <td>0.000716</td>\n",
       "      <td>0.000765</td>\n",
       "      <td>0.000815</td>\n",
       "      <td>0.000850</td>\n",
       "      <td>0.000882</td>\n",
       "      <td>0.000918</td>\n",
       "      <td>0.000951</td>\n",
       "      <td>0.001001</td>\n",
       "      <td>0.032227</td>\n",
       "      <td>0.004883</td>\n",
       "      <td>0.004883</td>\n",
       "      <td>0.019531</td>\n",
       "      <td>0.000000</td>\n",
       "      <td>0.011719</td>\n",
       "      <td>0.094727</td>\n",
       "      <td>0.001953</td>\n",
       "      <td>0.034180</td>\n",
       "      <td>0.020508</td>\n",
       "      <td>0.000000</td>\n",
       "      <td>0.000000</td>\n",
       "      <td>0.011719</td>\n",
       "      <td>0.009766</td>\n",
       "      <td>0.00000</td>\n",
       "      <td>0.000000</td>\n",
       "      <td>0.008789</td>\n",
       "      <td>0.000000</td>\n",
       "      <td>0.105470</td>\n",
       "      <td>0.011719</td>\n",
       "      <td>0.000000</td>\n",
       "      <td>0.000977</td>\n",
       "      <td>0.006836</td>\n",
       "      <td>0.003906</td>\n",
       "      <td>0.021484</td>\n",
       "      <td>0.001953</td>\n",
       "      <td>0.046875</td>\n",
       "      <td>0.003906</td>\n",
       "      <td>0.006836</td>\n",
       "      <td>0.012695</td>\n",
       "      <td>0.028320</td>\n",
       "      <td>0.000000</td>\n",
       "      <td>0.000977</td>\n",
       "      <td>0.004883</td>\n",
       "      <td>0.006836</td>\n",
       "      <td>0.000000</td>\n",
       "      <td>0.000000</td>\n",
       "      <td>0.014648</td>\n",
       "      <td>0.075195</td>\n",
       "      <td>0.041016</td>\n",
       "      <td>0.007812</td>\n",
       "      <td>0.000977</td>\n",
       "      <td>0.032227</td>\n",
       "      <td>0.017578</td>\n",
       "      <td>0.019531</td>\n",
       "      <td>0.012695</td>\n",
       "      <td>0.023438</td>\n",
       "      <td>0.000000</td>\n",
       "      <td>0.013672</td>\n",
       "      <td>0.001953</td>\n",
       "      <td>0.000000</td>\n",
       "      <td>0.000000</td>\n",
       "      <td>0.003906</td>\n",
       "      <td>0.082031</td>\n",
       "      <td>0.000000</td>\n",
       "      <td>0.000000</td>\n",
       "      <td>0.008789</td>\n",
       "      <td>0.000000</td>\n",
       "      <td>0.017578</td>\n",
       "      <td>0.00000</td>\n",
       "      <td>0.000000</td>\n",
       "      <td>0.000977</td>\n",
       "      <td>0.033203</td>\n",
       "      <td>0.074219</td>\n",
       "      <td>Quercus_Brantii</td>\n",
       "    </tr>\n",
       "    <tr>\n",
       "      <th>9</th>\n",
       "      <td>0.000000</td>\n",
       "      <td>0.000000</td>\n",
       "      <td>0.009766</td>\n",
       "      <td>0.037109</td>\n",
       "      <td>0.072266</td>\n",
       "      <td>0.000000</td>\n",
       "      <td>0.000000</td>\n",
       "      <td>0.0</td>\n",
       "      <td>0.007812</td>\n",
       "      <td>0.001953</td>\n",
       "      <td>0.000000</td>\n",
       "      <td>0.029297</td>\n",
       "      <td>0.000000</td>\n",
       "      <td>0.003906</td>\n",
       "      <td>0.062500</td>\n",
       "      <td>0.0</td>\n",
       "      <td>0.005859</td>\n",
       "      <td>0.000000</td>\n",
       "      <td>0.023438</td>\n",
       "      <td>0.000000</td>\n",
       "      <td>0.001953</td>\n",
       "      <td>0.000000</td>\n",
       "      <td>0.0</td>\n",
       "      <td>0.000000</td>\n",
       "      <td>0.001953</td>\n",
       "      <td>0.019531</td>\n",
       "      <td>0.000000</td>\n",
       "      <td>0.035156</td>\n",
       "      <td>0.001953</td>\n",
       "      <td>0.035156</td>\n",
       "      <td>0.027344</td>\n",
       "      <td>0.000000</td>\n",
       "      <td>0.000000</td>\n",
       "      <td>0.000000</td>\n",
       "      <td>0.000000</td>\n",
       "      <td>0.000000</td>\n",
       "      <td>0.003906</td>\n",
       "      <td>0.083984</td>\n",
       "      <td>0.044922</td>\n",
       "      <td>0.062500</td>\n",
       "      <td>0.089844</td>\n",
       "      <td>0.007812</td>\n",
       "      <td>0.001953</td>\n",
       "      <td>0.035156</td>\n",
       "      <td>0.003906</td>\n",
       "      <td>0.078125</td>\n",
       "      <td>0.037109</td>\n",
       "      <td>0.007812</td>\n",
       "      <td>0.009766</td>\n",
       "      <td>0.000000</td>\n",
       "      <td>0.000000</td>\n",
       "      <td>0.000000</td>\n",
       "      <td>0.025391</td>\n",
       "      <td>0.087891</td>\n",
       "      <td>0.000000</td>\n",
       "      <td>0.005859</td>\n",
       "      <td>0.003906</td>\n",
       "      <td>0.000000</td>\n",
       "      <td>0.013672</td>\n",
       "      <td>0.015625</td>\n",
       "      <td>0.001953</td>\n",
       "      <td>0.000000</td>\n",
       "      <td>0.000000</td>\n",
       "      <td>0.001953</td>\n",
       "      <td>0.000406</td>\n",
       "      <td>0.000461</td>\n",
       "      <td>0.000517</td>\n",
       "      <td>0.000542</td>\n",
       "      <td>0.000485</td>\n",
       "      <td>0.000432</td>\n",
       "      <td>0.000418</td>\n",
       "      <td>0.000411</td>\n",
       "      <td>0.000366</td>\n",
       "      <td>0.000321</td>\n",
       "      <td>0.000264</td>\n",
       "      <td>0.000215</td>\n",
       "      <td>0.000205</td>\n",
       "      <td>0.000230</td>\n",
       "      <td>0.000273</td>\n",
       "      <td>0.000310</td>\n",
       "      <td>0.000329</td>\n",
       "      <td>0.000323</td>\n",
       "      <td>0.000265</td>\n",
       "      <td>0.000208</td>\n",
       "      <td>0.000150</td>\n",
       "      <td>0.000122</td>\n",
       "      <td>0.000178</td>\n",
       "      <td>0.000243</td>\n",
       "      <td>0.000305</td>\n",
       "      <td>0.000331</td>\n",
       "      <td>0.000378</td>\n",
       "      <td>0.000369</td>\n",
       "      <td>0.000319</td>\n",
       "      <td>0.000267</td>\n",
       "      <td>0.000280</td>\n",
       "      <td>0.000336</td>\n",
       "      <td>0.000381</td>\n",
       "      <td>0.000404</td>\n",
       "      <td>0.000459</td>\n",
       "      <td>0.000448</td>\n",
       "      <td>0.000402</td>\n",
       "      <td>0.000346</td>\n",
       "      <td>0.000312</td>\n",
       "      <td>0.000348</td>\n",
       "      <td>0.000390</td>\n",
       "      <td>0.000335</td>\n",
       "      <td>0.000280</td>\n",
       "      <td>0.000208</td>\n",
       "      <td>0.000145</td>\n",
       "      <td>0.000145</td>\n",
       "      <td>0.000199</td>\n",
       "      <td>0.000259</td>\n",
       "      <td>0.000317</td>\n",
       "      <td>0.000351</td>\n",
       "      <td>0.000321</td>\n",
       "      <td>0.000281</td>\n",
       "      <td>0.000295</td>\n",
       "      <td>0.000276</td>\n",
       "      <td>0.000220</td>\n",
       "      <td>0.000172</td>\n",
       "      <td>0.000153</td>\n",
       "      <td>0.000194</td>\n",
       "      <td>0.000249</td>\n",
       "      <td>0.000295</td>\n",
       "      <td>0.000332</td>\n",
       "      <td>0.000394</td>\n",
       "      <td>0.000376</td>\n",
       "      <td>0.000373</td>\n",
       "      <td>0.000000</td>\n",
       "      <td>0.007812</td>\n",
       "      <td>0.000000</td>\n",
       "      <td>0.004883</td>\n",
       "      <td>0.000000</td>\n",
       "      <td>0.033203</td>\n",
       "      <td>0.000000</td>\n",
       "      <td>0.000000</td>\n",
       "      <td>0.041016</td>\n",
       "      <td>0.000000</td>\n",
       "      <td>0.058594</td>\n",
       "      <td>0.000000</td>\n",
       "      <td>0.000000</td>\n",
       "      <td>0.000000</td>\n",
       "      <td>0.16699</td>\n",
       "      <td>0.000000</td>\n",
       "      <td>0.033203</td>\n",
       "      <td>0.000000</td>\n",
       "      <td>0.002930</td>\n",
       "      <td>0.003906</td>\n",
       "      <td>0.000000</td>\n",
       "      <td>0.001953</td>\n",
       "      <td>0.000000</td>\n",
       "      <td>0.005859</td>\n",
       "      <td>0.000977</td>\n",
       "      <td>0.093750</td>\n",
       "      <td>0.000000</td>\n",
       "      <td>0.000000</td>\n",
       "      <td>0.024414</td>\n",
       "      <td>0.001953</td>\n",
       "      <td>0.001953</td>\n",
       "      <td>0.000000</td>\n",
       "      <td>0.006836</td>\n",
       "      <td>0.000000</td>\n",
       "      <td>0.000000</td>\n",
       "      <td>0.000000</td>\n",
       "      <td>0.037109</td>\n",
       "      <td>0.000000</td>\n",
       "      <td>0.000000</td>\n",
       "      <td>0.001953</td>\n",
       "      <td>0.000000</td>\n",
       "      <td>0.000000</td>\n",
       "      <td>0.000000</td>\n",
       "      <td>0.000000</td>\n",
       "      <td>0.000000</td>\n",
       "      <td>0.000000</td>\n",
       "      <td>0.000000</td>\n",
       "      <td>0.000000</td>\n",
       "      <td>0.020508</td>\n",
       "      <td>0.041992</td>\n",
       "      <td>0.035156</td>\n",
       "      <td>0.000000</td>\n",
       "      <td>0.022461</td>\n",
       "      <td>0.000000</td>\n",
       "      <td>0.000000</td>\n",
       "      <td>0.000000</td>\n",
       "      <td>0.000000</td>\n",
       "      <td>0.070312</td>\n",
       "      <td>0.013672</td>\n",
       "      <td>0.19238</td>\n",
       "      <td>0.000000</td>\n",
       "      <td>0.074219</td>\n",
       "      <td>0.000000</td>\n",
       "      <td>0.000000</td>\n",
       "      <td>Salix_Fragilis</td>\n",
       "    </tr>\n",
       "  </tbody>\n",
       "</table>"
      ],
      "text/plain": [
       "<IPython.core.display.HTML object>"
      ]
     },
     "metadata": {},
     "output_type": "display_data"
    }
   ],
   "source": [
    "dl.show_batch()"
   ]
  },
  {
   "cell_type": "code",
   "execution_count": 99,
   "metadata": {
    "scrolled": true
   },
   "outputs": [
    {
     "data": {
      "text/html": [],
      "text/plain": [
       "<IPython.core.display.HTML object>"
      ]
     },
     "metadata": {},
     "output_type": "display_data"
    },
    {
     "data": {
      "text/plain": [
       "tensor([ 3, 49, 65, 94, 84, 40, 54, 78, 55, 89, 98, 16, 74, 50, 58, 21, 43,  4,\n",
       "        75, 44, 83, 84, 13, 66, 15,  6, 73, 22, 73, 31, 40, 27, 94, 88, 12, 28,\n",
       "        21, 25, 20, 60, 84, 65, 69, 58, 23, 76, 18, 52, 54,  9, 48, 47, 64, 81,\n",
       "        83, 36, 58, 21, 81, 20, 62, 88, 34, 92, 79, 82, 20, 32,  4, 84, 36, 35,\n",
       "        72, 60, 71, 72, 52, 50, 54, 13, 51, 18, 47, 35,  8, 37, 97, 20, 33,  1,\n",
       "        59,  1, 56,  1,  9, 57, 20, 79, 29, 16, 32, 54, 93, 10, 46, 59, 84, 76,\n",
       "        15, 92, 15,  0, 81,  4, 51, 51, 94, 36, 39, 62,  2, 24, 26, 35, 25, 87,\n",
       "         0, 55, 34, 38,  1, 45,  7, 93, 56, 38, 21, 51, 75, 81, 74, 33, 20, 37,\n",
       "         9, 40, 60, 31, 83, 50, 71, 67, 30, 66,  1, 43, 61, 23, 65, 84, 87, 46,\n",
       "        57, 16,  2, 28, 12, 96, 44, 76, 29, 75, 41, 87, 67, 61, 30,  5, 12, 62,\n",
       "         3, 83, 81,  6, 85,  4, 37, 57, 84, 39, 71, 61,  6, 76, 14, 31, 98, 40,\n",
       "        17, 51, 16, 42, 63, 86, 37, 76, 86, 71, 80, 78, 14, 35, 25,  5, 39,  8,\n",
       "         9, 26, 44, 60, 13, 14, 77, 13, 71, 87, 18, 60, 78, 92, 51, 45, 78, 41,\n",
       "        51, 30, 14, 35, 46, 21,  8,  6, 92, 38, 40, 15, 32, 17, 93, 71, 92, 27,\n",
       "        78, 15, 19, 60, 21, 38, 57, 49, 74, 67, 95, 31, 82, 45, 16, 83, 63, 80,\n",
       "        42, 22, 74, 53, 15, 44, 47, 57, 94, 76, 17, 32, 24, 15, 93, 24, 80, 59,\n",
       "        46, 12, 51, 77, 79, 70,  3, 16,  2, 63, 83, 55, 12, 53,  1, 67,  0,  2,\n",
       "        36, 42, 10,  9, 52, 59,  6, 22, 86, 21, 51, 37, 43, 75, 90, 24, 86, 96,\n",
       "        45, 32, 98, 36, 66, 48, 73, 73, 79, 56, 41, 21, 25, 27, 97, 18, 44, 45,\n",
       "        40, 80, 82, 20, 35,  0,  8, 27, 25, 35, 59, 61, 21, 37, 29,  6, 19, 78,\n",
       "        50, 54, 37, 93, 33, 46, 79, 59, 29, 43,  0, 23, 17, 37, 66, 37, 89, 17,\n",
       "        25, 31, 65, 10, 26, 86, 58, 42, 46, 24, 95, 93,  8, 53, 32, 14, 92, 94,\n",
       "         8,  8, 64, 44, 74, 30, 97, 22, 11, 68, 56, 90, 96, 16, 43, 57, 91, 24,\n",
       "        28, 82, 90, 64, 61, 92, 28, 84, 70, 45, 85, 34,  7, 88, 89, 61, 26, 88,\n",
       "        41, 46,  8, 91, 41, 14, 98, 62, 26, 36, 70, 74,  7, 52, 70, 42, 66, 22,\n",
       "        13, 44, 91, 53, 22, 16, 40, 40, 28, 70,  6, 60, 95, 23, 16, 50, 29, 49,\n",
       "         9, 18, 55, 63, 60, 19, 15, 30, 31, 85, 66, 88, 63, 83, 64, 96, 13, 34,\n",
       "        27, 95, 36, 72, 29, 91, 22, 65, 71, 66, 14, 32,  2, 75, 39,  5, 37, 67,\n",
       "        81, 55, 61, 57, 81, 82, 63, 55, 54, 35, 86, 25, 24, 96, 10, 58, 59, 24,\n",
       "        89, 54, 52, 85, 68, 69, 95, 39, 95, 39, 82, 48, 74, 81, 74, 55,  9, 47,\n",
       "        84, 91, 12, 96, 82, 64,  7, 40, 73, 77, 13, 36, 68, 23, 22, 46, 75, 43,\n",
       "         2, 11, 47, 53, 56, 62, 62, 80, 56, 30,  3, 88, 37, 33, 73, 76, 21,  5,\n",
       "        76, 87, 31, 83, 62, 57, 47, 19, 88, 96, 42, 23, 44, 87, 82, 49, 63, 24,\n",
       "        94,  3, 54,  5, 79, 43, 12, 50,  5, 52, 92,  4, 84,  1, 33, 49,  1, 18,\n",
       "        44, 13, 24, 73, 89, 78, 67, 41, 14, 46, 47, 55,  0, 18, 98, 44, 85, 29,\n",
       "        53,  1, 45,  3,  9, 13,  2, 66, 59, 79,  6, 17, 43, 83, 41,  1, 12, 49,\n",
       "        71, 89, 58, 93, 39, 42, 15, 38, 55, 15, 93,  4, 90, 88, 55, 40, 55, 17,\n",
       "        34, 94, 57, 92, 81,  1, 60, 89, 49, 89, 30, 65, 58,  4, 19,  4, 76, 74,\n",
       "        71, 21, 54, 13, 16, 72, 68, 62, 61, 25, 72,  7, 12, 18, 77, 90, 62, 14,\n",
       "         3, 78, 65, 37, 96, 50, 95, 98, 60, 72, 58, 38, 87, 93, 19,  7, 83, 50,\n",
       "         3, 91, 77,  7, 64, 61, 90, 23, 76, 65, 48, 41, 92, 20, 91, 18, 70,  9,\n",
       "         9, 29, 85, 67,  0, 35, 98, 91, 90, 31, 53, 39, 24, 85, 96, 17,  7, 11,\n",
       "        96, 39, 56, 90, 55, 45, 64, 97, 41, 19, 74, 11, 10, 62, 95, 28, 96, 10,\n",
       "         7, 68,  7, 93, 34, 42, 21, 41, 14, 22, 58, 12, 71, 27, 98, 72, 91,  3,\n",
       "        43, 19, 61, 75, 20, 81, 63, 67, 56, 26, 47, 13, 31, 57, 62, 66, 19, 75,\n",
       "        97, 94, 13, 75, 95, 32, 50, 97, 52, 87, 32,  3, 47, 77, 48, 33, 73, 64,\n",
       "        49, 68, 43, 94, 77, 68, 47, 82,  2, 30, 23, 33, 34, 66, 33, 35, 88, 68,\n",
       "        27, 87, 54, 79, 34, 67, 65, 18,  4, 26, 30, 52, 86,  0, 29, 80, 67, 95,\n",
       "        39, 25, 70, 58, 35, 27, 17, 38, 91, 13, 23, 77, 79, 77, 22, 49, 98, 48,\n",
       "        46, 48,  5, 63, 97, 80, 53, 20, 25, 78, 10, 65, 33, 41, 85, 90, 98, 97,\n",
       "        71, 95, 52,  3, 29, 69, 51, 70, 27, 22, 34,  6, 41, 72, 21, 89, 17, 97,\n",
       "        72, 80, 10, 57, 64, 92, 38, 15, 73, 87, 73, 48, 42, 82, 33, 56,  3, 42,\n",
       "         1, 53, 55, 90, 19,  6, 30, 86, 64, 49,  2,  8, 45, 76, 92,  0, 23, 69,\n",
       "        59, 80, 90, 32,  5, 59, 85, 89, 41, 45, 48, 86, 81, 14,  4, 77, 56, 82,\n",
       "         2, 85, 70, 88,  0, 75, 14, 86, 81, 97, 70, 72, 34, 40,  5, 11, 78, 50])"
      ]
     },
     "execution_count": 99,
     "metadata": {},
     "output_type": "execute_result"
    }
   ],
   "source": [
    "learn.get_preds(dl=dl, with_decoded=True)[2]"
   ]
  },
  {
   "cell_type": "code",
   "execution_count": 58,
   "metadata": {},
   "outputs": [
    {
     "data": {
      "text/html": [],
      "text/plain": [
       "<IPython.core.display.HTML object>"
      ]
     },
     "metadata": {},
     "output_type": "display_data"
    },
    {
     "data": {
      "text/plain": [
       "(#594) ['Quercus_Agrifolia','Quercus_Afares','Acer_Circinatum','Castanea_Sativa','Alnus_Viridis','Quercus_x_Hispanica','Acer_Opalus','Eucalyptus_Neglecta','Quercus_Variabilis','Acer_Rufinerve'...]"
      ]
     },
     "execution_count": 58,
     "metadata": {},
     "output_type": "execute_result"
    }
   ],
   "source": [
    "# get the list with decoded answers\n",
    "interp.vocab.map_ids(learn.get_preds(dl=dl, with_decoded=True)[2].tolist())"
   ]
  },
  {
   "cell_type": "markdown",
   "metadata": {},
   "source": [
    "### Permutation Importance\n",
    "Permutation importance is a technique in which we shuffle each column in a dataframe and analyze how changing a particular column affected our y values. The more that it was affected, the more \"important\" we can (generally) call a variable in our neural network. "
   ]
  },
  {
   "cell_type": "code",
   "execution_count": 141,
   "metadata": {},
   "outputs": [],
   "source": [
    "??learn.validate"
   ]
  },
  {
   "cell_type": "code",
   "execution_count": 87,
   "metadata": {},
   "outputs": [],
   "source": [
    "class PermutationImportance():\n",
    "  \"Calculate and plot the permutation importance\"\n",
    "  def __init__(self, learn:Learner, df=None, bs=None):\n",
    "    \"Initialize with a test dataframe, a learner, and a metric\"\n",
    "    self.learn = learn\n",
    "    self.df = df\n",
    "    bs = bs if bs is not None else learn.dls.bs\n",
    "    if self.df is not None:\n",
    "      self.dl = learn.dls.test_dl(self.df, bs=bs)\n",
    "    else:\n",
    "      self.dl = learn.dls[1]\n",
    "    self.x_names = learn.dls.x_names.filter(lambda x: '_na' not in x)\n",
    "    self.na = learn.dls.x_names.filter(lambda x: '_na' in x)\n",
    "    self.y = dls.y_names\n",
    "    self.results = self.calc_feat_importance()\n",
    "    self.plot_importance(self.ord_dic_to_df(self.results))\n",
    "\n",
    "  def measure_col(self, name:str):\n",
    "    \"Measures change after column shuffle\"\n",
    "    col = [name]\n",
    "    if f'{name}_na' in self.na: col.append(name)\n",
    "    orig = self.dl.items[col].values\n",
    "    perm = np.random.permutation(len(orig))\n",
    "    self.dl.items[col] = self.dl.items[col].values[perm]\n",
    "    metric = learn.validate(dl=self.dl)[1]\n",
    "    self.dl.items[col] = orig\n",
    "    return metric\n",
    "\n",
    "  def calc_feat_importance(self):\n",
    "    \"Calculates permutation importance by shuffling a column on a percentage scale\"\n",
    "    print('Getting base error')\n",
    "    base_error = self.learn.validate(dl=self.dl)[1]\n",
    "    self.importance = {}\n",
    "    pbar = progress_bar(self.x_names)\n",
    "    print('Calculating Permutation Importance')\n",
    "    for col in pbar:\n",
    "      self.importance[col] = self.measure_col(col)\n",
    "    for key, value in self.importance.items():\n",
    "      self.importance[key] = (base_error-value)/base_error #this can be adjusted\n",
    "    return OrderedDict(sorted(self.importance.items(), key=lambda kv: kv[1], reverse=True))\n",
    "\n",
    "  def ord_dic_to_df(self, dict:OrderedDict):\n",
    "    return pd.DataFrame([[k, v] for k, v in dict.items()], columns=['feature', 'importance'])\n",
    "\n",
    "  def plot_importance(self, df:pd.DataFrame, limit=20, asc=False, **kwargs):\n",
    "    \"Plot importance with an optional limit to how many variables shown\"\n",
    "    df_copy = df.copy()\n",
    "    df_copy['feature'] = df_copy['feature'].str.slice(0,25)\n",
    "    df_copy = df_copy.sort_values(by='importance', ascending=asc)[:limit].sort_values(by='importance', ascending=not(asc))\n",
    "    ax = df_copy.plot.barh(x='feature', y='importance', sort_columns=True, **kwargs)\n",
    "    for p in ax.patches:\n",
    "      ax.annotate(f'{p.get_width():.4f}', ((p.get_width() * 1.005), p.get_y()  * 1.005))"
   ]
  },
  {
   "cell_type": "code",
   "execution_count": 159,
   "metadata": {
    "scrolled": true
   },
   "outputs": [
    {
     "name": "stdout",
     "output_type": "stream",
     "text": [
      "Getting base error\n"
     ]
    },
    {
     "data": {
      "text/html": [],
      "text/plain": [
       "<IPython.core.display.HTML object>"
      ]
     },
     "metadata": {},
     "output_type": "display_data"
    },
    {
     "name": "stdout",
     "output_type": "stream",
     "text": [
      "Calculating Permutation Importance\n"
     ]
    },
    {
     "data": {
      "text/html": [
       "\n",
       "    <div>\n",
       "        <style>\n",
       "            /* Turns off some styling */\n",
       "            progress {\n",
       "                /* gets rid of default border in Firefox and Opera. */\n",
       "                border: none;\n",
       "                /* Needs to be in here for Safari polyfill so background images work as expected. */\n",
       "                background-size: auto;\n",
       "            }\n",
       "            .progress-bar-interrupted, .progress-bar-interrupted::-webkit-progress-bar {\n",
       "                background: #F44336;\n",
       "            }\n",
       "        </style>\n",
       "      <progress value='192' class='' max='192' style='width:300px; height:20px; vertical-align: middle;'></progress>\n",
       "      100.00% [192/192 00:19<00:00]\n",
       "    </div>\n",
       "    "
      ],
      "text/plain": [
       "<IPython.core.display.HTML object>"
      ]
     },
     "metadata": {},
     "output_type": "display_data"
    },
    {
     "data": {
      "text/html": [],
      "text/plain": [
       "<IPython.core.display.HTML object>"
      ]
     },
     "metadata": {},
     "output_type": "display_data"
    },
    {
     "data": {
      "text/html": [],
      "text/plain": [
       "<IPython.core.display.HTML object>"
      ]
     },
     "metadata": {},
     "output_type": "display_data"
    },
    {
     "data": {
      "text/html": [],
      "text/plain": [
       "<IPython.core.display.HTML object>"
      ]
     },
     "metadata": {},
     "output_type": "display_data"
    },
    {
     "data": {
      "text/html": [],
      "text/plain": [
       "<IPython.core.display.HTML object>"
      ]
     },
     "metadata": {},
     "output_type": "display_data"
    },
    {
     "data": {
      "text/html": [],
      "text/plain": [
       "<IPython.core.display.HTML object>"
      ]
     },
     "metadata": {},
     "output_type": "display_data"
    },
    {
     "data": {
      "text/html": [],
      "text/plain": [
       "<IPython.core.display.HTML object>"
      ]
     },
     "metadata": {},
     "output_type": "display_data"
    },
    {
     "data": {
      "text/html": [],
      "text/plain": [
       "<IPython.core.display.HTML object>"
      ]
     },
     "metadata": {},
     "output_type": "display_data"
    },
    {
     "data": {
      "text/html": [],
      "text/plain": [
       "<IPython.core.display.HTML object>"
      ]
     },
     "metadata": {},
     "output_type": "display_data"
    },
    {
     "data": {
      "text/html": [],
      "text/plain": [
       "<IPython.core.display.HTML object>"
      ]
     },
     "metadata": {},
     "output_type": "display_data"
    },
    {
     "data": {
      "text/html": [],
      "text/plain": [
       "<IPython.core.display.HTML object>"
      ]
     },
     "metadata": {},
     "output_type": "display_data"
    },
    {
     "data": {
      "text/html": [],
      "text/plain": [
       "<IPython.core.display.HTML object>"
      ]
     },
     "metadata": {},
     "output_type": "display_data"
    },
    {
     "data": {
      "text/html": [],
      "text/plain": [
       "<IPython.core.display.HTML object>"
      ]
     },
     "metadata": {},
     "output_type": "display_data"
    },
    {
     "data": {
      "text/html": [],
      "text/plain": [
       "<IPython.core.display.HTML object>"
      ]
     },
     "metadata": {},
     "output_type": "display_data"
    },
    {
     "data": {
      "text/html": [],
      "text/plain": [
       "<IPython.core.display.HTML object>"
      ]
     },
     "metadata": {},
     "output_type": "display_data"
    },
    {
     "data": {
      "text/html": [],
      "text/plain": [
       "<IPython.core.display.HTML object>"
      ]
     },
     "metadata": {},
     "output_type": "display_data"
    },
    {
     "data": {
      "text/html": [],
      "text/plain": [
       "<IPython.core.display.HTML object>"
      ]
     },
     "metadata": {},
     "output_type": "display_data"
    },
    {
     "data": {
      "text/html": [],
      "text/plain": [
       "<IPython.core.display.HTML object>"
      ]
     },
     "metadata": {},
     "output_type": "display_data"
    },
    {
     "data": {
      "text/html": [],
      "text/plain": [
       "<IPython.core.display.HTML object>"
      ]
     },
     "metadata": {},
     "output_type": "display_data"
    },
    {
     "data": {
      "text/html": [],
      "text/plain": [
       "<IPython.core.display.HTML object>"
      ]
     },
     "metadata": {},
     "output_type": "display_data"
    },
    {
     "data": {
      "text/html": [],
      "text/plain": [
       "<IPython.core.display.HTML object>"
      ]
     },
     "metadata": {},
     "output_type": "display_data"
    },
    {
     "data": {
      "text/html": [],
      "text/plain": [
       "<IPython.core.display.HTML object>"
      ]
     },
     "metadata": {},
     "output_type": "display_data"
    },
    {
     "data": {
      "text/html": [],
      "text/plain": [
       "<IPython.core.display.HTML object>"
      ]
     },
     "metadata": {},
     "output_type": "display_data"
    },
    {
     "data": {
      "text/html": [],
      "text/plain": [
       "<IPython.core.display.HTML object>"
      ]
     },
     "metadata": {},
     "output_type": "display_data"
    },
    {
     "data": {
      "text/html": [],
      "text/plain": [
       "<IPython.core.display.HTML object>"
      ]
     },
     "metadata": {},
     "output_type": "display_data"
    },
    {
     "data": {
      "text/html": [],
      "text/plain": [
       "<IPython.core.display.HTML object>"
      ]
     },
     "metadata": {},
     "output_type": "display_data"
    },
    {
     "data": {
      "text/html": [],
      "text/plain": [
       "<IPython.core.display.HTML object>"
      ]
     },
     "metadata": {},
     "output_type": "display_data"
    },
    {
     "data": {
      "text/html": [],
      "text/plain": [
       "<IPython.core.display.HTML object>"
      ]
     },
     "metadata": {},
     "output_type": "display_data"
    },
    {
     "data": {
      "text/html": [],
      "text/plain": [
       "<IPython.core.display.HTML object>"
      ]
     },
     "metadata": {},
     "output_type": "display_data"
    },
    {
     "data": {
      "text/html": [],
      "text/plain": [
       "<IPython.core.display.HTML object>"
      ]
     },
     "metadata": {},
     "output_type": "display_data"
    },
    {
     "data": {
      "text/html": [],
      "text/plain": [
       "<IPython.core.display.HTML object>"
      ]
     },
     "metadata": {},
     "output_type": "display_data"
    },
    {
     "data": {
      "text/html": [],
      "text/plain": [
       "<IPython.core.display.HTML object>"
      ]
     },
     "metadata": {},
     "output_type": "display_data"
    },
    {
     "data": {
      "text/html": [],
      "text/plain": [
       "<IPython.core.display.HTML object>"
      ]
     },
     "metadata": {},
     "output_type": "display_data"
    },
    {
     "data": {
      "text/html": [],
      "text/plain": [
       "<IPython.core.display.HTML object>"
      ]
     },
     "metadata": {},
     "output_type": "display_data"
    },
    {
     "data": {
      "text/html": [],
      "text/plain": [
       "<IPython.core.display.HTML object>"
      ]
     },
     "metadata": {},
     "output_type": "display_data"
    },
    {
     "data": {
      "text/html": [],
      "text/plain": [
       "<IPython.core.display.HTML object>"
      ]
     },
     "metadata": {},
     "output_type": "display_data"
    },
    {
     "data": {
      "text/html": [],
      "text/plain": [
       "<IPython.core.display.HTML object>"
      ]
     },
     "metadata": {},
     "output_type": "display_data"
    },
    {
     "data": {
      "text/html": [],
      "text/plain": [
       "<IPython.core.display.HTML object>"
      ]
     },
     "metadata": {},
     "output_type": "display_data"
    },
    {
     "data": {
      "text/html": [],
      "text/plain": [
       "<IPython.core.display.HTML object>"
      ]
     },
     "metadata": {},
     "output_type": "display_data"
    },
    {
     "data": {
      "text/html": [],
      "text/plain": [
       "<IPython.core.display.HTML object>"
      ]
     },
     "metadata": {},
     "output_type": "display_data"
    },
    {
     "data": {
      "text/html": [],
      "text/plain": [
       "<IPython.core.display.HTML object>"
      ]
     },
     "metadata": {},
     "output_type": "display_data"
    },
    {
     "data": {
      "text/html": [],
      "text/plain": [
       "<IPython.core.display.HTML object>"
      ]
     },
     "metadata": {},
     "output_type": "display_data"
    },
    {
     "data": {
      "text/html": [],
      "text/plain": [
       "<IPython.core.display.HTML object>"
      ]
     },
     "metadata": {},
     "output_type": "display_data"
    },
    {
     "data": {
      "text/html": [],
      "text/plain": [
       "<IPython.core.display.HTML object>"
      ]
     },
     "metadata": {},
     "output_type": "display_data"
    },
    {
     "data": {
      "text/html": [],
      "text/plain": [
       "<IPython.core.display.HTML object>"
      ]
     },
     "metadata": {},
     "output_type": "display_data"
    },
    {
     "data": {
      "text/html": [],
      "text/plain": [
       "<IPython.core.display.HTML object>"
      ]
     },
     "metadata": {},
     "output_type": "display_data"
    },
    {
     "data": {
      "text/html": [],
      "text/plain": [
       "<IPython.core.display.HTML object>"
      ]
     },
     "metadata": {},
     "output_type": "display_data"
    },
    {
     "data": {
      "text/html": [],
      "text/plain": [
       "<IPython.core.display.HTML object>"
      ]
     },
     "metadata": {},
     "output_type": "display_data"
    },
    {
     "data": {
      "text/html": [],
      "text/plain": [
       "<IPython.core.display.HTML object>"
      ]
     },
     "metadata": {},
     "output_type": "display_data"
    },
    {
     "data": {
      "text/html": [],
      "text/plain": [
       "<IPython.core.display.HTML object>"
      ]
     },
     "metadata": {},
     "output_type": "display_data"
    },
    {
     "data": {
      "text/html": [],
      "text/plain": [
       "<IPython.core.display.HTML object>"
      ]
     },
     "metadata": {},
     "output_type": "display_data"
    },
    {
     "data": {
      "text/html": [],
      "text/plain": [
       "<IPython.core.display.HTML object>"
      ]
     },
     "metadata": {},
     "output_type": "display_data"
    },
    {
     "data": {
      "text/html": [],
      "text/plain": [
       "<IPython.core.display.HTML object>"
      ]
     },
     "metadata": {},
     "output_type": "display_data"
    },
    {
     "data": {
      "text/html": [],
      "text/plain": [
       "<IPython.core.display.HTML object>"
      ]
     },
     "metadata": {},
     "output_type": "display_data"
    },
    {
     "data": {
      "text/html": [],
      "text/plain": [
       "<IPython.core.display.HTML object>"
      ]
     },
     "metadata": {},
     "output_type": "display_data"
    },
    {
     "data": {
      "text/html": [],
      "text/plain": [
       "<IPython.core.display.HTML object>"
      ]
     },
     "metadata": {},
     "output_type": "display_data"
    },
    {
     "data": {
      "text/html": [],
      "text/plain": [
       "<IPython.core.display.HTML object>"
      ]
     },
     "metadata": {},
     "output_type": "display_data"
    },
    {
     "data": {
      "text/html": [],
      "text/plain": [
       "<IPython.core.display.HTML object>"
      ]
     },
     "metadata": {},
     "output_type": "display_data"
    },
    {
     "data": {
      "text/html": [],
      "text/plain": [
       "<IPython.core.display.HTML object>"
      ]
     },
     "metadata": {},
     "output_type": "display_data"
    },
    {
     "data": {
      "text/html": [],
      "text/plain": [
       "<IPython.core.display.HTML object>"
      ]
     },
     "metadata": {},
     "output_type": "display_data"
    },
    {
     "data": {
      "text/html": [],
      "text/plain": [
       "<IPython.core.display.HTML object>"
      ]
     },
     "metadata": {},
     "output_type": "display_data"
    },
    {
     "data": {
      "text/html": [],
      "text/plain": [
       "<IPython.core.display.HTML object>"
      ]
     },
     "metadata": {},
     "output_type": "display_data"
    },
    {
     "data": {
      "text/html": [],
      "text/plain": [
       "<IPython.core.display.HTML object>"
      ]
     },
     "metadata": {},
     "output_type": "display_data"
    },
    {
     "data": {
      "text/html": [],
      "text/plain": [
       "<IPython.core.display.HTML object>"
      ]
     },
     "metadata": {},
     "output_type": "display_data"
    },
    {
     "data": {
      "text/html": [],
      "text/plain": [
       "<IPython.core.display.HTML object>"
      ]
     },
     "metadata": {},
     "output_type": "display_data"
    },
    {
     "data": {
      "text/html": [],
      "text/plain": [
       "<IPython.core.display.HTML object>"
      ]
     },
     "metadata": {},
     "output_type": "display_data"
    },
    {
     "data": {
      "text/html": [],
      "text/plain": [
       "<IPython.core.display.HTML object>"
      ]
     },
     "metadata": {},
     "output_type": "display_data"
    },
    {
     "data": {
      "text/html": [],
      "text/plain": [
       "<IPython.core.display.HTML object>"
      ]
     },
     "metadata": {},
     "output_type": "display_data"
    },
    {
     "data": {
      "text/html": [],
      "text/plain": [
       "<IPython.core.display.HTML object>"
      ]
     },
     "metadata": {},
     "output_type": "display_data"
    },
    {
     "data": {
      "text/html": [],
      "text/plain": [
       "<IPython.core.display.HTML object>"
      ]
     },
     "metadata": {},
     "output_type": "display_data"
    },
    {
     "data": {
      "text/html": [],
      "text/plain": [
       "<IPython.core.display.HTML object>"
      ]
     },
     "metadata": {},
     "output_type": "display_data"
    },
    {
     "data": {
      "text/html": [],
      "text/plain": [
       "<IPython.core.display.HTML object>"
      ]
     },
     "metadata": {},
     "output_type": "display_data"
    },
    {
     "data": {
      "text/html": [],
      "text/plain": [
       "<IPython.core.display.HTML object>"
      ]
     },
     "metadata": {},
     "output_type": "display_data"
    },
    {
     "data": {
      "text/html": [],
      "text/plain": [
       "<IPython.core.display.HTML object>"
      ]
     },
     "metadata": {},
     "output_type": "display_data"
    },
    {
     "data": {
      "text/html": [],
      "text/plain": [
       "<IPython.core.display.HTML object>"
      ]
     },
     "metadata": {},
     "output_type": "display_data"
    },
    {
     "data": {
      "text/html": [],
      "text/plain": [
       "<IPython.core.display.HTML object>"
      ]
     },
     "metadata": {},
     "output_type": "display_data"
    },
    {
     "data": {
      "text/html": [],
      "text/plain": [
       "<IPython.core.display.HTML object>"
      ]
     },
     "metadata": {},
     "output_type": "display_data"
    },
    {
     "data": {
      "text/html": [],
      "text/plain": [
       "<IPython.core.display.HTML object>"
      ]
     },
     "metadata": {},
     "output_type": "display_data"
    },
    {
     "data": {
      "text/html": [],
      "text/plain": [
       "<IPython.core.display.HTML object>"
      ]
     },
     "metadata": {},
     "output_type": "display_data"
    },
    {
     "data": {
      "text/html": [],
      "text/plain": [
       "<IPython.core.display.HTML object>"
      ]
     },
     "metadata": {},
     "output_type": "display_data"
    },
    {
     "data": {
      "text/html": [],
      "text/plain": [
       "<IPython.core.display.HTML object>"
      ]
     },
     "metadata": {},
     "output_type": "display_data"
    },
    {
     "data": {
      "text/html": [],
      "text/plain": [
       "<IPython.core.display.HTML object>"
      ]
     },
     "metadata": {},
     "output_type": "display_data"
    },
    {
     "data": {
      "text/html": [],
      "text/plain": [
       "<IPython.core.display.HTML object>"
      ]
     },
     "metadata": {},
     "output_type": "display_data"
    },
    {
     "data": {
      "text/html": [],
      "text/plain": [
       "<IPython.core.display.HTML object>"
      ]
     },
     "metadata": {},
     "output_type": "display_data"
    },
    {
     "data": {
      "text/html": [],
      "text/plain": [
       "<IPython.core.display.HTML object>"
      ]
     },
     "metadata": {},
     "output_type": "display_data"
    },
    {
     "data": {
      "text/html": [],
      "text/plain": [
       "<IPython.core.display.HTML object>"
      ]
     },
     "metadata": {},
     "output_type": "display_data"
    },
    {
     "data": {
      "text/html": [],
      "text/plain": [
       "<IPython.core.display.HTML object>"
      ]
     },
     "metadata": {},
     "output_type": "display_data"
    },
    {
     "data": {
      "text/html": [],
      "text/plain": [
       "<IPython.core.display.HTML object>"
      ]
     },
     "metadata": {},
     "output_type": "display_data"
    },
    {
     "data": {
      "text/html": [],
      "text/plain": [
       "<IPython.core.display.HTML object>"
      ]
     },
     "metadata": {},
     "output_type": "display_data"
    },
    {
     "data": {
      "text/html": [],
      "text/plain": [
       "<IPython.core.display.HTML object>"
      ]
     },
     "metadata": {},
     "output_type": "display_data"
    },
    {
     "data": {
      "text/html": [],
      "text/plain": [
       "<IPython.core.display.HTML object>"
      ]
     },
     "metadata": {},
     "output_type": "display_data"
    },
    {
     "data": {
      "text/html": [],
      "text/plain": [
       "<IPython.core.display.HTML object>"
      ]
     },
     "metadata": {},
     "output_type": "display_data"
    },
    {
     "data": {
      "text/html": [],
      "text/plain": [
       "<IPython.core.display.HTML object>"
      ]
     },
     "metadata": {},
     "output_type": "display_data"
    },
    {
     "data": {
      "text/html": [],
      "text/plain": [
       "<IPython.core.display.HTML object>"
      ]
     },
     "metadata": {},
     "output_type": "display_data"
    },
    {
     "data": {
      "text/html": [],
      "text/plain": [
       "<IPython.core.display.HTML object>"
      ]
     },
     "metadata": {},
     "output_type": "display_data"
    },
    {
     "data": {
      "text/html": [],
      "text/plain": [
       "<IPython.core.display.HTML object>"
      ]
     },
     "metadata": {},
     "output_type": "display_data"
    },
    {
     "data": {
      "text/html": [],
      "text/plain": [
       "<IPython.core.display.HTML object>"
      ]
     },
     "metadata": {},
     "output_type": "display_data"
    },
    {
     "data": {
      "text/html": [],
      "text/plain": [
       "<IPython.core.display.HTML object>"
      ]
     },
     "metadata": {},
     "output_type": "display_data"
    },
    {
     "data": {
      "text/html": [],
      "text/plain": [
       "<IPython.core.display.HTML object>"
      ]
     },
     "metadata": {},
     "output_type": "display_data"
    },
    {
     "data": {
      "text/html": [],
      "text/plain": [
       "<IPython.core.display.HTML object>"
      ]
     },
     "metadata": {},
     "output_type": "display_data"
    },
    {
     "data": {
      "text/html": [],
      "text/plain": [
       "<IPython.core.display.HTML object>"
      ]
     },
     "metadata": {},
     "output_type": "display_data"
    },
    {
     "data": {
      "text/html": [],
      "text/plain": [
       "<IPython.core.display.HTML object>"
      ]
     },
     "metadata": {},
     "output_type": "display_data"
    },
    {
     "data": {
      "text/html": [],
      "text/plain": [
       "<IPython.core.display.HTML object>"
      ]
     },
     "metadata": {},
     "output_type": "display_data"
    },
    {
     "data": {
      "text/html": [],
      "text/plain": [
       "<IPython.core.display.HTML object>"
      ]
     },
     "metadata": {},
     "output_type": "display_data"
    },
    {
     "data": {
      "text/html": [],
      "text/plain": [
       "<IPython.core.display.HTML object>"
      ]
     },
     "metadata": {},
     "output_type": "display_data"
    },
    {
     "data": {
      "text/html": [],
      "text/plain": [
       "<IPython.core.display.HTML object>"
      ]
     },
     "metadata": {},
     "output_type": "display_data"
    },
    {
     "data": {
      "text/html": [],
      "text/plain": [
       "<IPython.core.display.HTML object>"
      ]
     },
     "metadata": {},
     "output_type": "display_data"
    },
    {
     "data": {
      "text/html": [],
      "text/plain": [
       "<IPython.core.display.HTML object>"
      ]
     },
     "metadata": {},
     "output_type": "display_data"
    },
    {
     "data": {
      "text/html": [],
      "text/plain": [
       "<IPython.core.display.HTML object>"
      ]
     },
     "metadata": {},
     "output_type": "display_data"
    },
    {
     "data": {
      "text/html": [],
      "text/plain": [
       "<IPython.core.display.HTML object>"
      ]
     },
     "metadata": {},
     "output_type": "display_data"
    },
    {
     "data": {
      "text/html": [],
      "text/plain": [
       "<IPython.core.display.HTML object>"
      ]
     },
     "metadata": {},
     "output_type": "display_data"
    },
    {
     "data": {
      "text/html": [],
      "text/plain": [
       "<IPython.core.display.HTML object>"
      ]
     },
     "metadata": {},
     "output_type": "display_data"
    },
    {
     "data": {
      "text/html": [],
      "text/plain": [
       "<IPython.core.display.HTML object>"
      ]
     },
     "metadata": {},
     "output_type": "display_data"
    },
    {
     "data": {
      "text/html": [],
      "text/plain": [
       "<IPython.core.display.HTML object>"
      ]
     },
     "metadata": {},
     "output_type": "display_data"
    },
    {
     "data": {
      "text/html": [],
      "text/plain": [
       "<IPython.core.display.HTML object>"
      ]
     },
     "metadata": {},
     "output_type": "display_data"
    },
    {
     "data": {
      "text/html": [],
      "text/plain": [
       "<IPython.core.display.HTML object>"
      ]
     },
     "metadata": {},
     "output_type": "display_data"
    },
    {
     "data": {
      "text/html": [],
      "text/plain": [
       "<IPython.core.display.HTML object>"
      ]
     },
     "metadata": {},
     "output_type": "display_data"
    },
    {
     "data": {
      "text/html": [],
      "text/plain": [
       "<IPython.core.display.HTML object>"
      ]
     },
     "metadata": {},
     "output_type": "display_data"
    },
    {
     "data": {
      "text/html": [],
      "text/plain": [
       "<IPython.core.display.HTML object>"
      ]
     },
     "metadata": {},
     "output_type": "display_data"
    },
    {
     "data": {
      "text/html": [],
      "text/plain": [
       "<IPython.core.display.HTML object>"
      ]
     },
     "metadata": {},
     "output_type": "display_data"
    },
    {
     "data": {
      "text/html": [],
      "text/plain": [
       "<IPython.core.display.HTML object>"
      ]
     },
     "metadata": {},
     "output_type": "display_data"
    },
    {
     "data": {
      "text/html": [],
      "text/plain": [
       "<IPython.core.display.HTML object>"
      ]
     },
     "metadata": {},
     "output_type": "display_data"
    },
    {
     "data": {
      "text/html": [],
      "text/plain": [
       "<IPython.core.display.HTML object>"
      ]
     },
     "metadata": {},
     "output_type": "display_data"
    },
    {
     "data": {
      "text/html": [],
      "text/plain": [
       "<IPython.core.display.HTML object>"
      ]
     },
     "metadata": {},
     "output_type": "display_data"
    },
    {
     "data": {
      "text/html": [],
      "text/plain": [
       "<IPython.core.display.HTML object>"
      ]
     },
     "metadata": {},
     "output_type": "display_data"
    },
    {
     "data": {
      "text/html": [],
      "text/plain": [
       "<IPython.core.display.HTML object>"
      ]
     },
     "metadata": {},
     "output_type": "display_data"
    },
    {
     "data": {
      "text/html": [],
      "text/plain": [
       "<IPython.core.display.HTML object>"
      ]
     },
     "metadata": {},
     "output_type": "display_data"
    },
    {
     "data": {
      "text/html": [],
      "text/plain": [
       "<IPython.core.display.HTML object>"
      ]
     },
     "metadata": {},
     "output_type": "display_data"
    },
    {
     "data": {
      "text/html": [],
      "text/plain": [
       "<IPython.core.display.HTML object>"
      ]
     },
     "metadata": {},
     "output_type": "display_data"
    },
    {
     "data": {
      "text/html": [],
      "text/plain": [
       "<IPython.core.display.HTML object>"
      ]
     },
     "metadata": {},
     "output_type": "display_data"
    },
    {
     "data": {
      "text/html": [],
      "text/plain": [
       "<IPython.core.display.HTML object>"
      ]
     },
     "metadata": {},
     "output_type": "display_data"
    },
    {
     "data": {
      "text/html": [],
      "text/plain": [
       "<IPython.core.display.HTML object>"
      ]
     },
     "metadata": {},
     "output_type": "display_data"
    },
    {
     "data": {
      "text/html": [],
      "text/plain": [
       "<IPython.core.display.HTML object>"
      ]
     },
     "metadata": {},
     "output_type": "display_data"
    },
    {
     "data": {
      "text/html": [],
      "text/plain": [
       "<IPython.core.display.HTML object>"
      ]
     },
     "metadata": {},
     "output_type": "display_data"
    },
    {
     "data": {
      "text/html": [],
      "text/plain": [
       "<IPython.core.display.HTML object>"
      ]
     },
     "metadata": {},
     "output_type": "display_data"
    },
    {
     "data": {
      "text/html": [],
      "text/plain": [
       "<IPython.core.display.HTML object>"
      ]
     },
     "metadata": {},
     "output_type": "display_data"
    },
    {
     "data": {
      "text/html": [],
      "text/plain": [
       "<IPython.core.display.HTML object>"
      ]
     },
     "metadata": {},
     "output_type": "display_data"
    },
    {
     "data": {
      "text/html": [],
      "text/plain": [
       "<IPython.core.display.HTML object>"
      ]
     },
     "metadata": {},
     "output_type": "display_data"
    },
    {
     "data": {
      "text/html": [],
      "text/plain": [
       "<IPython.core.display.HTML object>"
      ]
     },
     "metadata": {},
     "output_type": "display_data"
    },
    {
     "data": {
      "text/html": [],
      "text/plain": [
       "<IPython.core.display.HTML object>"
      ]
     },
     "metadata": {},
     "output_type": "display_data"
    },
    {
     "data": {
      "text/html": [],
      "text/plain": [
       "<IPython.core.display.HTML object>"
      ]
     },
     "metadata": {},
     "output_type": "display_data"
    },
    {
     "data": {
      "text/html": [],
      "text/plain": [
       "<IPython.core.display.HTML object>"
      ]
     },
     "metadata": {},
     "output_type": "display_data"
    },
    {
     "data": {
      "text/html": [],
      "text/plain": [
       "<IPython.core.display.HTML object>"
      ]
     },
     "metadata": {},
     "output_type": "display_data"
    },
    {
     "data": {
      "text/html": [],
      "text/plain": [
       "<IPython.core.display.HTML object>"
      ]
     },
     "metadata": {},
     "output_type": "display_data"
    },
    {
     "data": {
      "text/html": [],
      "text/plain": [
       "<IPython.core.display.HTML object>"
      ]
     },
     "metadata": {},
     "output_type": "display_data"
    },
    {
     "data": {
      "text/html": [],
      "text/plain": [
       "<IPython.core.display.HTML object>"
      ]
     },
     "metadata": {},
     "output_type": "display_data"
    },
    {
     "data": {
      "text/html": [],
      "text/plain": [
       "<IPython.core.display.HTML object>"
      ]
     },
     "metadata": {},
     "output_type": "display_data"
    },
    {
     "data": {
      "text/html": [],
      "text/plain": [
       "<IPython.core.display.HTML object>"
      ]
     },
     "metadata": {},
     "output_type": "display_data"
    },
    {
     "data": {
      "text/html": [],
      "text/plain": [
       "<IPython.core.display.HTML object>"
      ]
     },
     "metadata": {},
     "output_type": "display_data"
    },
    {
     "data": {
      "text/html": [],
      "text/plain": [
       "<IPython.core.display.HTML object>"
      ]
     },
     "metadata": {},
     "output_type": "display_data"
    },
    {
     "data": {
      "text/html": [],
      "text/plain": [
       "<IPython.core.display.HTML object>"
      ]
     },
     "metadata": {},
     "output_type": "display_data"
    },
    {
     "data": {
      "text/html": [],
      "text/plain": [
       "<IPython.core.display.HTML object>"
      ]
     },
     "metadata": {},
     "output_type": "display_data"
    },
    {
     "data": {
      "text/html": [],
      "text/plain": [
       "<IPython.core.display.HTML object>"
      ]
     },
     "metadata": {},
     "output_type": "display_data"
    },
    {
     "data": {
      "text/html": [],
      "text/plain": [
       "<IPython.core.display.HTML object>"
      ]
     },
     "metadata": {},
     "output_type": "display_data"
    },
    {
     "data": {
      "text/html": [],
      "text/plain": [
       "<IPython.core.display.HTML object>"
      ]
     },
     "metadata": {},
     "output_type": "display_data"
    },
    {
     "data": {
      "text/html": [],
      "text/plain": [
       "<IPython.core.display.HTML object>"
      ]
     },
     "metadata": {},
     "output_type": "display_data"
    },
    {
     "data": {
      "text/html": [],
      "text/plain": [
       "<IPython.core.display.HTML object>"
      ]
     },
     "metadata": {},
     "output_type": "display_data"
    },
    {
     "data": {
      "text/html": [],
      "text/plain": [
       "<IPython.core.display.HTML object>"
      ]
     },
     "metadata": {},
     "output_type": "display_data"
    },
    {
     "data": {
      "text/html": [],
      "text/plain": [
       "<IPython.core.display.HTML object>"
      ]
     },
     "metadata": {},
     "output_type": "display_data"
    },
    {
     "data": {
      "text/html": [],
      "text/plain": [
       "<IPython.core.display.HTML object>"
      ]
     },
     "metadata": {},
     "output_type": "display_data"
    },
    {
     "data": {
      "text/html": [],
      "text/plain": [
       "<IPython.core.display.HTML object>"
      ]
     },
     "metadata": {},
     "output_type": "display_data"
    },
    {
     "data": {
      "text/html": [],
      "text/plain": [
       "<IPython.core.display.HTML object>"
      ]
     },
     "metadata": {},
     "output_type": "display_data"
    },
    {
     "data": {
      "text/html": [],
      "text/plain": [
       "<IPython.core.display.HTML object>"
      ]
     },
     "metadata": {},
     "output_type": "display_data"
    },
    {
     "data": {
      "text/html": [],
      "text/plain": [
       "<IPython.core.display.HTML object>"
      ]
     },
     "metadata": {},
     "output_type": "display_data"
    },
    {
     "data": {
      "text/html": [],
      "text/plain": [
       "<IPython.core.display.HTML object>"
      ]
     },
     "metadata": {},
     "output_type": "display_data"
    },
    {
     "data": {
      "text/html": [],
      "text/plain": [
       "<IPython.core.display.HTML object>"
      ]
     },
     "metadata": {},
     "output_type": "display_data"
    },
    {
     "data": {
      "text/html": [],
      "text/plain": [
       "<IPython.core.display.HTML object>"
      ]
     },
     "metadata": {},
     "output_type": "display_data"
    },
    {
     "data": {
      "text/html": [],
      "text/plain": [
       "<IPython.core.display.HTML object>"
      ]
     },
     "metadata": {},
     "output_type": "display_data"
    },
    {
     "data": {
      "text/html": [],
      "text/plain": [
       "<IPython.core.display.HTML object>"
      ]
     },
     "metadata": {},
     "output_type": "display_data"
    },
    {
     "data": {
      "text/html": [],
      "text/plain": [
       "<IPython.core.display.HTML object>"
      ]
     },
     "metadata": {},
     "output_type": "display_data"
    },
    {
     "data": {
      "text/html": [],
      "text/plain": [
       "<IPython.core.display.HTML object>"
      ]
     },
     "metadata": {},
     "output_type": "display_data"
    },
    {
     "data": {
      "text/html": [],
      "text/plain": [
       "<IPython.core.display.HTML object>"
      ]
     },
     "metadata": {},
     "output_type": "display_data"
    },
    {
     "data": {
      "text/html": [],
      "text/plain": [
       "<IPython.core.display.HTML object>"
      ]
     },
     "metadata": {},
     "output_type": "display_data"
    },
    {
     "data": {
      "text/html": [],
      "text/plain": [
       "<IPython.core.display.HTML object>"
      ]
     },
     "metadata": {},
     "output_type": "display_data"
    },
    {
     "data": {
      "text/html": [],
      "text/plain": [
       "<IPython.core.display.HTML object>"
      ]
     },
     "metadata": {},
     "output_type": "display_data"
    },
    {
     "data": {
      "text/html": [],
      "text/plain": [
       "<IPython.core.display.HTML object>"
      ]
     },
     "metadata": {},
     "output_type": "display_data"
    },
    {
     "data": {
      "text/html": [],
      "text/plain": [
       "<IPython.core.display.HTML object>"
      ]
     },
     "metadata": {},
     "output_type": "display_data"
    },
    {
     "data": {
      "text/html": [],
      "text/plain": [
       "<IPython.core.display.HTML object>"
      ]
     },
     "metadata": {},
     "output_type": "display_data"
    },
    {
     "data": {
      "text/html": [],
      "text/plain": [
       "<IPython.core.display.HTML object>"
      ]
     },
     "metadata": {},
     "output_type": "display_data"
    },
    {
     "data": {
      "text/html": [],
      "text/plain": [
       "<IPython.core.display.HTML object>"
      ]
     },
     "metadata": {},
     "output_type": "display_data"
    },
    {
     "data": {
      "text/html": [],
      "text/plain": [
       "<IPython.core.display.HTML object>"
      ]
     },
     "metadata": {},
     "output_type": "display_data"
    },
    {
     "data": {
      "text/html": [],
      "text/plain": [
       "<IPython.core.display.HTML object>"
      ]
     },
     "metadata": {},
     "output_type": "display_data"
    },
    {
     "data": {
      "text/html": [],
      "text/plain": [
       "<IPython.core.display.HTML object>"
      ]
     },
     "metadata": {},
     "output_type": "display_data"
    },
    {
     "data": {
      "text/html": [],
      "text/plain": [
       "<IPython.core.display.HTML object>"
      ]
     },
     "metadata": {},
     "output_type": "display_data"
    },
    {
     "data": {
      "text/html": [],
      "text/plain": [
       "<IPython.core.display.HTML object>"
      ]
     },
     "metadata": {},
     "output_type": "display_data"
    },
    {
     "data": {
      "text/html": [],
      "text/plain": [
       "<IPython.core.display.HTML object>"
      ]
     },
     "metadata": {},
     "output_type": "display_data"
    },
    {
     "data": {
      "text/html": [],
      "text/plain": [
       "<IPython.core.display.HTML object>"
      ]
     },
     "metadata": {},
     "output_type": "display_data"
    },
    {
     "data": {
      "text/html": [],
      "text/plain": [
       "<IPython.core.display.HTML object>"
      ]
     },
     "metadata": {},
     "output_type": "display_data"
    },
    {
     "data": {
      "text/html": [],
      "text/plain": [
       "<IPython.core.display.HTML object>"
      ]
     },
     "metadata": {},
     "output_type": "display_data"
    },
    {
     "data": {
      "text/html": [],
      "text/plain": [
       "<IPython.core.display.HTML object>"
      ]
     },
     "metadata": {},
     "output_type": "display_data"
    },
    {
     "data": {
      "text/html": [],
      "text/plain": [
       "<IPython.core.display.HTML object>"
      ]
     },
     "metadata": {},
     "output_type": "display_data"
    },
    {
     "data": {
      "text/html": [],
      "text/plain": [
       "<IPython.core.display.HTML object>"
      ]
     },
     "metadata": {},
     "output_type": "display_data"
    },
    {
     "data": {
      "text/html": [],
      "text/plain": [
       "<IPython.core.display.HTML object>"
      ]
     },
     "metadata": {},
     "output_type": "display_data"
    },
    {
     "data": {
      "image/png": "[encoded data removed]",
      "text/plain": [
       "<Figure size 432x288 with 1 Axes>"
      ]
     },
     "metadata": {
      "needs_background": "light"
     },
     "output_type": "display_data"
    }
   ],
   "source": [
    "res = PermutationImportance(learn,df_tt.iloc[:1000], bs=64)"
   ]
  },
  {
   "cell_type": "code",
   "execution_count": 162,
   "metadata": {},
   "outputs": [
    {
     "data": {
      "text/plain": [
       "{'margin1': -0.03225807219154476,\n",
       " 'margin2': 0.03225807219154476,\n",
       " 'margin3': 0.09677421657463428,\n",
       " 'margin4': 0.06451614438308952,\n",
       " 'margin5': 0.03225807219154476,\n",
       " 'margin6': 0.03225807219154476,\n",
       " 'margin7': -0.09677409760569053,\n",
       " 'margin8': -0.06451614438308952,\n",
       " 'margin9': -0.03225807219154476,\n",
       " 'margin10': -0.03225807219154476,\n",
       " 'margin11': 0.09677421657463428,\n",
       " 'margin12': 0.0,\n",
       " 'margin13': 0.0,\n",
       " 'margin14': -0.09677409760569053,\n",
       " 'margin15': -0.09677409760569053,\n",
       " 'margin16': 0.0,\n",
       " 'margin17': -0.03225807219154476,\n",
       " 'margin18': -0.06451614438308952,\n",
       " 'margin19': 0.03225807219154476,\n",
       " 'margin20': -0.03225807219154476,\n",
       " 'margin21': -0.09677409760569053,\n",
       " 'margin22': -0.03225807219154476,\n",
       " 'margin23': -0.06451614438308952,\n",
       " 'margin24': -0.09677409760569053,\n",
       " 'margin25': -0.06451614438308952,\n",
       " 'margin26': 0.0,\n",
       " 'margin27': 0.0,\n",
       " 'margin28': -0.06451614438308952,\n",
       " 'margin29': -0.03225807219154476,\n",
       " 'margin30': 0.0,\n",
       " 'margin31': -0.03225807219154476,\n",
       " 'margin32': 0.0,\n",
       " 'margin33': -0.03225807219154476,\n",
       " 'margin34': 0.0,\n",
       " 'margin35': 0.0,\n",
       " 'margin36': 0.0,\n",
       " 'margin37': 0.06451614438308952,\n",
       " 'margin38': -0.06451614438308952,\n",
       " 'margin39': -0.09677409760569053,\n",
       " 'margin40': 0.03225807219154476,\n",
       " 'margin41': -0.06451614438308952,\n",
       " 'margin42': -0.09677409760569053,\n",
       " 'margin43': -0.09677409760569053,\n",
       " 'margin44': 0.03225807219154476,\n",
       " 'margin45': -0.06451614438308952,\n",
       " 'margin46': 0.0,\n",
       " 'margin47': -0.03225807219154476,\n",
       " 'margin48': -0.12903216979723528,\n",
       " 'margin49': 0.0,\n",
       " 'margin50': -0.03225807219154476,\n",
       " 'margin51': -0.09677409760569053,\n",
       " 'margin52': 0.0,\n",
       " 'margin53': -0.03225807219154476,\n",
       " 'margin54': 0.0,\n",
       " 'margin55': -0.09677409760569053,\n",
       " 'margin56': 0.0,\n",
       " 'margin57': -0.16129024198878003,\n",
       " 'margin58': -0.03225807219154476,\n",
       " 'margin59': -0.06451614438308952,\n",
       " 'margin60': 0.0,\n",
       " 'margin61': -0.06451614438308952,\n",
       " 'margin62': -0.03225807219154476,\n",
       " 'margin63': 0.0,\n",
       " 'margin64': -0.03225807219154476,\n",
       " 'shape1': 0.06451614438308952,\n",
       " 'shape2': 0.03225807219154476,\n",
       " 'shape3': 0.06451614438308952,\n",
       " 'shape4': -0.06451614438308952,\n",
       " 'shape5': 0.03225807219154476,\n",
       " 'shape6': 0.06451614438308952,\n",
       " 'shape7': 0.03225807219154476,\n",
       " 'shape8': -0.06451614438308952,\n",
       " 'shape9': 0.09677421657463428,\n",
       " 'shape10': 0.03225807219154476,\n",
       " 'shape11': 0.0,\n",
       " 'shape12': -0.12903216979723528,\n",
       " 'shape13': -0.06451614438308952,\n",
       " 'shape14': -0.06451614438308952,\n",
       " 'shape15': 0.03225807219154476,\n",
       " 'shape16': -0.12903216979723528,\n",
       " 'shape17': -0.06451614438308952,\n",
       " 'shape18': 0.03225807219154476,\n",
       " 'shape19': -0.03225807219154476,\n",
       " 'shape20': -0.09677409760569053,\n",
       " 'shape21': 0.03225807219154476,\n",
       " 'shape22': -0.09677409760569053,\n",
       " 'shape23': 0.0,\n",
       " 'shape24': 0.03225807219154476,\n",
       " 'shape25': -0.06451614438308952,\n",
       " 'shape26': 0.03225807219154476,\n",
       " 'shape27': -0.09677409760569053,\n",
       " 'shape28': -0.06451614438308952,\n",
       " 'shape29': 0.06451614438308952,\n",
       " 'shape30': -0.03225807219154476,\n",
       " 'shape31': -0.03225807219154476,\n",
       " 'shape32': -0.06451614438308952,\n",
       " 'shape33': -0.03225807219154476,\n",
       " 'shape34': -0.03225807219154476,\n",
       " 'shape35': -0.03225807219154476,\n",
       " 'shape36': -0.12903216979723528,\n",
       " 'shape37': -0.12903216979723528,\n",
       " 'shape38': 0.0,\n",
       " 'shape39': -0.03225807219154476,\n",
       " 'shape40': 0.03225807219154476,\n",
       " 'shape41': 0.0,\n",
       " 'shape42': 0.06451614438308952,\n",
       " 'shape43': -0.09677409760569053,\n",
       " 'shape44': -0.06451614438308952,\n",
       " 'shape45': -0.03225807219154476,\n",
       " 'shape46': -0.03225807219154476,\n",
       " 'shape47': 0.03225807219154476,\n",
       " 'shape48': -0.12903216979723528,\n",
       " 'shape49': -0.06451614438308952,\n",
       " 'shape50': 0.0,\n",
       " 'shape51': -0.03225807219154476,\n",
       " 'shape52': 0.0,\n",
       " 'shape53': -0.06451614438308952,\n",
       " 'shape54': 0.0,\n",
       " 'shape55': -0.03225807219154476,\n",
       " 'shape56': -0.06451614438308952,\n",
       " 'shape57': 0.0,\n",
       " 'shape58': 0.0,\n",
       " 'shape59': -0.06451614438308952,\n",
       " 'shape60': -0.06451614438308952,\n",
       " 'shape61': 0.0,\n",
       " 'shape62': 0.03225807219154476,\n",
       " 'shape63': 0.03225807219154476,\n",
       " 'shape64': 0.03225807219154476,\n",
       " 'texture1': -0.1935483141803248,\n",
       " 'texture2': 0.0,\n",
       " 'texture3': 0.03225807219154476,\n",
       " 'texture4': 0.03225807219154476,\n",
       " 'texture5': 0.03225807219154476,\n",
       " 'texture6': 0.03225807219154476,\n",
       " 'texture7': -0.09677409760569053,\n",
       " 'texture8': 0.0,\n",
       " 'texture9': -0.12903216979723528,\n",
       " 'texture10': 0.0,\n",
       " 'texture11': -0.06451614438308952,\n",
       " 'texture12': -0.29032253075495906,\n",
       " 'texture13': -0.03225807219154476,\n",
       " 'texture14': -0.06451614438308952,\n",
       " 'texture15': -0.12903216979723528,\n",
       " 'texture16': -0.1935483141803248,\n",
       " 'texture17': 0.03225807219154476,\n",
       " 'texture18': -0.06451614438308952,\n",
       " 'texture19': 0.03225807219154476,\n",
       " 'texture20': -0.06451614438308952,\n",
       " 'texture21': -0.22580638637186956,\n",
       " 'texture22': 0.0,\n",
       " 'texture23': 0.0,\n",
       " 'texture24': 0.0,\n",
       " 'texture25': -0.16129024198878003,\n",
       " 'texture26': 0.06451614438308952,\n",
       " 'texture27': 0.0,\n",
       " 'texture28': -0.09677409760569053,\n",
       " 'texture29': -0.06451614438308952,\n",
       " 'texture30': 0.0,\n",
       " 'texture31': -0.06451614438308952,\n",
       " 'texture32': -0.09677409760569053,\n",
       " 'texture33': 0.03225807219154476,\n",
       " 'texture34': -0.09677409760569053,\n",
       " 'texture35': -0.09677409760569053,\n",
       " 'texture36': -0.09677409760569053,\n",
       " 'texture37': 0.03225807219154476,\n",
       " 'texture38': -0.06451614438308952,\n",
       " 'texture39': -0.06451614438308952,\n",
       " 'texture40': 0.06451614438308952,\n",
       " 'texture41': 0.09677421657463428,\n",
       " 'texture42': 0.03225807219154476,\n",
       " 'texture43': 0.0,\n",
       " 'texture44': -0.03225807219154476,\n",
       " 'texture45': -0.06451614438308952,\n",
       " 'texture46': -0.03225807219154476,\n",
       " 'texture47': 0.0,\n",
       " 'texture48': 0.0,\n",
       " 'texture49': 0.0,\n",
       " 'texture50': -0.09677409760569053,\n",
       " 'texture51': 0.03225807219154476,\n",
       " 'texture52': -0.09677409760569053,\n",
       " 'texture53': -0.06451614438308952,\n",
       " 'texture54': -0.03225807219154476,\n",
       " 'texture55': 0.0,\n",
       " 'texture56': -0.06451614438308952,\n",
       " 'texture57': 0.03225807219154476,\n",
       " 'texture58': 0.03225807219154476,\n",
       " 'texture59': -0.09677409760569053,\n",
       " 'texture60': -0.03225807219154476,\n",
       " 'texture61': -0.03225807219154476,\n",
       " 'texture62': -0.06451614438308952,\n",
       " 'texture63': -0.09677409760569053,\n",
       " 'texture64': 0.0}"
      ]
     },
     "execution_count": 162,
     "metadata": {},
     "output_type": "execute_result"
    }
   ],
   "source": [
    "res.importance"
   ]
  },
  {
   "cell_type": "code",
   "execution_count": null,
   "metadata": {},
   "outputs": [],
   "source": []
  },
  {
   "cell_type": "code",
   "execution_count": null,
   "metadata": {},
   "outputs": [],
   "source": []
  },
  {
   "cell_type": "code",
   "execution_count": null,
   "metadata": {},
   "outputs": [],
   "source": []
  },
  {
   "cell_type": "markdown",
   "metadata": {},
   "source": [
    "## Custom Pytorch model\n",
    "\n",
    "### Create DataBlock with FastAI\n",
    "same as in the previous example"
   ]
  },
  {
   "cell_type": "code",
   "execution_count": 69,
   "metadata": {},
   "outputs": [],
   "source": [
    "df_tt = df_train.copy()\n",
    "df_tt.drop(['id'], axis=1, inplace=True)\n",
    "cont = list(df_tt.columns[1:-1])"
   ]
  },
  {
   "cell_type": "code",
   "execution_count": 70,
   "metadata": {},
   "outputs": [],
   "source": [
    "to = TabularPandas(df_tt, y_names=\"species\",\n",
    "    cat_names = None,\n",
    "    cont_names = cont,\n",
    "    #procs = Normalize,\n",
    "    y_block = CategoryBlock(),\n",
    "    splits = splits,\n",
    "    )\n",
    "\n",
    "dls = to.dataloaders(y_block = CategoryBlock())"
   ]
  },
  {
   "cell_type": "code",
   "execution_count": 203,
   "metadata": {},
   "outputs": [
    {
     "data": {
      "text/plain": [
       "((#192) ['margin1','margin2','margin3','margin4','margin5','margin6','margin7','margin8','margin9','margin10'...],\n",
       " (#0) [])"
      ]
     },
     "execution_count": 203,
     "metadata": {},
     "output_type": "execute_result"
    }
   ],
   "source": [
    "to.cont_names, to.cat_names"
   ]
  },
  {
   "cell_type": "code",
   "execution_count": 208,
   "metadata": {},
   "outputs": [
    {
     "data": {
      "text/plain": [
       "[]"
      ]
     },
     "execution_count": 208,
     "metadata": {},
     "output_type": "execute_result"
    }
   ],
   "source": [
    "emb_szs = get_emb_sz(to); emb_szs"
   ]
  },
  {
   "cell_type": "code",
   "execution_count": 126,
   "metadata": {},
   "outputs": [
    {
     "data": {
      "text/plain": [
       "<fastai.tabular.data.TabularDataLoaders at 0x7fb5c47f76d8>"
      ]
     },
     "execution_count": 126,
     "metadata": {},
     "output_type": "execute_result"
    }
   ],
   "source": [
    "learn.dls"
   ]
  },
  {
   "cell_type": "code",
   "execution_count": 63,
   "metadata": {},
   "outputs": [],
   "source": [
    "def conv(ni, nf, ks=3, act=True):\n",
    "    res = nn.Conv2d(ni, nf, stride=2, kernel_size=ks, padding=ks//2)\n",
    "    if act: res = nn.Sequential(res, nn.ReLU())\n",
    "    return res\n",
    "\n",
    "simple_cnn = sequential(\n",
    "    conv(1 ,4),            #14x14\n",
    "    conv(4 ,8),            #7x7\n",
    "    conv(8 ,16),           #4x4\n",
    "    conv(16,32),           #2x2\n",
    "    conv(32,99, act=False), #1x1\n",
    "    Flatten(),\n",
    ")"
   ]
  },
  {
   "cell_type": "code",
   "execution_count": 72,
   "metadata": {},
   "outputs": [],
   "source": [
    "learn = Learner(dls, simple_cnn, loss_func=F.cross_entropy, metrics=accuracy)"
   ]
  },
  {
   "cell_type": "code",
   "execution_count": 73,
   "metadata": {},
   "outputs": [
    {
     "data": {
      "text/html": [
       "<table border=\"1\" class=\"dataframe\">\n",
       "  <thead>\n",
       "    <tr style=\"text-align: left;\">\n",
       "      <th>epoch</th>\n",
       "      <th>train_loss</th>\n",
       "      <th>valid_loss</th>\n",
       "      <th>accuracy</th>\n",
       "      <th>time</th>\n",
       "    </tr>\n",
       "  </thead>\n",
       "  <tbody>\n",
       "    <tr>\n",
       "      <td>0</td>\n",
       "      <td>4.704057</td>\n",
       "      <td>4.653267</td>\n",
       "      <td>0.020202</td>\n",
       "      <td>00:01</td>\n",
       "    </tr>\n",
       "    <tr>\n",
       "      <td>1</td>\n",
       "      <td>4.657765</td>\n",
       "      <td>4.563469</td>\n",
       "      <td>0.020202</td>\n",
       "      <td>00:01</td>\n",
       "    </tr>\n",
       "  </tbody>\n",
       "</table>"
      ],
      "text/plain": [
       "<IPython.core.display.HTML object>"
      ]
     },
     "metadata": {},
     "output_type": "display_data"
    }
   ],
   "source": [
    "learn.fit_one_cycle(2, 0.01)"
   ]
  },
  {
   "cell_type": "code",
   "execution_count": 140,
   "metadata": {},
   "outputs": [
    {
     "data": {
      "text/html": [
       "<table border=\"1\" class=\"dataframe\">\n",
       "  <thead>\n",
       "    <tr style=\"text-align: left;\">\n",
       "      <th>epoch</th>\n",
       "      <th>train_loss</th>\n",
       "      <th>valid_loss</th>\n",
       "      <th>error_rate</th>\n",
       "      <th>time</th>\n",
       "    </tr>\n",
       "  </thead>\n",
       "  <tbody>\n",
       "    <tr>\n",
       "      <td>0</td>\n",
       "      <td>1.568419</td>\n",
       "      <td>1.003120</td>\n",
       "      <td>0.348485</td>\n",
       "      <td>00:14</td>\n",
       "    </tr>\n",
       "    <tr>\n",
       "      <td>1</td>\n",
       "      <td>1.494028</td>\n",
       "      <td>0.943785</td>\n",
       "      <td>0.318182</td>\n",
       "      <td>00:14</td>\n",
       "    </tr>\n",
       "    <tr>\n",
       "      <td>2</td>\n",
       "      <td>1.465132</td>\n",
       "      <td>0.906400</td>\n",
       "      <td>0.318182</td>\n",
       "      <td>00:14</td>\n",
       "    </tr>\n",
       "    <tr>\n",
       "      <td>3</td>\n",
       "      <td>1.439820</td>\n",
       "      <td>0.880632</td>\n",
       "      <td>0.313131</td>\n",
       "      <td>00:14</td>\n",
       "    </tr>\n",
       "    <tr>\n",
       "      <td>4</td>\n",
       "      <td>1.415471</td>\n",
       "      <td>0.889297</td>\n",
       "      <td>0.308081</td>\n",
       "      <td>00:15</td>\n",
       "    </tr>\n",
       "  </tbody>\n",
       "</table>"
      ],
      "text/plain": [
       "<IPython.core.display.HTML object>"
      ]
     },
     "metadata": {},
     "output_type": "display_data"
    }
   ],
   "source": [
    "learn.fit_one_cycle(5, 1e-5)"
   ]
  },
  {
   "cell_type": "code",
   "execution_count": 141,
   "metadata": {},
   "outputs": [
    {
     "data": {
      "text/html": [],
      "text/plain": [
       "<IPython.core.display.HTML object>"
      ]
     },
     "metadata": {},
     "output_type": "display_data"
    },
    {
     "data": {
      "text/plain": [
       "SuggestedLRs(lr_min=6.918309954926372e-05, lr_steep=1.3182567499825382e-06)"
      ]
     },
     "execution_count": 141,
     "metadata": {},
     "output_type": "execute_result"
    },
    {
     "data": {
      "image/png": "[encoded data removed]",
      "text/plain": [
       "<Figure size 432x288 with 1 Axes>"
      ]
     },
     "metadata": {
      "needs_background": "light"
     },
     "output_type": "display_data"
    }
   ],
   "source": [
    "learn.lr_find()"
   ]
  },
  {
   "cell_type": "code",
   "execution_count": 142,
   "metadata": {},
   "outputs": [
    {
     "data": {
      "text/html": [
       "<table border=\"1\" class=\"dataframe\">\n",
       "  <thead>\n",
       "    <tr style=\"text-align: left;\">\n",
       "      <th>epoch</th>\n",
       "      <th>train_loss</th>\n",
       "      <th>valid_loss</th>\n",
       "      <th>error_rate</th>\n",
       "      <th>time</th>\n",
       "    </tr>\n",
       "  </thead>\n",
       "  <tbody>\n",
       "    <tr>\n",
       "      <td>0</td>\n",
       "      <td>1.341269</td>\n",
       "      <td>0.823183</td>\n",
       "      <td>0.277778</td>\n",
       "      <td>00:14</td>\n",
       "    </tr>\n",
       "    <tr>\n",
       "      <td>1</td>\n",
       "      <td>1.338417</td>\n",
       "      <td>0.983785</td>\n",
       "      <td>0.318182</td>\n",
       "      <td>00:14</td>\n",
       "    </tr>\n",
       "    <tr>\n",
       "      <td>2</td>\n",
       "      <td>1.333424</td>\n",
       "      <td>0.885028</td>\n",
       "      <td>0.287879</td>\n",
       "      <td>00:14</td>\n",
       "    </tr>\n",
       "    <tr>\n",
       "      <td>3</td>\n",
       "      <td>1.258807</td>\n",
       "      <td>0.767303</td>\n",
       "      <td>0.257576</td>\n",
       "      <td>00:14</td>\n",
       "    </tr>\n",
       "    <tr>\n",
       "      <td>4</td>\n",
       "      <td>1.219950</td>\n",
       "      <td>0.734587</td>\n",
       "      <td>0.257576</td>\n",
       "      <td>00:14</td>\n",
       "    </tr>\n",
       "  </tbody>\n",
       "</table>"
      ],
      "text/plain": [
       "<IPython.core.display.HTML object>"
      ]
     },
     "metadata": {},
     "output_type": "display_data"
    }
   ],
   "source": [
    "learn.fit_one_cycle(5, 1e-4)"
   ]
  },
  {
   "cell_type": "code",
   "execution_count": 143,
   "metadata": {},
   "outputs": [
    {
     "data": {
      "text/html": [
       "<table border=\"1\" class=\"dataframe\">\n",
       "  <thead>\n",
       "    <tr style=\"text-align: left;\">\n",
       "      <th>epoch</th>\n",
       "      <th>train_loss</th>\n",
       "      <th>valid_loss</th>\n",
       "      <th>error_rate</th>\n",
       "      <th>time</th>\n",
       "    </tr>\n",
       "  </thead>\n",
       "  <tbody>\n",
       "    <tr>\n",
       "      <td>0</td>\n",
       "      <td>1.169144</td>\n",
       "      <td>1.889390</td>\n",
       "      <td>0.510101</td>\n",
       "      <td>00:14</td>\n",
       "    </tr>\n",
       "    <tr>\n",
       "      <td>1</td>\n",
       "      <td>2.061032</td>\n",
       "      <td>6.373356</td>\n",
       "      <td>0.863636</td>\n",
       "      <td>00:14</td>\n",
       "    </tr>\n",
       "    <tr>\n",
       "      <td>2</td>\n",
       "      <td>2.480366</td>\n",
       "      <td>3.241277</td>\n",
       "      <td>0.671717</td>\n",
       "      <td>00:14</td>\n",
       "    </tr>\n",
       "    <tr>\n",
       "      <td>3</td>\n",
       "      <td>2.446596</td>\n",
       "      <td>1.821882</td>\n",
       "      <td>0.590909</td>\n",
       "      <td>00:14</td>\n",
       "    </tr>\n",
       "    <tr>\n",
       "      <td>4</td>\n",
       "      <td>2.297384</td>\n",
       "      <td>1.395924</td>\n",
       "      <td>0.474747</td>\n",
       "      <td>00:14</td>\n",
       "    </tr>\n",
       "  </tbody>\n",
       "</table>"
      ],
      "text/plain": [
       "<IPython.core.display.HTML object>"
      ]
     },
     "metadata": {},
     "output_type": "display_data"
    }
   ],
   "source": [
    "learn.fit_one_cycle(5, 1e-3)"
   ]
  },
  {
   "cell_type": "code",
   "execution_count": null,
   "metadata": {},
   "outputs": [],
   "source": []
  },
  {
   "cell_type": "code",
   "execution_count": 188,
   "metadata": {},
   "outputs": [
    {
     "data": {
      "text/html": [
       "<table border=\"1\" class=\"dataframe\">\n",
       "  <thead>\n",
       "    <tr style=\"text-align: left;\">\n",
       "      <th>epoch</th>\n",
       "      <th>train_loss</th>\n",
       "      <th>valid_loss</th>\n",
       "      <th>accuracy</th>\n",
       "      <th>time</th>\n",
       "    </tr>\n",
       "  </thead>\n",
       "  <tbody>\n",
       "    <tr>\n",
       "      <td>0</td>\n",
       "      <td>8.526361</td>\n",
       "      <td>72.083611</td>\n",
       "      <td>0.010101</td>\n",
       "      <td>00:16</td>\n",
       "    </tr>\n",
       "  </tbody>\n",
       "</table>"
      ],
      "text/plain": [
       "<IPython.core.display.HTML object>"
      ]
     },
     "metadata": {},
     "output_type": "display_data"
    }
   ],
   "source": [
    "learn = cnn_learner(dls, resnet18, pretrained=True, metrics=accuracy)\n",
    "learn.fit_one_cycle(1, 0.1)"
   ]
  },
  {
   "cell_type": "code",
   "execution_count": 189,
   "metadata": {},
   "outputs": [
    {
     "data": {
      "text/html": [
       "<table border=\"1\" class=\"dataframe\">\n",
       "  <thead>\n",
       "    <tr style=\"text-align: left;\">\n",
       "      <th>epoch</th>\n",
       "      <th>train_loss</th>\n",
       "      <th>valid_loss</th>\n",
       "      <th>accuracy</th>\n",
       "      <th>time</th>\n",
       "    </tr>\n",
       "  </thead>\n",
       "  <tbody>\n",
       "    <tr>\n",
       "      <td>0</td>\n",
       "      <td>8.168875</td>\n",
       "      <td>14.335917</td>\n",
       "      <td>0.085859</td>\n",
       "      <td>00:16</td>\n",
       "    </tr>\n",
       "    <tr>\n",
       "      <td>1</td>\n",
       "      <td>8.235692</td>\n",
       "      <td>7.124974</td>\n",
       "      <td>0.146465</td>\n",
       "      <td>00:17</td>\n",
       "    </tr>\n",
       "    <tr>\n",
       "      <td>2</td>\n",
       "      <td>8.128841</td>\n",
       "      <td>6.687766</td>\n",
       "      <td>0.161616</td>\n",
       "      <td>00:16</td>\n",
       "    </tr>\n",
       "    <tr>\n",
       "      <td>3</td>\n",
       "      <td>8.012637</td>\n",
       "      <td>6.206076</td>\n",
       "      <td>0.186869</td>\n",
       "      <td>00:17</td>\n",
       "    </tr>\n",
       "    <tr>\n",
       "      <td>4</td>\n",
       "      <td>7.863090</td>\n",
       "      <td>6.087985</td>\n",
       "      <td>0.181818</td>\n",
       "      <td>00:17</td>\n",
       "    </tr>\n",
       "  </tbody>\n",
       "</table>"
      ],
      "text/plain": [
       "<IPython.core.display.HTML object>"
      ]
     },
     "metadata": {},
     "output_type": "display_data"
    }
   ],
   "source": [
    "learn.fit_one_cycle(5, 0.0001)"
   ]
  },
  {
   "cell_type": "code",
   "execution_count": null,
   "metadata": {},
   "outputs": [],
   "source": []
  }
 ],
 "metadata": {
  "kernelspec": {
   "display_name": "Python 3",
   "language": "python",
   "name": "python3"
  },
  "language_info": {
   "codemirror_mode": {
    "name": "ipython",
    "version": 3
   },
   "file_extension": ".py",
   "mimetype": "text/x-python",
   "name": "python",
   "nbconvert_exporter": "python",
   "pygments_lexer": "ipython3",
   "version": "3.6.3"
  }
 },
 "nbformat": 4,
 "nbformat_minor": 4
}
